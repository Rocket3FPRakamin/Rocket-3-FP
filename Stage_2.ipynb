{
  "cells": [
    {
      "cell_type": "code",
      "execution_count": null,
      "metadata": {
        "id": "2C2w0zrhNjrD"
      },
      "outputs": [],
      "source": [
        "import pandas as pd\n",
        "import numpy as np\n",
        "import matplotlib.pyplot as plt\n",
        "import seaborn as sns"
      ]
    },
    {
      "cell_type": "code",
      "execution_count": null,
      "metadata": {
        "colab": {
          "base_uri": "https://localhost:8080/"
        },
        "id": "jk5xtuLAO3dp",
        "outputId": "57f0ded3-c266-48b2-a7eb-7aaa4f6f18a3"
      },
      "outputs": [
        {
          "output_type": "stream",
          "name": "stdout",
          "text": [
            "Mounted at /content/drive\n"
          ]
        }
      ],
      "source": [
        "from google.colab import drive\n",
        "drive.mount('/content/drive')"
      ]
    },
    {
      "cell_type": "code",
      "execution_count": null,
      "metadata": {
        "colab": {
          "base_uri": "https://localhost:8080/",
          "height": 73
        },
        "id": "hkN5XHCWNVWn",
        "outputId": "b6d49337-f434-4e70-8aad-14fc3728be35"
      },
      "outputs": [
        {
          "output_type": "display_data",
          "data": {
            "text/plain": [
              "<IPython.core.display.HTML object>"
            ],
            "text/html": [
              "\n",
              "     <input type=\"file\" id=\"files-dd0c8cb9-34bc-4ee8-8682-85e15e6339bf\" name=\"files[]\" multiple disabled\n",
              "        style=\"border:none\" />\n",
              "     <output id=\"result-dd0c8cb9-34bc-4ee8-8682-85e15e6339bf\">\n",
              "      Upload widget is only available when the cell has been executed in the\n",
              "      current browser session. Please rerun this cell to enable.\n",
              "      </output>\n",
              "      <script>// Copyright 2017 Google LLC\n",
              "//\n",
              "// Licensed under the Apache License, Version 2.0 (the \"License\");\n",
              "// you may not use this file except in compliance with the License.\n",
              "// You may obtain a copy of the License at\n",
              "//\n",
              "//      http://www.apache.org/licenses/LICENSE-2.0\n",
              "//\n",
              "// Unless required by applicable law or agreed to in writing, software\n",
              "// distributed under the License is distributed on an \"AS IS\" BASIS,\n",
              "// WITHOUT WARRANTIES OR CONDITIONS OF ANY KIND, either express or implied.\n",
              "// See the License for the specific language governing permissions and\n",
              "// limitations under the License.\n",
              "\n",
              "/**\n",
              " * @fileoverview Helpers for google.colab Python module.\n",
              " */\n",
              "(function(scope) {\n",
              "function span(text, styleAttributes = {}) {\n",
              "  const element = document.createElement('span');\n",
              "  element.textContent = text;\n",
              "  for (const key of Object.keys(styleAttributes)) {\n",
              "    element.style[key] = styleAttributes[key];\n",
              "  }\n",
              "  return element;\n",
              "}\n",
              "\n",
              "// Max number of bytes which will be uploaded at a time.\n",
              "const MAX_PAYLOAD_SIZE = 100 * 1024;\n",
              "\n",
              "function _uploadFiles(inputId, outputId) {\n",
              "  const steps = uploadFilesStep(inputId, outputId);\n",
              "  const outputElement = document.getElementById(outputId);\n",
              "  // Cache steps on the outputElement to make it available for the next call\n",
              "  // to uploadFilesContinue from Python.\n",
              "  outputElement.steps = steps;\n",
              "\n",
              "  return _uploadFilesContinue(outputId);\n",
              "}\n",
              "\n",
              "// This is roughly an async generator (not supported in the browser yet),\n",
              "// where there are multiple asynchronous steps and the Python side is going\n",
              "// to poll for completion of each step.\n",
              "// This uses a Promise to block the python side on completion of each step,\n",
              "// then passes the result of the previous step as the input to the next step.\n",
              "function _uploadFilesContinue(outputId) {\n",
              "  const outputElement = document.getElementById(outputId);\n",
              "  const steps = outputElement.steps;\n",
              "\n",
              "  const next = steps.next(outputElement.lastPromiseValue);\n",
              "  return Promise.resolve(next.value.promise).then((value) => {\n",
              "    // Cache the last promise value to make it available to the next\n",
              "    // step of the generator.\n",
              "    outputElement.lastPromiseValue = value;\n",
              "    return next.value.response;\n",
              "  });\n",
              "}\n",
              "\n",
              "/**\n",
              " * Generator function which is called between each async step of the upload\n",
              " * process.\n",
              " * @param {string} inputId Element ID of the input file picker element.\n",
              " * @param {string} outputId Element ID of the output display.\n",
              " * @return {!Iterable<!Object>} Iterable of next steps.\n",
              " */\n",
              "function* uploadFilesStep(inputId, outputId) {\n",
              "  const inputElement = document.getElementById(inputId);\n",
              "  inputElement.disabled = false;\n",
              "\n",
              "  const outputElement = document.getElementById(outputId);\n",
              "  outputElement.innerHTML = '';\n",
              "\n",
              "  const pickedPromise = new Promise((resolve) => {\n",
              "    inputElement.addEventListener('change', (e) => {\n",
              "      resolve(e.target.files);\n",
              "    });\n",
              "  });\n",
              "\n",
              "  const cancel = document.createElement('button');\n",
              "  inputElement.parentElement.appendChild(cancel);\n",
              "  cancel.textContent = 'Cancel upload';\n",
              "  const cancelPromise = new Promise((resolve) => {\n",
              "    cancel.onclick = () => {\n",
              "      resolve(null);\n",
              "    };\n",
              "  });\n",
              "\n",
              "  // Wait for the user to pick the files.\n",
              "  const files = yield {\n",
              "    promise: Promise.race([pickedPromise, cancelPromise]),\n",
              "    response: {\n",
              "      action: 'starting',\n",
              "    }\n",
              "  };\n",
              "\n",
              "  cancel.remove();\n",
              "\n",
              "  // Disable the input element since further picks are not allowed.\n",
              "  inputElement.disabled = true;\n",
              "\n",
              "  if (!files) {\n",
              "    return {\n",
              "      response: {\n",
              "        action: 'complete',\n",
              "      }\n",
              "    };\n",
              "  }\n",
              "\n",
              "  for (const file of files) {\n",
              "    const li = document.createElement('li');\n",
              "    li.append(span(file.name, {fontWeight: 'bold'}));\n",
              "    li.append(span(\n",
              "        `(${file.type || 'n/a'}) - ${file.size} bytes, ` +\n",
              "        `last modified: ${\n",
              "            file.lastModifiedDate ? file.lastModifiedDate.toLocaleDateString() :\n",
              "                                    'n/a'} - `));\n",
              "    const percent = span('0% done');\n",
              "    li.appendChild(percent);\n",
              "\n",
              "    outputElement.appendChild(li);\n",
              "\n",
              "    const fileDataPromise = new Promise((resolve) => {\n",
              "      const reader = new FileReader();\n",
              "      reader.onload = (e) => {\n",
              "        resolve(e.target.result);\n",
              "      };\n",
              "      reader.readAsArrayBuffer(file);\n",
              "    });\n",
              "    // Wait for the data to be ready.\n",
              "    let fileData = yield {\n",
              "      promise: fileDataPromise,\n",
              "      response: {\n",
              "        action: 'continue',\n",
              "      }\n",
              "    };\n",
              "\n",
              "    // Use a chunked sending to avoid message size limits. See b/62115660.\n",
              "    let position = 0;\n",
              "    do {\n",
              "      const length = Math.min(fileData.byteLength - position, MAX_PAYLOAD_SIZE);\n",
              "      const chunk = new Uint8Array(fileData, position, length);\n",
              "      position += length;\n",
              "\n",
              "      const base64 = btoa(String.fromCharCode.apply(null, chunk));\n",
              "      yield {\n",
              "        response: {\n",
              "          action: 'append',\n",
              "          file: file.name,\n",
              "          data: base64,\n",
              "        },\n",
              "      };\n",
              "\n",
              "      let percentDone = fileData.byteLength === 0 ?\n",
              "          100 :\n",
              "          Math.round((position / fileData.byteLength) * 100);\n",
              "      percent.textContent = `${percentDone}% done`;\n",
              "\n",
              "    } while (position < fileData.byteLength);\n",
              "  }\n",
              "\n",
              "  // All done.\n",
              "  yield {\n",
              "    response: {\n",
              "      action: 'complete',\n",
              "    }\n",
              "  };\n",
              "}\n",
              "\n",
              "scope.google = scope.google || {};\n",
              "scope.google.colab = scope.google.colab || {};\n",
              "scope.google.colab._files = {\n",
              "  _uploadFiles,\n",
              "  _uploadFilesContinue,\n",
              "};\n",
              "})(self);\n",
              "</script> "
            ]
          },
          "metadata": {}
        },
        {
          "output_type": "stream",
          "name": "stdout",
          "text": [
            "Saving E Commerce Dataset.xlsx to E Commerce Dataset.xlsx\n"
          ]
        }
      ],
      "source": [
        "from google.colab import files\n",
        "uploaded = files.upload()"
      ]
    },
    {
      "cell_type": "code",
      "execution_count": null,
      "metadata": {
        "id": "Fxq_20eEQiiX"
      },
      "outputs": [],
      "source": [
        "df = pd.read_excel('E Commerce Dataset.xlsx', sheet_name='E Comm')"
      ]
    },
    {
      "cell_type": "markdown",
      "metadata": {
        "id": "qMxYrjsRXRS8"
      },
      "source": [
        "## 1. Data Cleansing"
      ]
    },
    {
      "cell_type": "markdown",
      "metadata": {
        "id": "SHO0dbqHx6qw"
      },
      "source": [
        "### A. Handle Missing Values\n"
      ]
    },
    {
      "cell_type": "code",
      "execution_count": null,
      "metadata": {
        "colab": {
          "base_uri": "https://localhost:8080/"
        },
        "id": "eJ2Muss_D_31",
        "outputId": "dc75888e-bee0-4a4f-96e0-4da50f1149b2"
      },
      "outputs": [
        {
          "output_type": "stream",
          "name": "stdout",
          "text": [
            "<class 'pandas.core.frame.DataFrame'>\n",
            "RangeIndex: 5630 entries, 0 to 5629\n",
            "Data columns (total 20 columns):\n",
            " #   Column                       Non-Null Count  Dtype  \n",
            "---  ------                       --------------  -----  \n",
            " 0   CustomerID                   5630 non-null   int64  \n",
            " 1   Churn                        5630 non-null   int64  \n",
            " 2   Tenure                       5366 non-null   float64\n",
            " 3   PreferredLoginDevice         5630 non-null   object \n",
            " 4   CityTier                     5630 non-null   int64  \n",
            " 5   WarehouseToHome              5379 non-null   float64\n",
            " 6   PreferredPaymentMode         5630 non-null   object \n",
            " 7   Gender                       5630 non-null   object \n",
            " 8   HourSpendOnApp               5375 non-null   float64\n",
            " 9   NumberOfDeviceRegistered     5630 non-null   int64  \n",
            " 10  PreferedOrderCat             5630 non-null   object \n",
            " 11  SatisfactionScore            5630 non-null   int64  \n",
            " 12  MaritalStatus                5630 non-null   object \n",
            " 13  NumberOfAddress              5630 non-null   int64  \n",
            " 14  Complain                     5630 non-null   int64  \n",
            " 15  OrderAmountHikeFromlastYear  5365 non-null   float64\n",
            " 16  CouponUsed                   5374 non-null   float64\n",
            " 17  OrderCount                   5372 non-null   float64\n",
            " 18  DaySinceLastOrder            5323 non-null   float64\n",
            " 19  CashbackAmount               5630 non-null   float64\n",
            "dtypes: float64(8), int64(7), object(5)\n",
            "memory usage: 879.8+ KB\n"
          ]
        }
      ],
      "source": [
        "df.info()"
      ]
    },
    {
      "cell_type": "code",
      "execution_count": null,
      "metadata": {
        "id": "bUEucIpSu6CV",
        "colab": {
          "base_uri": "https://localhost:8080/"
        },
        "outputId": "46339e8c-39ff-4503-ce50-87de3243b992"
      },
      "outputs": [
        {
          "output_type": "execute_result",
          "data": {
            "text/plain": [
              "CustomerID                       0\n",
              "Churn                            0\n",
              "Tenure                         264\n",
              "PreferredLoginDevice             0\n",
              "CityTier                         0\n",
              "WarehouseToHome                251\n",
              "PreferredPaymentMode             0\n",
              "Gender                           0\n",
              "HourSpendOnApp                 255\n",
              "NumberOfDeviceRegistered         0\n",
              "PreferedOrderCat                 0\n",
              "SatisfactionScore                0\n",
              "MaritalStatus                    0\n",
              "NumberOfAddress                  0\n",
              "Complain                         0\n",
              "OrderAmountHikeFromlastYear    265\n",
              "CouponUsed                     256\n",
              "OrderCount                     258\n",
              "DaySinceLastOrder              307\n",
              "CashbackAmount                   0\n",
              "dtype: int64"
            ]
          },
          "metadata": {},
          "execution_count": 7
        }
      ],
      "source": [
        "df.isna().sum()"
      ]
    },
    {
      "cell_type": "code",
      "execution_count": null,
      "metadata": {
        "colab": {
          "base_uri": "https://localhost:8080/",
          "height": 364
        },
        "id": "ZFafSkm5x1NQ",
        "outputId": "ec588435-aa87-4a64-a7ba-099980d23d2b"
      },
      "outputs": [
        {
          "output_type": "execute_result",
          "data": {
            "text/plain": [
              "         CustomerID        Churn       Tenure     CityTier  WarehouseToHome  \\\n",
              "count   5630.000000  5630.000000  5366.000000  5630.000000      5379.000000   \n",
              "mean   52815.500000     0.168384    10.189899     1.654707        15.639896   \n",
              "std     1625.385339     0.374240     8.557241     0.915389         8.531475   \n",
              "min    50001.000000     0.000000     0.000000     1.000000         5.000000   \n",
              "25%    51408.250000     0.000000     2.000000     1.000000         9.000000   \n",
              "50%    52815.500000     0.000000     9.000000     1.000000        14.000000   \n",
              "75%    54222.750000     0.000000    16.000000     3.000000        20.000000   \n",
              "max    55630.000000     1.000000    61.000000     3.000000       127.000000   \n",
              "\n",
              "       HourSpendOnApp  NumberOfDeviceRegistered  SatisfactionScore  \\\n",
              "count     5375.000000               5630.000000        5630.000000   \n",
              "mean         2.931535                  3.688988           3.066785   \n",
              "std          0.721926                  1.023999           1.380194   \n",
              "min          0.000000                  1.000000           1.000000   \n",
              "25%          2.000000                  3.000000           2.000000   \n",
              "50%          3.000000                  4.000000           3.000000   \n",
              "75%          3.000000                  4.000000           4.000000   \n",
              "max          5.000000                  6.000000           5.000000   \n",
              "\n",
              "       NumberOfAddress     Complain  OrderAmountHikeFromlastYear   CouponUsed  \\\n",
              "count      5630.000000  5630.000000                  5365.000000  5374.000000   \n",
              "mean          4.214032     0.284902                    15.707922     1.751023   \n",
              "std           2.583586     0.451408                     3.675485     1.894621   \n",
              "min           1.000000     0.000000                    11.000000     0.000000   \n",
              "25%           2.000000     0.000000                    13.000000     1.000000   \n",
              "50%           3.000000     0.000000                    15.000000     1.000000   \n",
              "75%           6.000000     1.000000                    18.000000     2.000000   \n",
              "max          22.000000     1.000000                    26.000000    16.000000   \n",
              "\n",
              "        OrderCount  DaySinceLastOrder  CashbackAmount  \n",
              "count  5372.000000        5323.000000     5630.000000  \n",
              "mean      3.008004           4.543491      177.223030  \n",
              "std       2.939680           3.654433       49.207036  \n",
              "min       1.000000           0.000000        0.000000  \n",
              "25%       1.000000           2.000000      145.770000  \n",
              "50%       2.000000           3.000000      163.280000  \n",
              "75%       3.000000           7.000000      196.392500  \n",
              "max      16.000000          46.000000      324.990000  "
            ],
            "text/html": [
              "\n",
              "  <div id=\"df-50d7faaa-6f6a-40cb-baa3-4c63ec3e1519\">\n",
              "    <div class=\"colab-df-container\">\n",
              "      <div>\n",
              "<style scoped>\n",
              "    .dataframe tbody tr th:only-of-type {\n",
              "        vertical-align: middle;\n",
              "    }\n",
              "\n",
              "    .dataframe tbody tr th {\n",
              "        vertical-align: top;\n",
              "    }\n",
              "\n",
              "    .dataframe thead th {\n",
              "        text-align: right;\n",
              "    }\n",
              "</style>\n",
              "<table border=\"1\" class=\"dataframe\">\n",
              "  <thead>\n",
              "    <tr style=\"text-align: right;\">\n",
              "      <th></th>\n",
              "      <th>CustomerID</th>\n",
              "      <th>Churn</th>\n",
              "      <th>Tenure</th>\n",
              "      <th>CityTier</th>\n",
              "      <th>WarehouseToHome</th>\n",
              "      <th>HourSpendOnApp</th>\n",
              "      <th>NumberOfDeviceRegistered</th>\n",
              "      <th>SatisfactionScore</th>\n",
              "      <th>NumberOfAddress</th>\n",
              "      <th>Complain</th>\n",
              "      <th>OrderAmountHikeFromlastYear</th>\n",
              "      <th>CouponUsed</th>\n",
              "      <th>OrderCount</th>\n",
              "      <th>DaySinceLastOrder</th>\n",
              "      <th>CashbackAmount</th>\n",
              "    </tr>\n",
              "  </thead>\n",
              "  <tbody>\n",
              "    <tr>\n",
              "      <th>count</th>\n",
              "      <td>5630.000000</td>\n",
              "      <td>5630.000000</td>\n",
              "      <td>5366.000000</td>\n",
              "      <td>5630.000000</td>\n",
              "      <td>5379.000000</td>\n",
              "      <td>5375.000000</td>\n",
              "      <td>5630.000000</td>\n",
              "      <td>5630.000000</td>\n",
              "      <td>5630.000000</td>\n",
              "      <td>5630.000000</td>\n",
              "      <td>5365.000000</td>\n",
              "      <td>5374.000000</td>\n",
              "      <td>5372.000000</td>\n",
              "      <td>5323.000000</td>\n",
              "      <td>5630.000000</td>\n",
              "    </tr>\n",
              "    <tr>\n",
              "      <th>mean</th>\n",
              "      <td>52815.500000</td>\n",
              "      <td>0.168384</td>\n",
              "      <td>10.189899</td>\n",
              "      <td>1.654707</td>\n",
              "      <td>15.639896</td>\n",
              "      <td>2.931535</td>\n",
              "      <td>3.688988</td>\n",
              "      <td>3.066785</td>\n",
              "      <td>4.214032</td>\n",
              "      <td>0.284902</td>\n",
              "      <td>15.707922</td>\n",
              "      <td>1.751023</td>\n",
              "      <td>3.008004</td>\n",
              "      <td>4.543491</td>\n",
              "      <td>177.223030</td>\n",
              "    </tr>\n",
              "    <tr>\n",
              "      <th>std</th>\n",
              "      <td>1625.385339</td>\n",
              "      <td>0.374240</td>\n",
              "      <td>8.557241</td>\n",
              "      <td>0.915389</td>\n",
              "      <td>8.531475</td>\n",
              "      <td>0.721926</td>\n",
              "      <td>1.023999</td>\n",
              "      <td>1.380194</td>\n",
              "      <td>2.583586</td>\n",
              "      <td>0.451408</td>\n",
              "      <td>3.675485</td>\n",
              "      <td>1.894621</td>\n",
              "      <td>2.939680</td>\n",
              "      <td>3.654433</td>\n",
              "      <td>49.207036</td>\n",
              "    </tr>\n",
              "    <tr>\n",
              "      <th>min</th>\n",
              "      <td>50001.000000</td>\n",
              "      <td>0.000000</td>\n",
              "      <td>0.000000</td>\n",
              "      <td>1.000000</td>\n",
              "      <td>5.000000</td>\n",
              "      <td>0.000000</td>\n",
              "      <td>1.000000</td>\n",
              "      <td>1.000000</td>\n",
              "      <td>1.000000</td>\n",
              "      <td>0.000000</td>\n",
              "      <td>11.000000</td>\n",
              "      <td>0.000000</td>\n",
              "      <td>1.000000</td>\n",
              "      <td>0.000000</td>\n",
              "      <td>0.000000</td>\n",
              "    </tr>\n",
              "    <tr>\n",
              "      <th>25%</th>\n",
              "      <td>51408.250000</td>\n",
              "      <td>0.000000</td>\n",
              "      <td>2.000000</td>\n",
              "      <td>1.000000</td>\n",
              "      <td>9.000000</td>\n",
              "      <td>2.000000</td>\n",
              "      <td>3.000000</td>\n",
              "      <td>2.000000</td>\n",
              "      <td>2.000000</td>\n",
              "      <td>0.000000</td>\n",
              "      <td>13.000000</td>\n",
              "      <td>1.000000</td>\n",
              "      <td>1.000000</td>\n",
              "      <td>2.000000</td>\n",
              "      <td>145.770000</td>\n",
              "    </tr>\n",
              "    <tr>\n",
              "      <th>50%</th>\n",
              "      <td>52815.500000</td>\n",
              "      <td>0.000000</td>\n",
              "      <td>9.000000</td>\n",
              "      <td>1.000000</td>\n",
              "      <td>14.000000</td>\n",
              "      <td>3.000000</td>\n",
              "      <td>4.000000</td>\n",
              "      <td>3.000000</td>\n",
              "      <td>3.000000</td>\n",
              "      <td>0.000000</td>\n",
              "      <td>15.000000</td>\n",
              "      <td>1.000000</td>\n",
              "      <td>2.000000</td>\n",
              "      <td>3.000000</td>\n",
              "      <td>163.280000</td>\n",
              "    </tr>\n",
              "    <tr>\n",
              "      <th>75%</th>\n",
              "      <td>54222.750000</td>\n",
              "      <td>0.000000</td>\n",
              "      <td>16.000000</td>\n",
              "      <td>3.000000</td>\n",
              "      <td>20.000000</td>\n",
              "      <td>3.000000</td>\n",
              "      <td>4.000000</td>\n",
              "      <td>4.000000</td>\n",
              "      <td>6.000000</td>\n",
              "      <td>1.000000</td>\n",
              "      <td>18.000000</td>\n",
              "      <td>2.000000</td>\n",
              "      <td>3.000000</td>\n",
              "      <td>7.000000</td>\n",
              "      <td>196.392500</td>\n",
              "    </tr>\n",
              "    <tr>\n",
              "      <th>max</th>\n",
              "      <td>55630.000000</td>\n",
              "      <td>1.000000</td>\n",
              "      <td>61.000000</td>\n",
              "      <td>3.000000</td>\n",
              "      <td>127.000000</td>\n",
              "      <td>5.000000</td>\n",
              "      <td>6.000000</td>\n",
              "      <td>5.000000</td>\n",
              "      <td>22.000000</td>\n",
              "      <td>1.000000</td>\n",
              "      <td>26.000000</td>\n",
              "      <td>16.000000</td>\n",
              "      <td>16.000000</td>\n",
              "      <td>46.000000</td>\n",
              "      <td>324.990000</td>\n",
              "    </tr>\n",
              "  </tbody>\n",
              "</table>\n",
              "</div>\n",
              "      <button class=\"colab-df-convert\" onclick=\"convertToInteractive('df-50d7faaa-6f6a-40cb-baa3-4c63ec3e1519')\"\n",
              "              title=\"Convert this dataframe to an interactive table.\"\n",
              "              style=\"display:none;\">\n",
              "        \n",
              "  <svg xmlns=\"http://www.w3.org/2000/svg\" height=\"24px\"viewBox=\"0 0 24 24\"\n",
              "       width=\"24px\">\n",
              "    <path d=\"M0 0h24v24H0V0z\" fill=\"none\"/>\n",
              "    <path d=\"M18.56 5.44l.94 2.06.94-2.06 2.06-.94-2.06-.94-.94-2.06-.94 2.06-2.06.94zm-11 1L8.5 8.5l.94-2.06 2.06-.94-2.06-.94L8.5 2.5l-.94 2.06-2.06.94zm10 10l.94 2.06.94-2.06 2.06-.94-2.06-.94-.94-2.06-.94 2.06-2.06.94z\"/><path d=\"M17.41 7.96l-1.37-1.37c-.4-.4-.92-.59-1.43-.59-.52 0-1.04.2-1.43.59L10.3 9.45l-7.72 7.72c-.78.78-.78 2.05 0 2.83L4 21.41c.39.39.9.59 1.41.59.51 0 1.02-.2 1.41-.59l7.78-7.78 2.81-2.81c.8-.78.8-2.07 0-2.86zM5.41 20L4 18.59l7.72-7.72 1.47 1.35L5.41 20z\"/>\n",
              "  </svg>\n",
              "      </button>\n",
              "      \n",
              "  <style>\n",
              "    .colab-df-container {\n",
              "      display:flex;\n",
              "      flex-wrap:wrap;\n",
              "      gap: 12px;\n",
              "    }\n",
              "\n",
              "    .colab-df-convert {\n",
              "      background-color: #E8F0FE;\n",
              "      border: none;\n",
              "      border-radius: 50%;\n",
              "      cursor: pointer;\n",
              "      display: none;\n",
              "      fill: #1967D2;\n",
              "      height: 32px;\n",
              "      padding: 0 0 0 0;\n",
              "      width: 32px;\n",
              "    }\n",
              "\n",
              "    .colab-df-convert:hover {\n",
              "      background-color: #E2EBFA;\n",
              "      box-shadow: 0px 1px 2px rgba(60, 64, 67, 0.3), 0px 1px 3px 1px rgba(60, 64, 67, 0.15);\n",
              "      fill: #174EA6;\n",
              "    }\n",
              "\n",
              "    [theme=dark] .colab-df-convert {\n",
              "      background-color: #3B4455;\n",
              "      fill: #D2E3FC;\n",
              "    }\n",
              "\n",
              "    [theme=dark] .colab-df-convert:hover {\n",
              "      background-color: #434B5C;\n",
              "      box-shadow: 0px 1px 3px 1px rgba(0, 0, 0, 0.15);\n",
              "      filter: drop-shadow(0px 1px 2px rgba(0, 0, 0, 0.3));\n",
              "      fill: #FFFFFF;\n",
              "    }\n",
              "  </style>\n",
              "\n",
              "      <script>\n",
              "        const buttonEl =\n",
              "          document.querySelector('#df-50d7faaa-6f6a-40cb-baa3-4c63ec3e1519 button.colab-df-convert');\n",
              "        buttonEl.style.display =\n",
              "          google.colab.kernel.accessAllowed ? 'block' : 'none';\n",
              "\n",
              "        async function convertToInteractive(key) {\n",
              "          const element = document.querySelector('#df-50d7faaa-6f6a-40cb-baa3-4c63ec3e1519');\n",
              "          const dataTable =\n",
              "            await google.colab.kernel.invokeFunction('convertToInteractive',\n",
              "                                                     [key], {});\n",
              "          if (!dataTable) return;\n",
              "\n",
              "          const docLinkHtml = 'Like what you see? Visit the ' +\n",
              "            '<a target=\"_blank\" href=https://colab.research.google.com/notebooks/data_table.ipynb>data table notebook</a>'\n",
              "            + ' to learn more about interactive tables.';\n",
              "          element.innerHTML = '';\n",
              "          dataTable['output_type'] = 'display_data';\n",
              "          await google.colab.output.renderOutput(dataTable, element);\n",
              "          const docLink = document.createElement('div');\n",
              "          docLink.innerHTML = docLinkHtml;\n",
              "          element.appendChild(docLink);\n",
              "        }\n",
              "      </script>\n",
              "    </div>\n",
              "  </div>\n",
              "  "
            ]
          },
          "metadata": {},
          "execution_count": 8
        }
      ],
      "source": [
        "df.describe()"
      ]
    },
    {
      "cell_type": "code",
      "execution_count": null,
      "metadata": {
        "id": "igXdfB-nuyWd"
      },
      "outputs": [],
      "source": [
        "df['Tenure'].fillna(df.Tenure.median(), inplace=True)\n",
        "df['WarehouseToHome'].fillna(df.WarehouseToHome.median(), inplace=True)\n",
        "df['HourSpendOnApp'].fillna(df.HourSpendOnApp.median(), inplace=True)\n",
        "df['OrderAmountHikeFromlastYear'].fillna(round(df.OrderAmountHikeFromlastYear.mean()), inplace=True)\n",
        "df['CouponUsed'].fillna(df.CouponUsed.median(), inplace=True)\n",
        "df['OrderCount'].fillna(df.OrderCount.median(), inplace=True)\n",
        "df['DaySinceLastOrder'].fillna(df.DaySinceLastOrder.median(), inplace=True)"
      ]
    },
    {
      "cell_type": "code",
      "execution_count": null,
      "metadata": {
        "colab": {
          "base_uri": "https://localhost:8080/"
        },
        "id": "m5wVKHI_vPXz",
        "outputId": "27adc040-8a32-4b9c-a962-f3de9590d9f0"
      },
      "outputs": [
        {
          "output_type": "execute_result",
          "data": {
            "text/plain": [
              "CustomerID                     0\n",
              "Churn                          0\n",
              "Tenure                         0\n",
              "PreferredLoginDevice           0\n",
              "CityTier                       0\n",
              "WarehouseToHome                0\n",
              "PreferredPaymentMode           0\n",
              "Gender                         0\n",
              "HourSpendOnApp                 0\n",
              "NumberOfDeviceRegistered       0\n",
              "PreferedOrderCat               0\n",
              "SatisfactionScore              0\n",
              "MaritalStatus                  0\n",
              "NumberOfAddress                0\n",
              "Complain                       0\n",
              "OrderAmountHikeFromlastYear    0\n",
              "CouponUsed                     0\n",
              "OrderCount                     0\n",
              "DaySinceLastOrder              0\n",
              "CashbackAmount                 0\n",
              "dtype: int64"
            ]
          },
          "metadata": {},
          "execution_count": 10
        }
      ],
      "source": [
        "df.isna().sum()"
      ]
    },
    {
      "cell_type": "markdown",
      "metadata": {
        "id": "xrEGlrUfyPo6"
      },
      "source": [
        "### B. Handle Duplicated Data"
      ]
    },
    {
      "cell_type": "code",
      "execution_count": null,
      "metadata": {
        "colab": {
          "base_uri": "https://localhost:8080/"
        },
        "id": "cYZ-Y7KGEA27",
        "outputId": "3a022ff1-0e84-46c3-d205-29c1535f7a47"
      },
      "outputs": [
        {
          "output_type": "execute_result",
          "data": {
            "text/plain": [
              "0"
            ]
          },
          "metadata": {},
          "execution_count": 11
        }
      ],
      "source": [
        "df.duplicated().sum()"
      ]
    },
    {
      "cell_type": "markdown",
      "metadata": {
        "id": "YPfQdv1ZyU7d"
      },
      "source": [
        "### C. Handle Outlier"
      ]
    },
    {
      "cell_type": "code",
      "execution_count": null,
      "metadata": {
        "id": "gMLLYBayUIGW"
      },
      "outputs": [],
      "source": [
        "# pengelompokan kolom berdasarkan jenisnya\n",
        "nums = ['Tenure', 'WarehouseToHome',\n",
        "       'HourSpendOnApp', 'NumberOfDeviceRegistered', 'SatisfactionScore',\n",
        "       'NumberOfAddress', 'OrderAmountHikeFromlastYear',\n",
        "       'CouponUsed', 'OrderCount', 'DaySinceLastOrder', 'CashbackAmount']\n",
        "cats = ['PreferredLoginDevice', 'PreferredPaymentMode', 'Gender', 'PreferedOrderCat', 'MaritalStatus']"
      ]
    },
    {
      "cell_type": "code",
      "source": [
        "df[nums].describe()"
      ],
      "metadata": {
        "colab": {
          "base_uri": "https://localhost:8080/",
          "height": 364
        },
        "id": "qrprZsbxQXbA",
        "outputId": "34b7bf7a-8190-451c-d06e-24e89ea110c1"
      },
      "execution_count": null,
      "outputs": [
        {
          "output_type": "execute_result",
          "data": {
            "text/plain": [
              "            Tenure  WarehouseToHome  HourSpendOnApp  NumberOfDeviceRegistered  \\\n",
              "count  5630.000000      5630.000000     5630.000000               5630.000000   \n",
              "mean     10.134103        15.566785        2.934636                  3.688988   \n",
              "std       8.357951         8.345961        0.705528                  1.023999   \n",
              "min       0.000000         5.000000        0.000000                  1.000000   \n",
              "25%       3.000000         9.000000        2.000000                  3.000000   \n",
              "50%       9.000000        14.000000        3.000000                  4.000000   \n",
              "75%      15.000000        20.000000        3.000000                  4.000000   \n",
              "max      61.000000       127.000000        5.000000                  6.000000   \n",
              "\n",
              "       SatisfactionScore  NumberOfAddress  OrderAmountHikeFromlastYear  \\\n",
              "count        5630.000000      5630.000000                  5630.000000   \n",
              "mean            3.066785         4.214032                    15.721670   \n",
              "std             1.380194         2.583586                     3.588459   \n",
              "min             1.000000         1.000000                    11.000000   \n",
              "25%             2.000000         2.000000                    13.000000   \n",
              "50%             3.000000         3.000000                    15.000000   \n",
              "75%             4.000000         6.000000                    18.000000   \n",
              "max             5.000000        22.000000                    26.000000   \n",
              "\n",
              "        CouponUsed   OrderCount  DaySinceLastOrder  CashbackAmount  \n",
              "count  5630.000000  5630.000000        5630.000000     5630.000000  \n",
              "mean      1.716874     2.961812           4.459325      177.223030  \n",
              "std       1.857640     2.879248           3.570626       49.207036  \n",
              "min       0.000000     1.000000           0.000000        0.000000  \n",
              "25%       1.000000     1.000000           2.000000      145.770000  \n",
              "50%       1.000000     2.000000           3.000000      163.280000  \n",
              "75%       2.000000     3.000000           7.000000      196.392500  \n",
              "max      16.000000    16.000000          46.000000      324.990000  "
            ],
            "text/html": [
              "\n",
              "  <div id=\"df-b4bc3bd8-6d5d-4797-934d-5571d90e3034\">\n",
              "    <div class=\"colab-df-container\">\n",
              "      <div>\n",
              "<style scoped>\n",
              "    .dataframe tbody tr th:only-of-type {\n",
              "        vertical-align: middle;\n",
              "    }\n",
              "\n",
              "    .dataframe tbody tr th {\n",
              "        vertical-align: top;\n",
              "    }\n",
              "\n",
              "    .dataframe thead th {\n",
              "        text-align: right;\n",
              "    }\n",
              "</style>\n",
              "<table border=\"1\" class=\"dataframe\">\n",
              "  <thead>\n",
              "    <tr style=\"text-align: right;\">\n",
              "      <th></th>\n",
              "      <th>Tenure</th>\n",
              "      <th>WarehouseToHome</th>\n",
              "      <th>HourSpendOnApp</th>\n",
              "      <th>NumberOfDeviceRegistered</th>\n",
              "      <th>SatisfactionScore</th>\n",
              "      <th>NumberOfAddress</th>\n",
              "      <th>OrderAmountHikeFromlastYear</th>\n",
              "      <th>CouponUsed</th>\n",
              "      <th>OrderCount</th>\n",
              "      <th>DaySinceLastOrder</th>\n",
              "      <th>CashbackAmount</th>\n",
              "    </tr>\n",
              "  </thead>\n",
              "  <tbody>\n",
              "    <tr>\n",
              "      <th>count</th>\n",
              "      <td>5630.000000</td>\n",
              "      <td>5630.000000</td>\n",
              "      <td>5630.000000</td>\n",
              "      <td>5630.000000</td>\n",
              "      <td>5630.000000</td>\n",
              "      <td>5630.000000</td>\n",
              "      <td>5630.000000</td>\n",
              "      <td>5630.000000</td>\n",
              "      <td>5630.000000</td>\n",
              "      <td>5630.000000</td>\n",
              "      <td>5630.000000</td>\n",
              "    </tr>\n",
              "    <tr>\n",
              "      <th>mean</th>\n",
              "      <td>10.134103</td>\n",
              "      <td>15.566785</td>\n",
              "      <td>2.934636</td>\n",
              "      <td>3.688988</td>\n",
              "      <td>3.066785</td>\n",
              "      <td>4.214032</td>\n",
              "      <td>15.721670</td>\n",
              "      <td>1.716874</td>\n",
              "      <td>2.961812</td>\n",
              "      <td>4.459325</td>\n",
              "      <td>177.223030</td>\n",
              "    </tr>\n",
              "    <tr>\n",
              "      <th>std</th>\n",
              "      <td>8.357951</td>\n",
              "      <td>8.345961</td>\n",
              "      <td>0.705528</td>\n",
              "      <td>1.023999</td>\n",
              "      <td>1.380194</td>\n",
              "      <td>2.583586</td>\n",
              "      <td>3.588459</td>\n",
              "      <td>1.857640</td>\n",
              "      <td>2.879248</td>\n",
              "      <td>3.570626</td>\n",
              "      <td>49.207036</td>\n",
              "    </tr>\n",
              "    <tr>\n",
              "      <th>min</th>\n",
              "      <td>0.000000</td>\n",
              "      <td>5.000000</td>\n",
              "      <td>0.000000</td>\n",
              "      <td>1.000000</td>\n",
              "      <td>1.000000</td>\n",
              "      <td>1.000000</td>\n",
              "      <td>11.000000</td>\n",
              "      <td>0.000000</td>\n",
              "      <td>1.000000</td>\n",
              "      <td>0.000000</td>\n",
              "      <td>0.000000</td>\n",
              "    </tr>\n",
              "    <tr>\n",
              "      <th>25%</th>\n",
              "      <td>3.000000</td>\n",
              "      <td>9.000000</td>\n",
              "      <td>2.000000</td>\n",
              "      <td>3.000000</td>\n",
              "      <td>2.000000</td>\n",
              "      <td>2.000000</td>\n",
              "      <td>13.000000</td>\n",
              "      <td>1.000000</td>\n",
              "      <td>1.000000</td>\n",
              "      <td>2.000000</td>\n",
              "      <td>145.770000</td>\n",
              "    </tr>\n",
              "    <tr>\n",
              "      <th>50%</th>\n",
              "      <td>9.000000</td>\n",
              "      <td>14.000000</td>\n",
              "      <td>3.000000</td>\n",
              "      <td>4.000000</td>\n",
              "      <td>3.000000</td>\n",
              "      <td>3.000000</td>\n",
              "      <td>15.000000</td>\n",
              "      <td>1.000000</td>\n",
              "      <td>2.000000</td>\n",
              "      <td>3.000000</td>\n",
              "      <td>163.280000</td>\n",
              "    </tr>\n",
              "    <tr>\n",
              "      <th>75%</th>\n",
              "      <td>15.000000</td>\n",
              "      <td>20.000000</td>\n",
              "      <td>3.000000</td>\n",
              "      <td>4.000000</td>\n",
              "      <td>4.000000</td>\n",
              "      <td>6.000000</td>\n",
              "      <td>18.000000</td>\n",
              "      <td>2.000000</td>\n",
              "      <td>3.000000</td>\n",
              "      <td>7.000000</td>\n",
              "      <td>196.392500</td>\n",
              "    </tr>\n",
              "    <tr>\n",
              "      <th>max</th>\n",
              "      <td>61.000000</td>\n",
              "      <td>127.000000</td>\n",
              "      <td>5.000000</td>\n",
              "      <td>6.000000</td>\n",
              "      <td>5.000000</td>\n",
              "      <td>22.000000</td>\n",
              "      <td>26.000000</td>\n",
              "      <td>16.000000</td>\n",
              "      <td>16.000000</td>\n",
              "      <td>46.000000</td>\n",
              "      <td>324.990000</td>\n",
              "    </tr>\n",
              "  </tbody>\n",
              "</table>\n",
              "</div>\n",
              "      <button class=\"colab-df-convert\" onclick=\"convertToInteractive('df-b4bc3bd8-6d5d-4797-934d-5571d90e3034')\"\n",
              "              title=\"Convert this dataframe to an interactive table.\"\n",
              "              style=\"display:none;\">\n",
              "        \n",
              "  <svg xmlns=\"http://www.w3.org/2000/svg\" height=\"24px\"viewBox=\"0 0 24 24\"\n",
              "       width=\"24px\">\n",
              "    <path d=\"M0 0h24v24H0V0z\" fill=\"none\"/>\n",
              "    <path d=\"M18.56 5.44l.94 2.06.94-2.06 2.06-.94-2.06-.94-.94-2.06-.94 2.06-2.06.94zm-11 1L8.5 8.5l.94-2.06 2.06-.94-2.06-.94L8.5 2.5l-.94 2.06-2.06.94zm10 10l.94 2.06.94-2.06 2.06-.94-2.06-.94-.94-2.06-.94 2.06-2.06.94z\"/><path d=\"M17.41 7.96l-1.37-1.37c-.4-.4-.92-.59-1.43-.59-.52 0-1.04.2-1.43.59L10.3 9.45l-7.72 7.72c-.78.78-.78 2.05 0 2.83L4 21.41c.39.39.9.59 1.41.59.51 0 1.02-.2 1.41-.59l7.78-7.78 2.81-2.81c.8-.78.8-2.07 0-2.86zM5.41 20L4 18.59l7.72-7.72 1.47 1.35L5.41 20z\"/>\n",
              "  </svg>\n",
              "      </button>\n",
              "      \n",
              "  <style>\n",
              "    .colab-df-container {\n",
              "      display:flex;\n",
              "      flex-wrap:wrap;\n",
              "      gap: 12px;\n",
              "    }\n",
              "\n",
              "    .colab-df-convert {\n",
              "      background-color: #E8F0FE;\n",
              "      border: none;\n",
              "      border-radius: 50%;\n",
              "      cursor: pointer;\n",
              "      display: none;\n",
              "      fill: #1967D2;\n",
              "      height: 32px;\n",
              "      padding: 0 0 0 0;\n",
              "      width: 32px;\n",
              "    }\n",
              "\n",
              "    .colab-df-convert:hover {\n",
              "      background-color: #E2EBFA;\n",
              "      box-shadow: 0px 1px 2px rgba(60, 64, 67, 0.3), 0px 1px 3px 1px rgba(60, 64, 67, 0.15);\n",
              "      fill: #174EA6;\n",
              "    }\n",
              "\n",
              "    [theme=dark] .colab-df-convert {\n",
              "      background-color: #3B4455;\n",
              "      fill: #D2E3FC;\n",
              "    }\n",
              "\n",
              "    [theme=dark] .colab-df-convert:hover {\n",
              "      background-color: #434B5C;\n",
              "      box-shadow: 0px 1px 3px 1px rgba(0, 0, 0, 0.15);\n",
              "      filter: drop-shadow(0px 1px 2px rgba(0, 0, 0, 0.3));\n",
              "      fill: #FFFFFF;\n",
              "    }\n",
              "  </style>\n",
              "\n",
              "      <script>\n",
              "        const buttonEl =\n",
              "          document.querySelector('#df-b4bc3bd8-6d5d-4797-934d-5571d90e3034 button.colab-df-convert');\n",
              "        buttonEl.style.display =\n",
              "          google.colab.kernel.accessAllowed ? 'block' : 'none';\n",
              "\n",
              "        async function convertToInteractive(key) {\n",
              "          const element = document.querySelector('#df-b4bc3bd8-6d5d-4797-934d-5571d90e3034');\n",
              "          const dataTable =\n",
              "            await google.colab.kernel.invokeFunction('convertToInteractive',\n",
              "                                                     [key], {});\n",
              "          if (!dataTable) return;\n",
              "\n",
              "          const docLinkHtml = 'Like what you see? Visit the ' +\n",
              "            '<a target=\"_blank\" href=https://colab.research.google.com/notebooks/data_table.ipynb>data table notebook</a>'\n",
              "            + ' to learn more about interactive tables.';\n",
              "          element.innerHTML = '';\n",
              "          dataTable['output_type'] = 'display_data';\n",
              "          await google.colab.output.renderOutput(dataTable, element);\n",
              "          const docLink = document.createElement('div');\n",
              "          docLink.innerHTML = docLinkHtml;\n",
              "          element.appendChild(docLink);\n",
              "        }\n",
              "      </script>\n",
              "    </div>\n",
              "  </div>\n",
              "  "
            ]
          },
          "metadata": {},
          "execution_count": 13
        }
      ]
    },
    {
      "cell_type": "code",
      "source": [
        "from scipy import stats"
      ],
      "metadata": {
        "id": "3sWbsSkYQdoq"
      },
      "execution_count": null,
      "outputs": []
    },
    {
      "cell_type": "code",
      "source": [
        "# Handling with zscore\n",
        "print(f'Jumlah baris sebelum memfilter outlier: {len(df)}')\n",
        "\n",
        "filtered_entries = np.array([True] * len(df))\n",
        "\n",
        "for col in ['Tenure', 'WarehouseToHome','CouponUsed', 'DaySinceLastOrder', 'CashbackAmount']:\n",
        "    zscore = abs(stats.zscore(df[col])) # hitung absolute z-scorenya\n",
        "    filtered_entries = (zscore < 3) & filtered_entries # keep yang kurang dari 3 absolute z-scorenya\n",
        "    \n",
        "df = df[filtered_entries] # filter, cuma ambil yang z-scorenya dibawah 3\n",
        "\n",
        "print(f'Jumlah baris setelah memfilter outlier: {len(df)}')"
      ],
      "metadata": {
        "colab": {
          "base_uri": "https://localhost:8080/"
        },
        "id": "sMm3qxX-Qm5_",
        "outputId": "2c7c999a-e6b6-4cba-9979-c386891f2e74"
      },
      "execution_count": null,
      "outputs": [
        {
          "output_type": "stream",
          "name": "stdout",
          "text": [
            "Jumlah baris sebelum memfilter outlier: 5630\n",
            "Jumlah baris setelah memfilter outlier: 5473\n"
          ]
        }
      ]
    },
    {
      "cell_type": "code",
      "source": [
        "df.describe()"
      ],
      "metadata": {
        "id": "rqHk1m6PRQ50",
        "outputId": "7d6036ad-08f0-4820-b98c-71701af33ae2",
        "colab": {
          "base_uri": "https://localhost:8080/",
          "height": 364
        }
      },
      "execution_count": null,
      "outputs": [
        {
          "output_type": "execute_result",
          "data": {
            "text/plain": [
              "         CustomerID       Churn       Tenure     CityTier  WarehouseToHome  \\\n",
              "count   5473.000000  5473.00000  5473.000000  5473.000000      5473.000000   \n",
              "mean   52807.604239     0.16956     9.970217     1.653572        15.511420   \n",
              "std     1626.902998     0.37528     8.231396     0.914388         8.048277   \n",
              "min    50001.000000     0.00000     0.000000     1.000000         5.000000   \n",
              "25%    51399.000000     0.00000     3.000000     1.000000         9.000000   \n",
              "50%    52791.000000     0.00000     9.000000     1.000000        14.000000   \n",
              "75%    54215.000000     0.00000    15.000000     3.000000        20.000000   \n",
              "max    55630.000000     1.00000    31.000000     3.000000        36.000000   \n",
              "\n",
              "       HourSpendOnApp  NumberOfDeviceRegistered  SatisfactionScore  \\\n",
              "count     5473.000000               5473.000000         5473.00000   \n",
              "mean         2.929107                  3.680614            3.06121   \n",
              "std          0.704582                  1.026309            1.37865   \n",
              "min          0.000000                  1.000000            1.00000   \n",
              "25%          2.000000                  3.000000            2.00000   \n",
              "50%          3.000000                  4.000000            3.00000   \n",
              "75%          3.000000                  4.000000            4.00000   \n",
              "max          5.000000                  6.000000            5.00000   \n",
              "\n",
              "       NumberOfAddress     Complain  OrderAmountHikeFromlastYear   CouponUsed  \\\n",
              "count      5473.000000  5473.000000                  5473.000000  5473.000000   \n",
              "mean          4.217248     0.286680                    15.718619     1.556550   \n",
              "std           2.585479     0.452252                     3.583299     1.451251   \n",
              "min           1.000000     0.000000                    11.000000     0.000000   \n",
              "25%           2.000000     0.000000                    13.000000     1.000000   \n",
              "50%           3.000000     0.000000                    15.000000     1.000000   \n",
              "75%           6.000000     1.000000                    18.000000     2.000000   \n",
              "max          22.000000     1.000000                    26.000000     7.000000   \n",
              "\n",
              "        OrderCount  DaySinceLastOrder  CashbackAmount  \n",
              "count  5473.000000        5473.000000     5473.000000  \n",
              "mean      2.789147           4.309154      176.248946  \n",
              "std       2.602387           3.322485       47.921656  \n",
              "min       1.000000           0.000000       37.000000  \n",
              "25%       1.000000           2.000000      145.610000  \n",
              "50%       2.000000           3.000000      162.430000  \n",
              "75%       3.000000           7.000000      193.770000  \n",
              "max      16.000000          15.000000      324.730000  "
            ],
            "text/html": [
              "\n",
              "  <div id=\"df-70e015a2-c1bd-40c2-80e7-e3e66800c528\">\n",
              "    <div class=\"colab-df-container\">\n",
              "      <div>\n",
              "<style scoped>\n",
              "    .dataframe tbody tr th:only-of-type {\n",
              "        vertical-align: middle;\n",
              "    }\n",
              "\n",
              "    .dataframe tbody tr th {\n",
              "        vertical-align: top;\n",
              "    }\n",
              "\n",
              "    .dataframe thead th {\n",
              "        text-align: right;\n",
              "    }\n",
              "</style>\n",
              "<table border=\"1\" class=\"dataframe\">\n",
              "  <thead>\n",
              "    <tr style=\"text-align: right;\">\n",
              "      <th></th>\n",
              "      <th>CustomerID</th>\n",
              "      <th>Churn</th>\n",
              "      <th>Tenure</th>\n",
              "      <th>CityTier</th>\n",
              "      <th>WarehouseToHome</th>\n",
              "      <th>HourSpendOnApp</th>\n",
              "      <th>NumberOfDeviceRegistered</th>\n",
              "      <th>SatisfactionScore</th>\n",
              "      <th>NumberOfAddress</th>\n",
              "      <th>Complain</th>\n",
              "      <th>OrderAmountHikeFromlastYear</th>\n",
              "      <th>CouponUsed</th>\n",
              "      <th>OrderCount</th>\n",
              "      <th>DaySinceLastOrder</th>\n",
              "      <th>CashbackAmount</th>\n",
              "    </tr>\n",
              "  </thead>\n",
              "  <tbody>\n",
              "    <tr>\n",
              "      <th>count</th>\n",
              "      <td>5473.000000</td>\n",
              "      <td>5473.00000</td>\n",
              "      <td>5473.000000</td>\n",
              "      <td>5473.000000</td>\n",
              "      <td>5473.000000</td>\n",
              "      <td>5473.000000</td>\n",
              "      <td>5473.000000</td>\n",
              "      <td>5473.00000</td>\n",
              "      <td>5473.000000</td>\n",
              "      <td>5473.000000</td>\n",
              "      <td>5473.000000</td>\n",
              "      <td>5473.000000</td>\n",
              "      <td>5473.000000</td>\n",
              "      <td>5473.000000</td>\n",
              "      <td>5473.000000</td>\n",
              "    </tr>\n",
              "    <tr>\n",
              "      <th>mean</th>\n",
              "      <td>52807.604239</td>\n",
              "      <td>0.16956</td>\n",
              "      <td>9.970217</td>\n",
              "      <td>1.653572</td>\n",
              "      <td>15.511420</td>\n",
              "      <td>2.929107</td>\n",
              "      <td>3.680614</td>\n",
              "      <td>3.06121</td>\n",
              "      <td>4.217248</td>\n",
              "      <td>0.286680</td>\n",
              "      <td>15.718619</td>\n",
              "      <td>1.556550</td>\n",
              "      <td>2.789147</td>\n",
              "      <td>4.309154</td>\n",
              "      <td>176.248946</td>\n",
              "    </tr>\n",
              "    <tr>\n",
              "      <th>std</th>\n",
              "      <td>1626.902998</td>\n",
              "      <td>0.37528</td>\n",
              "      <td>8.231396</td>\n",
              "      <td>0.914388</td>\n",
              "      <td>8.048277</td>\n",
              "      <td>0.704582</td>\n",
              "      <td>1.026309</td>\n",
              "      <td>1.37865</td>\n",
              "      <td>2.585479</td>\n",
              "      <td>0.452252</td>\n",
              "      <td>3.583299</td>\n",
              "      <td>1.451251</td>\n",
              "      <td>2.602387</td>\n",
              "      <td>3.322485</td>\n",
              "      <td>47.921656</td>\n",
              "    </tr>\n",
              "    <tr>\n",
              "      <th>min</th>\n",
              "      <td>50001.000000</td>\n",
              "      <td>0.00000</td>\n",
              "      <td>0.000000</td>\n",
              "      <td>1.000000</td>\n",
              "      <td>5.000000</td>\n",
              "      <td>0.000000</td>\n",
              "      <td>1.000000</td>\n",
              "      <td>1.00000</td>\n",
              "      <td>1.000000</td>\n",
              "      <td>0.000000</td>\n",
              "      <td>11.000000</td>\n",
              "      <td>0.000000</td>\n",
              "      <td>1.000000</td>\n",
              "      <td>0.000000</td>\n",
              "      <td>37.000000</td>\n",
              "    </tr>\n",
              "    <tr>\n",
              "      <th>25%</th>\n",
              "      <td>51399.000000</td>\n",
              "      <td>0.00000</td>\n",
              "      <td>3.000000</td>\n",
              "      <td>1.000000</td>\n",
              "      <td>9.000000</td>\n",
              "      <td>2.000000</td>\n",
              "      <td>3.000000</td>\n",
              "      <td>2.00000</td>\n",
              "      <td>2.000000</td>\n",
              "      <td>0.000000</td>\n",
              "      <td>13.000000</td>\n",
              "      <td>1.000000</td>\n",
              "      <td>1.000000</td>\n",
              "      <td>2.000000</td>\n",
              "      <td>145.610000</td>\n",
              "    </tr>\n",
              "    <tr>\n",
              "      <th>50%</th>\n",
              "      <td>52791.000000</td>\n",
              "      <td>0.00000</td>\n",
              "      <td>9.000000</td>\n",
              "      <td>1.000000</td>\n",
              "      <td>14.000000</td>\n",
              "      <td>3.000000</td>\n",
              "      <td>4.000000</td>\n",
              "      <td>3.00000</td>\n",
              "      <td>3.000000</td>\n",
              "      <td>0.000000</td>\n",
              "      <td>15.000000</td>\n",
              "      <td>1.000000</td>\n",
              "      <td>2.000000</td>\n",
              "      <td>3.000000</td>\n",
              "      <td>162.430000</td>\n",
              "    </tr>\n",
              "    <tr>\n",
              "      <th>75%</th>\n",
              "      <td>54215.000000</td>\n",
              "      <td>0.00000</td>\n",
              "      <td>15.000000</td>\n",
              "      <td>3.000000</td>\n",
              "      <td>20.000000</td>\n",
              "      <td>3.000000</td>\n",
              "      <td>4.000000</td>\n",
              "      <td>4.00000</td>\n",
              "      <td>6.000000</td>\n",
              "      <td>1.000000</td>\n",
              "      <td>18.000000</td>\n",
              "      <td>2.000000</td>\n",
              "      <td>3.000000</td>\n",
              "      <td>7.000000</td>\n",
              "      <td>193.770000</td>\n",
              "    </tr>\n",
              "    <tr>\n",
              "      <th>max</th>\n",
              "      <td>55630.000000</td>\n",
              "      <td>1.00000</td>\n",
              "      <td>31.000000</td>\n",
              "      <td>3.000000</td>\n",
              "      <td>36.000000</td>\n",
              "      <td>5.000000</td>\n",
              "      <td>6.000000</td>\n",
              "      <td>5.00000</td>\n",
              "      <td>22.000000</td>\n",
              "      <td>1.000000</td>\n",
              "      <td>26.000000</td>\n",
              "      <td>7.000000</td>\n",
              "      <td>16.000000</td>\n",
              "      <td>15.000000</td>\n",
              "      <td>324.730000</td>\n",
              "    </tr>\n",
              "  </tbody>\n",
              "</table>\n",
              "</div>\n",
              "      <button class=\"colab-df-convert\" onclick=\"convertToInteractive('df-70e015a2-c1bd-40c2-80e7-e3e66800c528')\"\n",
              "              title=\"Convert this dataframe to an interactive table.\"\n",
              "              style=\"display:none;\">\n",
              "        \n",
              "  <svg xmlns=\"http://www.w3.org/2000/svg\" height=\"24px\"viewBox=\"0 0 24 24\"\n",
              "       width=\"24px\">\n",
              "    <path d=\"M0 0h24v24H0V0z\" fill=\"none\"/>\n",
              "    <path d=\"M18.56 5.44l.94 2.06.94-2.06 2.06-.94-2.06-.94-.94-2.06-.94 2.06-2.06.94zm-11 1L8.5 8.5l.94-2.06 2.06-.94-2.06-.94L8.5 2.5l-.94 2.06-2.06.94zm10 10l.94 2.06.94-2.06 2.06-.94-2.06-.94-.94-2.06-.94 2.06-2.06.94z\"/><path d=\"M17.41 7.96l-1.37-1.37c-.4-.4-.92-.59-1.43-.59-.52 0-1.04.2-1.43.59L10.3 9.45l-7.72 7.72c-.78.78-.78 2.05 0 2.83L4 21.41c.39.39.9.59 1.41.59.51 0 1.02-.2 1.41-.59l7.78-7.78 2.81-2.81c.8-.78.8-2.07 0-2.86zM5.41 20L4 18.59l7.72-7.72 1.47 1.35L5.41 20z\"/>\n",
              "  </svg>\n",
              "      </button>\n",
              "      \n",
              "  <style>\n",
              "    .colab-df-container {\n",
              "      display:flex;\n",
              "      flex-wrap:wrap;\n",
              "      gap: 12px;\n",
              "    }\n",
              "\n",
              "    .colab-df-convert {\n",
              "      background-color: #E8F0FE;\n",
              "      border: none;\n",
              "      border-radius: 50%;\n",
              "      cursor: pointer;\n",
              "      display: none;\n",
              "      fill: #1967D2;\n",
              "      height: 32px;\n",
              "      padding: 0 0 0 0;\n",
              "      width: 32px;\n",
              "    }\n",
              "\n",
              "    .colab-df-convert:hover {\n",
              "      background-color: #E2EBFA;\n",
              "      box-shadow: 0px 1px 2px rgba(60, 64, 67, 0.3), 0px 1px 3px 1px rgba(60, 64, 67, 0.15);\n",
              "      fill: #174EA6;\n",
              "    }\n",
              "\n",
              "    [theme=dark] .colab-df-convert {\n",
              "      background-color: #3B4455;\n",
              "      fill: #D2E3FC;\n",
              "    }\n",
              "\n",
              "    [theme=dark] .colab-df-convert:hover {\n",
              "      background-color: #434B5C;\n",
              "      box-shadow: 0px 1px 3px 1px rgba(0, 0, 0, 0.15);\n",
              "      filter: drop-shadow(0px 1px 2px rgba(0, 0, 0, 0.3));\n",
              "      fill: #FFFFFF;\n",
              "    }\n",
              "  </style>\n",
              "\n",
              "      <script>\n",
              "        const buttonEl =\n",
              "          document.querySelector('#df-70e015a2-c1bd-40c2-80e7-e3e66800c528 button.colab-df-convert');\n",
              "        buttonEl.style.display =\n",
              "          google.colab.kernel.accessAllowed ? 'block' : 'none';\n",
              "\n",
              "        async function convertToInteractive(key) {\n",
              "          const element = document.querySelector('#df-70e015a2-c1bd-40c2-80e7-e3e66800c528');\n",
              "          const dataTable =\n",
              "            await google.colab.kernel.invokeFunction('convertToInteractive',\n",
              "                                                     [key], {});\n",
              "          if (!dataTable) return;\n",
              "\n",
              "          const docLinkHtml = 'Like what you see? Visit the ' +\n",
              "            '<a target=\"_blank\" href=https://colab.research.google.com/notebooks/data_table.ipynb>data table notebook</a>'\n",
              "            + ' to learn more about interactive tables.';\n",
              "          element.innerHTML = '';\n",
              "          dataTable['output_type'] = 'display_data';\n",
              "          await google.colab.output.renderOutput(dataTable, element);\n",
              "          const docLink = document.createElement('div');\n",
              "          docLink.innerHTML = docLinkHtml;\n",
              "          element.appendChild(docLink);\n",
              "        }\n",
              "      </script>\n",
              "    </div>\n",
              "  </div>\n",
              "  "
            ]
          },
          "metadata": {},
          "execution_count": 16
        }
      ]
    },
    {
      "cell_type": "code",
      "source": [
        "df['PreferredLoginDevice'].replace('Phone','Mobile Phone', inplace=True)\n",
        "df['PreferredPaymentMode'].replace('CC','Credit Card', inplace=True)\n",
        "df['PreferredPaymentMode'].replace('Cash on Delivery','COD', inplace=True)\n",
        "df['PreferedOrderCat'].replace('Mobile','Mobile Phone', inplace=True)"
      ],
      "metadata": {
        "id": "xFWgkEIcUECo"
      },
      "execution_count": null,
      "outputs": []
    },
    {
      "cell_type": "code",
      "source": [
        "print (\"Number of Every Distinct Categorical Feature After Standardization\\n\")\n",
        "\n",
        "for col_name in df.columns:\n",
        "    if df[col_name].dtypes =='object':\n",
        "        print ('\\nNumber of unique category in {} : {}'.format(col_name, df[col_name].nunique()))\n",
        "        print ('The values are :')\n",
        "        print (df[col_name].value_counts())"
      ],
      "metadata": {
        "colab": {
          "base_uri": "https://localhost:8080/"
        },
        "id": "C3j1DoxRUGJF",
        "outputId": "f8677ef4-c6e2-4e86-dbde-621a0c83f73d"
      },
      "execution_count": null,
      "outputs": [
        {
          "output_type": "stream",
          "name": "stdout",
          "text": [
            "Number of Every Distinct Categorical Feature After Standardization\n",
            "\n",
            "\n",
            "Number of unique category in PreferredLoginDevice : 2\n",
            "The values are :\n",
            "Mobile Phone    3878\n",
            "Computer        1595\n",
            "Name: PreferredLoginDevice, dtype: int64\n",
            "\n",
            "Number of unique category in PreferredPaymentMode : 5\n",
            "The values are :\n",
            "Debit Card     2249\n",
            "Credit Card    1729\n",
            "E wallet        592\n",
            "COD             499\n",
            "UPI             404\n",
            "Name: PreferredPaymentMode, dtype: int64\n",
            "\n",
            "Number of unique category in Gender : 2\n",
            "The values are :\n",
            "Male      3288\n",
            "Female    2185\n",
            "Name: Gender, dtype: int64\n",
            "\n",
            "Number of unique category in PreferedOrderCat : 5\n",
            "The values are :\n",
            "Mobile Phone          2057\n",
            "Laptop & Accessory    2015\n",
            "Fashion                786\n",
            "Grocery                369\n",
            "Others                 246\n",
            "Name: PreferedOrderCat, dtype: int64\n",
            "\n",
            "Number of unique category in MaritalStatus : 3\n",
            "The values are :\n",
            "Married     2904\n",
            "Single      1756\n",
            "Divorced     813\n",
            "Name: MaritalStatus, dtype: int64\n"
          ]
        }
      ]
    },
    {
      "cell_type": "markdown",
      "metadata": {
        "id": "gGrxTwL4yZ7l"
      },
      "source": [
        "### D. Feature Transformation"
      ]
    },
    {
      "cell_type": "code",
      "execution_count": null,
      "metadata": {
        "id": "fFR8rCuVEB3N"
      },
      "outputs": [],
      "source": [
        "from sklearn.preprocessing import MinMaxScaler, StandardScaler"
      ]
    },
    {
      "cell_type": "code",
      "source": [
        "from scipy.stats import skew, kurtosis"
      ],
      "metadata": {
        "id": "W-rgIMivAM8V"
      },
      "execution_count": null,
      "outputs": []
    },
    {
      "cell_type": "code",
      "source": [
        "feature_trans = nums.copy()\n",
        "del feature_trans[:2]\n",
        "feature_normal = []\n",
        "feature_non_normal = []\n",
        "\n",
        "for i in feature_trans:\n",
        "  skw = skew(df[i])\n",
        "  kts = kurtosis(df[i])\n",
        "  if skw < 2 and skw > -2:\n",
        "    if kts < 2 and kts > -2:\n",
        "      feature_normal.append(i)\n",
        "    else:\n",
        "      feature_non_normal.append(i)\n",
        "  else:\n",
        "    feature_non_normal.append(i)\n",
        "\n",
        "print('Distribusi Normal:', feature_normal)\n",
        "print('Distribusi Non Normal:', feature_non_normal)"
      ],
      "metadata": {
        "colab": {
          "base_uri": "https://localhost:8080/"
        },
        "id": "sjFFINOpAOqf",
        "outputId": "690cc9a6-8dcf-4aae-ce9a-604ba0533585"
      },
      "execution_count": null,
      "outputs": [
        {
          "output_type": "stream",
          "name": "stdout",
          "text": [
            "Distribusi Normal: ['HourSpendOnApp', 'NumberOfDeviceRegistered', 'SatisfactionScore', 'NumberOfAddress', 'OrderAmountHikeFromlastYear', 'DaySinceLastOrder', 'CashbackAmount']\n",
            "Distribusi Non Normal: ['CouponUsed', 'OrderCount']\n"
          ]
        }
      ]
    },
    {
      "cell_type": "code",
      "source": [
        "from sklearn.model_selection import train_test_split"
      ],
      "metadata": {
        "id": "3JbYnJqLAWQ5"
      },
      "execution_count": null,
      "outputs": []
    },
    {
      "cell_type": "code",
      "source": [
        "feature = df.columns.tolist()\n",
        "del feature[:2]\n",
        "feature"
      ],
      "metadata": {
        "colab": {
          "base_uri": "https://localhost:8080/"
        },
        "id": "zCQDylCmAbbz",
        "outputId": "73d4ca95-a2a7-4699-877a-114e14ce414e"
      },
      "execution_count": null,
      "outputs": [
        {
          "output_type": "execute_result",
          "data": {
            "text/plain": [
              "['Tenure',\n",
              " 'PreferredLoginDevice',\n",
              " 'CityTier',\n",
              " 'WarehouseToHome',\n",
              " 'PreferredPaymentMode',\n",
              " 'Gender',\n",
              " 'HourSpendOnApp',\n",
              " 'NumberOfDeviceRegistered',\n",
              " 'PreferedOrderCat',\n",
              " 'SatisfactionScore',\n",
              " 'MaritalStatus',\n",
              " 'NumberOfAddress',\n",
              " 'Complain',\n",
              " 'OrderAmountHikeFromlastYear',\n",
              " 'CouponUsed',\n",
              " 'OrderCount',\n",
              " 'DaySinceLastOrder',\n",
              " 'CashbackAmount']"
            ]
          },
          "metadata": {},
          "execution_count": 23
        }
      ]
    },
    {
      "cell_type": "code",
      "source": [
        "transform = feature_normal + feature_non_normal\n",
        "X = df[feature]\n",
        "y = df['Churn']\n",
        "\n",
        "X_train, X_test, y_train, y_test = train_test_split(X, y, test_size=0.3, random_state=3)"
      ],
      "metadata": {
        "id": "rcdvq9wgAg91"
      },
      "execution_count": null,
      "outputs": []
    },
    {
      "cell_type": "code",
      "source": [
        "from sklearn.preprocessing import StandardScaler"
      ],
      "metadata": {
        "id": "uZMT-e9fAmFZ"
      },
      "execution_count": null,
      "outputs": []
    },
    {
      "cell_type": "code",
      "source": [
        "for i in transform:\n",
        "  scaler = StandardScaler().fit(X_train[[i]])\n",
        "  X_train[i] = scaler.transform(X_train[[i]])\n",
        "  X_test[i] = scaler.transform(X_test[[i]])\n",
        "\n",
        "X_train.head()"
      ],
      "metadata": {
        "colab": {
          "base_uri": "https://localhost:8080/",
          "height": 305
        },
        "id": "q_ji1OK1Aou8",
        "outputId": "7b396060-ffba-47ba-e7fb-0e395980b151"
      },
      "execution_count": null,
      "outputs": [
        {
          "output_type": "execute_result",
          "data": {
            "text/plain": [
              "      Tenure PreferredLoginDevice  CityTier  WarehouseToHome  \\\n",
              "1261     0.0         Mobile Phone         1              6.0   \n",
              "899     20.0         Mobile Phone         1              8.0   \n",
              "2179     7.0         Mobile Phone         3             15.0   \n",
              "2292    15.0         Mobile Phone         3             11.0   \n",
              "3664     1.0             Computer         3              9.0   \n",
              "\n",
              "     PreferredPaymentMode  Gender  HourSpendOnApp  NumberOfDeviceRegistered  \\\n",
              "1261          Credit Card    Male        0.103593                 -0.669688   \n",
              "899           Credit Card  Female       -1.323976                 -0.669688   \n",
              "2179           Debit Card  Female        0.103593                 -0.669688   \n",
              "2292           Debit Card    Male        0.103593                 -0.669688   \n",
              "3664           Debit Card    Male        0.103593                  2.273610   \n",
              "\n",
              "        PreferedOrderCat  SatisfactionScore MaritalStatus  NumberOfAddress  \\\n",
              "1261        Mobile Phone           1.387096        Single        -1.254772   \n",
              "899              Grocery          -0.059471      Divorced        -0.088206   \n",
              "2179  Laptop & Accessory          -0.059471       Married        -0.865916   \n",
              "2292             Fashion           0.663812        Single         2.244927   \n",
              "3664  Laptop & Accessory          -0.782755        Single         0.300650   \n",
              "\n",
              "      Complain  OrderAmountHikeFromlastYear  CouponUsed  OrderCount  \\\n",
              "1261         0                    -0.760671    1.029782    1.646870   \n",
              "899          0                     0.911714   -0.375917    0.870358   \n",
              "2179         0                     1.190445   -1.078767   -0.682666   \n",
              "2292         1                     0.911714    3.841181    1.646870   \n",
              "3664         0                     1.469176    0.326932   -0.294410   \n",
              "\n",
              "      DaySinceLastOrder  CashbackAmount  \n",
              "1261           0.508553       -0.998946  \n",
              "899            0.508553        2.005813  \n",
              "2179          -0.393144       -0.400810  \n",
              "2292           0.809119        0.173166  \n",
              "3664          -0.994276       -0.010666  "
            ],
            "text/html": [
              "\n",
              "  <div id=\"df-9738c787-50ed-43d9-9b18-d2e4839f142b\">\n",
              "    <div class=\"colab-df-container\">\n",
              "      <div>\n",
              "<style scoped>\n",
              "    .dataframe tbody tr th:only-of-type {\n",
              "        vertical-align: middle;\n",
              "    }\n",
              "\n",
              "    .dataframe tbody tr th {\n",
              "        vertical-align: top;\n",
              "    }\n",
              "\n",
              "    .dataframe thead th {\n",
              "        text-align: right;\n",
              "    }\n",
              "</style>\n",
              "<table border=\"1\" class=\"dataframe\">\n",
              "  <thead>\n",
              "    <tr style=\"text-align: right;\">\n",
              "      <th></th>\n",
              "      <th>Tenure</th>\n",
              "      <th>PreferredLoginDevice</th>\n",
              "      <th>CityTier</th>\n",
              "      <th>WarehouseToHome</th>\n",
              "      <th>PreferredPaymentMode</th>\n",
              "      <th>Gender</th>\n",
              "      <th>HourSpendOnApp</th>\n",
              "      <th>NumberOfDeviceRegistered</th>\n",
              "      <th>PreferedOrderCat</th>\n",
              "      <th>SatisfactionScore</th>\n",
              "      <th>MaritalStatus</th>\n",
              "      <th>NumberOfAddress</th>\n",
              "      <th>Complain</th>\n",
              "      <th>OrderAmountHikeFromlastYear</th>\n",
              "      <th>CouponUsed</th>\n",
              "      <th>OrderCount</th>\n",
              "      <th>DaySinceLastOrder</th>\n",
              "      <th>CashbackAmount</th>\n",
              "    </tr>\n",
              "  </thead>\n",
              "  <tbody>\n",
              "    <tr>\n",
              "      <th>1261</th>\n",
              "      <td>0.0</td>\n",
              "      <td>Mobile Phone</td>\n",
              "      <td>1</td>\n",
              "      <td>6.0</td>\n",
              "      <td>Credit Card</td>\n",
              "      <td>Male</td>\n",
              "      <td>0.103593</td>\n",
              "      <td>-0.669688</td>\n",
              "      <td>Mobile Phone</td>\n",
              "      <td>1.387096</td>\n",
              "      <td>Single</td>\n",
              "      <td>-1.254772</td>\n",
              "      <td>0</td>\n",
              "      <td>-0.760671</td>\n",
              "      <td>1.029782</td>\n",
              "      <td>1.646870</td>\n",
              "      <td>0.508553</td>\n",
              "      <td>-0.998946</td>\n",
              "    </tr>\n",
              "    <tr>\n",
              "      <th>899</th>\n",
              "      <td>20.0</td>\n",
              "      <td>Mobile Phone</td>\n",
              "      <td>1</td>\n",
              "      <td>8.0</td>\n",
              "      <td>Credit Card</td>\n",
              "      <td>Female</td>\n",
              "      <td>-1.323976</td>\n",
              "      <td>-0.669688</td>\n",
              "      <td>Grocery</td>\n",
              "      <td>-0.059471</td>\n",
              "      <td>Divorced</td>\n",
              "      <td>-0.088206</td>\n",
              "      <td>0</td>\n",
              "      <td>0.911714</td>\n",
              "      <td>-0.375917</td>\n",
              "      <td>0.870358</td>\n",
              "      <td>0.508553</td>\n",
              "      <td>2.005813</td>\n",
              "    </tr>\n",
              "    <tr>\n",
              "      <th>2179</th>\n",
              "      <td>7.0</td>\n",
              "      <td>Mobile Phone</td>\n",
              "      <td>3</td>\n",
              "      <td>15.0</td>\n",
              "      <td>Debit Card</td>\n",
              "      <td>Female</td>\n",
              "      <td>0.103593</td>\n",
              "      <td>-0.669688</td>\n",
              "      <td>Laptop &amp; Accessory</td>\n",
              "      <td>-0.059471</td>\n",
              "      <td>Married</td>\n",
              "      <td>-0.865916</td>\n",
              "      <td>0</td>\n",
              "      <td>1.190445</td>\n",
              "      <td>-1.078767</td>\n",
              "      <td>-0.682666</td>\n",
              "      <td>-0.393144</td>\n",
              "      <td>-0.400810</td>\n",
              "    </tr>\n",
              "    <tr>\n",
              "      <th>2292</th>\n",
              "      <td>15.0</td>\n",
              "      <td>Mobile Phone</td>\n",
              "      <td>3</td>\n",
              "      <td>11.0</td>\n",
              "      <td>Debit Card</td>\n",
              "      <td>Male</td>\n",
              "      <td>0.103593</td>\n",
              "      <td>-0.669688</td>\n",
              "      <td>Fashion</td>\n",
              "      <td>0.663812</td>\n",
              "      <td>Single</td>\n",
              "      <td>2.244927</td>\n",
              "      <td>1</td>\n",
              "      <td>0.911714</td>\n",
              "      <td>3.841181</td>\n",
              "      <td>1.646870</td>\n",
              "      <td>0.809119</td>\n",
              "      <td>0.173166</td>\n",
              "    </tr>\n",
              "    <tr>\n",
              "      <th>3664</th>\n",
              "      <td>1.0</td>\n",
              "      <td>Computer</td>\n",
              "      <td>3</td>\n",
              "      <td>9.0</td>\n",
              "      <td>Debit Card</td>\n",
              "      <td>Male</td>\n",
              "      <td>0.103593</td>\n",
              "      <td>2.273610</td>\n",
              "      <td>Laptop &amp; Accessory</td>\n",
              "      <td>-0.782755</td>\n",
              "      <td>Single</td>\n",
              "      <td>0.300650</td>\n",
              "      <td>0</td>\n",
              "      <td>1.469176</td>\n",
              "      <td>0.326932</td>\n",
              "      <td>-0.294410</td>\n",
              "      <td>-0.994276</td>\n",
              "      <td>-0.010666</td>\n",
              "    </tr>\n",
              "  </tbody>\n",
              "</table>\n",
              "</div>\n",
              "      <button class=\"colab-df-convert\" onclick=\"convertToInteractive('df-9738c787-50ed-43d9-9b18-d2e4839f142b')\"\n",
              "              title=\"Convert this dataframe to an interactive table.\"\n",
              "              style=\"display:none;\">\n",
              "        \n",
              "  <svg xmlns=\"http://www.w3.org/2000/svg\" height=\"24px\"viewBox=\"0 0 24 24\"\n",
              "       width=\"24px\">\n",
              "    <path d=\"M0 0h24v24H0V0z\" fill=\"none\"/>\n",
              "    <path d=\"M18.56 5.44l.94 2.06.94-2.06 2.06-.94-2.06-.94-.94-2.06-.94 2.06-2.06.94zm-11 1L8.5 8.5l.94-2.06 2.06-.94-2.06-.94L8.5 2.5l-.94 2.06-2.06.94zm10 10l.94 2.06.94-2.06 2.06-.94-2.06-.94-.94-2.06-.94 2.06-2.06.94z\"/><path d=\"M17.41 7.96l-1.37-1.37c-.4-.4-.92-.59-1.43-.59-.52 0-1.04.2-1.43.59L10.3 9.45l-7.72 7.72c-.78.78-.78 2.05 0 2.83L4 21.41c.39.39.9.59 1.41.59.51 0 1.02-.2 1.41-.59l7.78-7.78 2.81-2.81c.8-.78.8-2.07 0-2.86zM5.41 20L4 18.59l7.72-7.72 1.47 1.35L5.41 20z\"/>\n",
              "  </svg>\n",
              "      </button>\n",
              "      \n",
              "  <style>\n",
              "    .colab-df-container {\n",
              "      display:flex;\n",
              "      flex-wrap:wrap;\n",
              "      gap: 12px;\n",
              "    }\n",
              "\n",
              "    .colab-df-convert {\n",
              "      background-color: #E8F0FE;\n",
              "      border: none;\n",
              "      border-radius: 50%;\n",
              "      cursor: pointer;\n",
              "      display: none;\n",
              "      fill: #1967D2;\n",
              "      height: 32px;\n",
              "      padding: 0 0 0 0;\n",
              "      width: 32px;\n",
              "    }\n",
              "\n",
              "    .colab-df-convert:hover {\n",
              "      background-color: #E2EBFA;\n",
              "      box-shadow: 0px 1px 2px rgba(60, 64, 67, 0.3), 0px 1px 3px 1px rgba(60, 64, 67, 0.15);\n",
              "      fill: #174EA6;\n",
              "    }\n",
              "\n",
              "    [theme=dark] .colab-df-convert {\n",
              "      background-color: #3B4455;\n",
              "      fill: #D2E3FC;\n",
              "    }\n",
              "\n",
              "    [theme=dark] .colab-df-convert:hover {\n",
              "      background-color: #434B5C;\n",
              "      box-shadow: 0px 1px 3px 1px rgba(0, 0, 0, 0.15);\n",
              "      filter: drop-shadow(0px 1px 2px rgba(0, 0, 0, 0.3));\n",
              "      fill: #FFFFFF;\n",
              "    }\n",
              "  </style>\n",
              "\n",
              "      <script>\n",
              "        const buttonEl =\n",
              "          document.querySelector('#df-9738c787-50ed-43d9-9b18-d2e4839f142b button.colab-df-convert');\n",
              "        buttonEl.style.display =\n",
              "          google.colab.kernel.accessAllowed ? 'block' : 'none';\n",
              "\n",
              "        async function convertToInteractive(key) {\n",
              "          const element = document.querySelector('#df-9738c787-50ed-43d9-9b18-d2e4839f142b');\n",
              "          const dataTable =\n",
              "            await google.colab.kernel.invokeFunction('convertToInteractive',\n",
              "                                                     [key], {});\n",
              "          if (!dataTable) return;\n",
              "\n",
              "          const docLinkHtml = 'Like what you see? Visit the ' +\n",
              "            '<a target=\"_blank\" href=https://colab.research.google.com/notebooks/data_table.ipynb>data table notebook</a>'\n",
              "            + ' to learn more about interactive tables.';\n",
              "          element.innerHTML = '';\n",
              "          dataTable['output_type'] = 'display_data';\n",
              "          await google.colab.output.renderOutput(dataTable, element);\n",
              "          const docLink = document.createElement('div');\n",
              "          docLink.innerHTML = docLinkHtml;\n",
              "          element.appendChild(docLink);\n",
              "        }\n",
              "      </script>\n",
              "    </div>\n",
              "  </div>\n",
              "  "
            ]
          },
          "metadata": {},
          "execution_count": 26
        }
      ]
    },
    {
      "cell_type": "code",
      "source": [
        "df.describe()"
      ],
      "metadata": {
        "id": "8mnLKdDWAwN6",
        "outputId": "67f72141-8939-4405-ea1f-b805d9d4ac48",
        "colab": {
          "base_uri": "https://localhost:8080/",
          "height": 364
        }
      },
      "execution_count": null,
      "outputs": [
        {
          "output_type": "execute_result",
          "data": {
            "text/plain": [
              "         CustomerID       Churn       Tenure     CityTier  WarehouseToHome  \\\n",
              "count   5473.000000  5473.00000  5473.000000  5473.000000      5473.000000   \n",
              "mean   52807.604239     0.16956     9.970217     1.653572        15.511420   \n",
              "std     1626.902998     0.37528     8.231396     0.914388         8.048277   \n",
              "min    50001.000000     0.00000     0.000000     1.000000         5.000000   \n",
              "25%    51399.000000     0.00000     3.000000     1.000000         9.000000   \n",
              "50%    52791.000000     0.00000     9.000000     1.000000        14.000000   \n",
              "75%    54215.000000     0.00000    15.000000     3.000000        20.000000   \n",
              "max    55630.000000     1.00000    31.000000     3.000000        36.000000   \n",
              "\n",
              "       HourSpendOnApp  NumberOfDeviceRegistered  SatisfactionScore  \\\n",
              "count     5473.000000               5473.000000         5473.00000   \n",
              "mean         2.929107                  3.680614            3.06121   \n",
              "std          0.704582                  1.026309            1.37865   \n",
              "min          0.000000                  1.000000            1.00000   \n",
              "25%          2.000000                  3.000000            2.00000   \n",
              "50%          3.000000                  4.000000            3.00000   \n",
              "75%          3.000000                  4.000000            4.00000   \n",
              "max          5.000000                  6.000000            5.00000   \n",
              "\n",
              "       NumberOfAddress     Complain  OrderAmountHikeFromlastYear   CouponUsed  \\\n",
              "count      5473.000000  5473.000000                  5473.000000  5473.000000   \n",
              "mean          4.217248     0.286680                    15.718619     1.556550   \n",
              "std           2.585479     0.452252                     3.583299     1.451251   \n",
              "min           1.000000     0.000000                    11.000000     0.000000   \n",
              "25%           2.000000     0.000000                    13.000000     1.000000   \n",
              "50%           3.000000     0.000000                    15.000000     1.000000   \n",
              "75%           6.000000     1.000000                    18.000000     2.000000   \n",
              "max          22.000000     1.000000                    26.000000     7.000000   \n",
              "\n",
              "        OrderCount  DaySinceLastOrder  CashbackAmount  \n",
              "count  5473.000000        5473.000000     5473.000000  \n",
              "mean      2.789147           4.309154      176.248946  \n",
              "std       2.602387           3.322485       47.921656  \n",
              "min       1.000000           0.000000       37.000000  \n",
              "25%       1.000000           2.000000      145.610000  \n",
              "50%       2.000000           3.000000      162.430000  \n",
              "75%       3.000000           7.000000      193.770000  \n",
              "max      16.000000          15.000000      324.730000  "
            ],
            "text/html": [
              "\n",
              "  <div id=\"df-6f2cbabb-ad4f-4b2a-94eb-f70cea2e740a\">\n",
              "    <div class=\"colab-df-container\">\n",
              "      <div>\n",
              "<style scoped>\n",
              "    .dataframe tbody tr th:only-of-type {\n",
              "        vertical-align: middle;\n",
              "    }\n",
              "\n",
              "    .dataframe tbody tr th {\n",
              "        vertical-align: top;\n",
              "    }\n",
              "\n",
              "    .dataframe thead th {\n",
              "        text-align: right;\n",
              "    }\n",
              "</style>\n",
              "<table border=\"1\" class=\"dataframe\">\n",
              "  <thead>\n",
              "    <tr style=\"text-align: right;\">\n",
              "      <th></th>\n",
              "      <th>CustomerID</th>\n",
              "      <th>Churn</th>\n",
              "      <th>Tenure</th>\n",
              "      <th>CityTier</th>\n",
              "      <th>WarehouseToHome</th>\n",
              "      <th>HourSpendOnApp</th>\n",
              "      <th>NumberOfDeviceRegistered</th>\n",
              "      <th>SatisfactionScore</th>\n",
              "      <th>NumberOfAddress</th>\n",
              "      <th>Complain</th>\n",
              "      <th>OrderAmountHikeFromlastYear</th>\n",
              "      <th>CouponUsed</th>\n",
              "      <th>OrderCount</th>\n",
              "      <th>DaySinceLastOrder</th>\n",
              "      <th>CashbackAmount</th>\n",
              "    </tr>\n",
              "  </thead>\n",
              "  <tbody>\n",
              "    <tr>\n",
              "      <th>count</th>\n",
              "      <td>5473.000000</td>\n",
              "      <td>5473.00000</td>\n",
              "      <td>5473.000000</td>\n",
              "      <td>5473.000000</td>\n",
              "      <td>5473.000000</td>\n",
              "      <td>5473.000000</td>\n",
              "      <td>5473.000000</td>\n",
              "      <td>5473.00000</td>\n",
              "      <td>5473.000000</td>\n",
              "      <td>5473.000000</td>\n",
              "      <td>5473.000000</td>\n",
              "      <td>5473.000000</td>\n",
              "      <td>5473.000000</td>\n",
              "      <td>5473.000000</td>\n",
              "      <td>5473.000000</td>\n",
              "    </tr>\n",
              "    <tr>\n",
              "      <th>mean</th>\n",
              "      <td>52807.604239</td>\n",
              "      <td>0.16956</td>\n",
              "      <td>9.970217</td>\n",
              "      <td>1.653572</td>\n",
              "      <td>15.511420</td>\n",
              "      <td>2.929107</td>\n",
              "      <td>3.680614</td>\n",
              "      <td>3.06121</td>\n",
              "      <td>4.217248</td>\n",
              "      <td>0.286680</td>\n",
              "      <td>15.718619</td>\n",
              "      <td>1.556550</td>\n",
              "      <td>2.789147</td>\n",
              "      <td>4.309154</td>\n",
              "      <td>176.248946</td>\n",
              "    </tr>\n",
              "    <tr>\n",
              "      <th>std</th>\n",
              "      <td>1626.902998</td>\n",
              "      <td>0.37528</td>\n",
              "      <td>8.231396</td>\n",
              "      <td>0.914388</td>\n",
              "      <td>8.048277</td>\n",
              "      <td>0.704582</td>\n",
              "      <td>1.026309</td>\n",
              "      <td>1.37865</td>\n",
              "      <td>2.585479</td>\n",
              "      <td>0.452252</td>\n",
              "      <td>3.583299</td>\n",
              "      <td>1.451251</td>\n",
              "      <td>2.602387</td>\n",
              "      <td>3.322485</td>\n",
              "      <td>47.921656</td>\n",
              "    </tr>\n",
              "    <tr>\n",
              "      <th>min</th>\n",
              "      <td>50001.000000</td>\n",
              "      <td>0.00000</td>\n",
              "      <td>0.000000</td>\n",
              "      <td>1.000000</td>\n",
              "      <td>5.000000</td>\n",
              "      <td>0.000000</td>\n",
              "      <td>1.000000</td>\n",
              "      <td>1.00000</td>\n",
              "      <td>1.000000</td>\n",
              "      <td>0.000000</td>\n",
              "      <td>11.000000</td>\n",
              "      <td>0.000000</td>\n",
              "      <td>1.000000</td>\n",
              "      <td>0.000000</td>\n",
              "      <td>37.000000</td>\n",
              "    </tr>\n",
              "    <tr>\n",
              "      <th>25%</th>\n",
              "      <td>51399.000000</td>\n",
              "      <td>0.00000</td>\n",
              "      <td>3.000000</td>\n",
              "      <td>1.000000</td>\n",
              "      <td>9.000000</td>\n",
              "      <td>2.000000</td>\n",
              "      <td>3.000000</td>\n",
              "      <td>2.00000</td>\n",
              "      <td>2.000000</td>\n",
              "      <td>0.000000</td>\n",
              "      <td>13.000000</td>\n",
              "      <td>1.000000</td>\n",
              "      <td>1.000000</td>\n",
              "      <td>2.000000</td>\n",
              "      <td>145.610000</td>\n",
              "    </tr>\n",
              "    <tr>\n",
              "      <th>50%</th>\n",
              "      <td>52791.000000</td>\n",
              "      <td>0.00000</td>\n",
              "      <td>9.000000</td>\n",
              "      <td>1.000000</td>\n",
              "      <td>14.000000</td>\n",
              "      <td>3.000000</td>\n",
              "      <td>4.000000</td>\n",
              "      <td>3.00000</td>\n",
              "      <td>3.000000</td>\n",
              "      <td>0.000000</td>\n",
              "      <td>15.000000</td>\n",
              "      <td>1.000000</td>\n",
              "      <td>2.000000</td>\n",
              "      <td>3.000000</td>\n",
              "      <td>162.430000</td>\n",
              "    </tr>\n",
              "    <tr>\n",
              "      <th>75%</th>\n",
              "      <td>54215.000000</td>\n",
              "      <td>0.00000</td>\n",
              "      <td>15.000000</td>\n",
              "      <td>3.000000</td>\n",
              "      <td>20.000000</td>\n",
              "      <td>3.000000</td>\n",
              "      <td>4.000000</td>\n",
              "      <td>4.00000</td>\n",
              "      <td>6.000000</td>\n",
              "      <td>1.000000</td>\n",
              "      <td>18.000000</td>\n",
              "      <td>2.000000</td>\n",
              "      <td>3.000000</td>\n",
              "      <td>7.000000</td>\n",
              "      <td>193.770000</td>\n",
              "    </tr>\n",
              "    <tr>\n",
              "      <th>max</th>\n",
              "      <td>55630.000000</td>\n",
              "      <td>1.00000</td>\n",
              "      <td>31.000000</td>\n",
              "      <td>3.000000</td>\n",
              "      <td>36.000000</td>\n",
              "      <td>5.000000</td>\n",
              "      <td>6.000000</td>\n",
              "      <td>5.00000</td>\n",
              "      <td>22.000000</td>\n",
              "      <td>1.000000</td>\n",
              "      <td>26.000000</td>\n",
              "      <td>7.000000</td>\n",
              "      <td>16.000000</td>\n",
              "      <td>15.000000</td>\n",
              "      <td>324.730000</td>\n",
              "    </tr>\n",
              "  </tbody>\n",
              "</table>\n",
              "</div>\n",
              "      <button class=\"colab-df-convert\" onclick=\"convertToInteractive('df-6f2cbabb-ad4f-4b2a-94eb-f70cea2e740a')\"\n",
              "              title=\"Convert this dataframe to an interactive table.\"\n",
              "              style=\"display:none;\">\n",
              "        \n",
              "  <svg xmlns=\"http://www.w3.org/2000/svg\" height=\"24px\"viewBox=\"0 0 24 24\"\n",
              "       width=\"24px\">\n",
              "    <path d=\"M0 0h24v24H0V0z\" fill=\"none\"/>\n",
              "    <path d=\"M18.56 5.44l.94 2.06.94-2.06 2.06-.94-2.06-.94-.94-2.06-.94 2.06-2.06.94zm-11 1L8.5 8.5l.94-2.06 2.06-.94-2.06-.94L8.5 2.5l-.94 2.06-2.06.94zm10 10l.94 2.06.94-2.06 2.06-.94-2.06-.94-.94-2.06-.94 2.06-2.06.94z\"/><path d=\"M17.41 7.96l-1.37-1.37c-.4-.4-.92-.59-1.43-.59-.52 0-1.04.2-1.43.59L10.3 9.45l-7.72 7.72c-.78.78-.78 2.05 0 2.83L4 21.41c.39.39.9.59 1.41.59.51 0 1.02-.2 1.41-.59l7.78-7.78 2.81-2.81c.8-.78.8-2.07 0-2.86zM5.41 20L4 18.59l7.72-7.72 1.47 1.35L5.41 20z\"/>\n",
              "  </svg>\n",
              "      </button>\n",
              "      \n",
              "  <style>\n",
              "    .colab-df-container {\n",
              "      display:flex;\n",
              "      flex-wrap:wrap;\n",
              "      gap: 12px;\n",
              "    }\n",
              "\n",
              "    .colab-df-convert {\n",
              "      background-color: #E8F0FE;\n",
              "      border: none;\n",
              "      border-radius: 50%;\n",
              "      cursor: pointer;\n",
              "      display: none;\n",
              "      fill: #1967D2;\n",
              "      height: 32px;\n",
              "      padding: 0 0 0 0;\n",
              "      width: 32px;\n",
              "    }\n",
              "\n",
              "    .colab-df-convert:hover {\n",
              "      background-color: #E2EBFA;\n",
              "      box-shadow: 0px 1px 2px rgba(60, 64, 67, 0.3), 0px 1px 3px 1px rgba(60, 64, 67, 0.15);\n",
              "      fill: #174EA6;\n",
              "    }\n",
              "\n",
              "    [theme=dark] .colab-df-convert {\n",
              "      background-color: #3B4455;\n",
              "      fill: #D2E3FC;\n",
              "    }\n",
              "\n",
              "    [theme=dark] .colab-df-convert:hover {\n",
              "      background-color: #434B5C;\n",
              "      box-shadow: 0px 1px 3px 1px rgba(0, 0, 0, 0.15);\n",
              "      filter: drop-shadow(0px 1px 2px rgba(0, 0, 0, 0.3));\n",
              "      fill: #FFFFFF;\n",
              "    }\n",
              "  </style>\n",
              "\n",
              "      <script>\n",
              "        const buttonEl =\n",
              "          document.querySelector('#df-6f2cbabb-ad4f-4b2a-94eb-f70cea2e740a button.colab-df-convert');\n",
              "        buttonEl.style.display =\n",
              "          google.colab.kernel.accessAllowed ? 'block' : 'none';\n",
              "\n",
              "        async function convertToInteractive(key) {\n",
              "          const element = document.querySelector('#df-6f2cbabb-ad4f-4b2a-94eb-f70cea2e740a');\n",
              "          const dataTable =\n",
              "            await google.colab.kernel.invokeFunction('convertToInteractive',\n",
              "                                                     [key], {});\n",
              "          if (!dataTable) return;\n",
              "\n",
              "          const docLinkHtml = 'Like what you see? Visit the ' +\n",
              "            '<a target=\"_blank\" href=https://colab.research.google.com/notebooks/data_table.ipynb>data table notebook</a>'\n",
              "            + ' to learn more about interactive tables.';\n",
              "          element.innerHTML = '';\n",
              "          dataTable['output_type'] = 'display_data';\n",
              "          await google.colab.output.renderOutput(dataTable, element);\n",
              "          const docLink = document.createElement('div');\n",
              "          docLink.innerHTML = docLinkHtml;\n",
              "          element.appendChild(docLink);\n",
              "        }\n",
              "      </script>\n",
              "    </div>\n",
              "  </div>\n",
              "  "
            ]
          },
          "metadata": {},
          "execution_count": 27
        }
      ]
    },
    {
      "cell_type": "markdown",
      "metadata": {
        "id": "Jif9zw_syjeV"
      },
      "source": [
        "### E. Feature Encoding"
      ]
    },
    {
      "cell_type": "code",
      "execution_count": null,
      "metadata": {
        "id": "vfigHp7lECdK",
        "colab": {
          "base_uri": "https://localhost:8080/"
        },
        "outputId": "c32f740f-2d16-4f25-adb2-4e6c685f73bd"
      },
      "outputs": [
        {
          "output_type": "stream",
          "name": "stdout",
          "text": [
            "value counts of column PreferredLoginDevice\n",
            "Mobile Phone    3878\n",
            "Computer        1595\n",
            "Name: PreferredLoginDevice, dtype: int64\n",
            "------------------------------ \n",
            "\n",
            "value counts of column PreferredPaymentMode\n",
            "Debit Card     2249\n",
            "Credit Card    1729\n",
            "E wallet        592\n",
            "COD             499\n",
            "UPI             404\n",
            "Name: PreferredPaymentMode, dtype: int64\n",
            "------------------------------ \n",
            "\n",
            "value counts of column Gender\n",
            "Male      3288\n",
            "Female    2185\n",
            "Name: Gender, dtype: int64\n",
            "------------------------------ \n",
            "\n",
            "value counts of column PreferedOrderCat\n",
            "Mobile Phone          2057\n",
            "Laptop & Accessory    2015\n",
            "Fashion                786\n",
            "Grocery                369\n",
            "Others                 246\n",
            "Name: PreferedOrderCat, dtype: int64\n",
            "------------------------------ \n",
            "\n",
            "value counts of column MaritalStatus\n",
            "Married     2904\n",
            "Single      1756\n",
            "Divorced     813\n",
            "Name: MaritalStatus, dtype: int64\n",
            "------------------------------ \n",
            "\n"
          ]
        }
      ],
      "source": [
        "for col in cats:\n",
        "  print(f'value counts of column {col}')\n",
        "  print(df[col].value_counts())\n",
        "  print('---'*10, '\\n')"
      ]
    },
    {
      "cell_type": "code",
      "source": [
        "mapping_login_device= {\n",
        "    'Mobile Phone' : 0,\n",
        "    'Computer' : 1\n",
        "}\n",
        "\n",
        "mapping_gender = {\n",
        "    'Male' : 0,\n",
        "    'Female' : 1\n",
        "}\n",
        "\n",
        "mapping_marital_status = {\n",
        "    'Married' : 0,\n",
        "    'Single' : 1,\n",
        "    'Divorced' : 2\n",
        "}\n",
        "df['PreferredLoginDevice'] = df['PreferredLoginDevice'].map(mapping_login_device)\n",
        "df['Gender'] = df['Gender'].map(mapping_gender)\n",
        "df['MaritalStatus'] = df['MaritalStatus'].map(mapping_marital_status)"
      ],
      "metadata": {
        "id": "5uvbu8LLplwS"
      },
      "execution_count": null,
      "outputs": []
    },
    {
      "cell_type": "code",
      "source": [
        "for cat in ['PreferredPaymentMode', 'PreferedOrderCat']:\n",
        "    onehots = pd.get_dummies(df[cat], prefix=cat)\n",
        "    df = df.join(onehots)"
      ],
      "metadata": {
        "id": "dYW8EslKpq_B"
      },
      "execution_count": null,
      "outputs": []
    },
    {
      "cell_type": "code",
      "source": [
        "df_new = df.drop(columns=['PreferredPaymentMode','PreferedOrderCat']).copy()"
      ],
      "metadata": {
        "id": "RCz4iua0PXEd"
      },
      "execution_count": null,
      "outputs": []
    },
    {
      "cell_type": "code",
      "source": [
        "df_new.info()"
      ],
      "metadata": {
        "colab": {
          "base_uri": "https://localhost:8080/"
        },
        "id": "z6l_SyAEP0FZ",
        "outputId": "3a3e8024-ec66-405f-871c-ef4de4051494"
      },
      "execution_count": null,
      "outputs": [
        {
          "output_type": "stream",
          "name": "stdout",
          "text": [
            "<class 'pandas.core.frame.DataFrame'>\n",
            "Int64Index: 5473 entries, 0 to 5629\n",
            "Data columns (total 28 columns):\n",
            " #   Column                               Non-Null Count  Dtype  \n",
            "---  ------                               --------------  -----  \n",
            " 0   CustomerID                           5473 non-null   int64  \n",
            " 1   Churn                                5473 non-null   int64  \n",
            " 2   Tenure                               5473 non-null   float64\n",
            " 3   PreferredLoginDevice                 5473 non-null   int64  \n",
            " 4   CityTier                             5473 non-null   int64  \n",
            " 5   WarehouseToHome                      5473 non-null   float64\n",
            " 6   Gender                               5473 non-null   int64  \n",
            " 7   HourSpendOnApp                       5473 non-null   float64\n",
            " 8   NumberOfDeviceRegistered             5473 non-null   int64  \n",
            " 9   SatisfactionScore                    5473 non-null   int64  \n",
            " 10  MaritalStatus                        5473 non-null   int64  \n",
            " 11  NumberOfAddress                      5473 non-null   int64  \n",
            " 12  Complain                             5473 non-null   int64  \n",
            " 13  OrderAmountHikeFromlastYear          5473 non-null   float64\n",
            " 14  CouponUsed                           5473 non-null   float64\n",
            " 15  OrderCount                           5473 non-null   float64\n",
            " 16  DaySinceLastOrder                    5473 non-null   float64\n",
            " 17  CashbackAmount                       5473 non-null   float64\n",
            " 18  PreferredPaymentMode_COD             5473 non-null   uint8  \n",
            " 19  PreferredPaymentMode_Credit Card     5473 non-null   uint8  \n",
            " 20  PreferredPaymentMode_Debit Card      5473 non-null   uint8  \n",
            " 21  PreferredPaymentMode_E wallet        5473 non-null   uint8  \n",
            " 22  PreferredPaymentMode_UPI             5473 non-null   uint8  \n",
            " 23  PreferedOrderCat_Fashion             5473 non-null   uint8  \n",
            " 24  PreferedOrderCat_Grocery             5473 non-null   uint8  \n",
            " 25  PreferedOrderCat_Laptop & Accessory  5473 non-null   uint8  \n",
            " 26  PreferedOrderCat_Mobile Phone        5473 non-null   uint8  \n",
            " 27  PreferedOrderCat_Others              5473 non-null   uint8  \n",
            "dtypes: float64(8), int64(10), uint8(10)\n",
            "memory usage: 994.9 KB\n"
          ]
        }
      ]
    },
    {
      "cell_type": "markdown",
      "metadata": {
        "id": "9nAtrA5uyrDC"
      },
      "source": [
        "### F. Handle Class Imbalance"
      ]
    },
    {
      "cell_type": "code",
      "execution_count": null,
      "metadata": {
        "id": "UblzFIO9EC_H",
        "colab": {
          "base_uri": "https://localhost:8080/"
        },
        "outputId": "ef038c0b-8e5e-4ef6-c11c-936480589224"
      },
      "outputs": [
        {
          "output_type": "stream",
          "name": "stdout",
          "text": [
            "False    4545\n",
            "True      928\n",
            "Name: Churn_Class, dtype: int64\n"
          ]
        }
      ],
      "source": [
        "#Menampilkan jumlah pelanggan churn dan tidak, membuat target bertipe categorical\n",
        "df_new['Churn_Class'] = df_new['Churn']>0.9\n",
        "print(df_new['Churn_Class'].value_counts())"
      ]
    },
    {
      "cell_type": "code",
      "source": [
        "#Pemisahan feature dan target\n",
        "x = df_new[[col for col in df_new.columns if col not in ['Churn_Class','Churn']]].values\n",
        "y = df_new['Churn_Class'].values\n",
        "print(x.shape)\n",
        "print(y.shape)"
      ],
      "metadata": {
        "colab": {
          "base_uri": "https://localhost:8080/"
        },
        "id": "4NbBWtlP8l8P",
        "outputId": "5b707166-a509-4297-9feb-f2da2c84045c"
      },
      "execution_count": null,
      "outputs": [
        {
          "output_type": "stream",
          "name": "stdout",
          "text": [
            "(5473, 27)\n",
            "(5473,)\n"
          ]
        }
      ]
    },
    {
      "cell_type": "code",
      "source": [
        "#Proses undersampling dan oversampling\n",
        "from imblearn import under_sampling, over_sampling\n",
        "x_under, y_under = under_sampling.RandomUnderSampler(1.0).fit_resample(x, y)\n",
        "x_over, y_over = over_sampling.RandomOverSampler(1.0).fit_resample(x, y)\n",
        "x_smote, y_smote = over_sampling.SMOTE().fit_resample(x, y)"
      ],
      "metadata": {
        "id": "c1a1ETrTOESb",
        "colab": {
          "base_uri": "https://localhost:8080/"
        },
        "outputId": "7a23e00c-4ff3-4a65-d12b-4d535a9f627d"
      },
      "execution_count": null,
      "outputs": [
        {
          "output_type": "stream",
          "name": "stderr",
          "text": [
            "/usr/local/lib/python3.8/dist-packages/imblearn/utils/_validation.py:587: FutureWarning: Pass sampling_strategy=1.0 as keyword args. From version 0.9 passing these as positional arguments will result in an error\n",
            "  warnings.warn(\n",
            "/usr/local/lib/python3.8/dist-packages/imblearn/utils/_validation.py:587: FutureWarning: Pass sampling_strategy=1.0 as keyword args. From version 0.9 passing these as positional arguments will result in an error\n",
            "  warnings.warn(\n"
          ]
        }
      ]
    },
    {
      "cell_type": "code",
      "source": [
        "print(pd.Series(y).value_counts())"
      ],
      "metadata": {
        "colab": {
          "base_uri": "https://localhost:8080/"
        },
        "id": "F-NDoJrEW2tE",
        "outputId": "51d59ddf-2c0c-4b7d-9d20-d51356e9ffc7"
      },
      "execution_count": null,
      "outputs": [
        {
          "output_type": "stream",
          "name": "stdout",
          "text": [
            "False    4545\n",
            "True      928\n",
            "dtype: int64\n"
          ]
        }
      ]
    },
    {
      "cell_type": "code",
      "source": [
        "print(pd.Series(y_over).value_counts())"
      ],
      "metadata": {
        "id": "-clG-Nx_W5QE",
        "outputId": "7bbf901b-137d-419e-f3a3-8814413f86b7",
        "colab": {
          "base_uri": "https://localhost:8080/"
        }
      },
      "execution_count": null,
      "outputs": [
        {
          "output_type": "stream",
          "name": "stdout",
          "text": [
            "True     4545\n",
            "False    4545\n",
            "dtype: int64\n"
          ]
        }
      ]
    },
    {
      "cell_type": "code",
      "source": [
        "print(pd.Series(y_under).value_counts())"
      ],
      "metadata": {
        "id": "9rvm6e11W8nd",
        "outputId": "e0c182c1-cf32-4989-80f3-0751b85f71c4",
        "colab": {
          "base_uri": "https://localhost:8080/"
        }
      },
      "execution_count": null,
      "outputs": [
        {
          "output_type": "stream",
          "name": "stdout",
          "text": [
            "False    928\n",
            "True     928\n",
            "dtype: int64\n"
          ]
        }
      ]
    },
    {
      "cell_type": "code",
      "source": [
        "print(pd.Series(y_smote).value_counts())"
      ],
      "metadata": {
        "id": "1Q4HySJYW_Cr",
        "outputId": "f73c1497-e20c-43b6-fbbc-f227c00ed084",
        "colab": {
          "base_uri": "https://localhost:8080/"
        }
      },
      "execution_count": null,
      "outputs": [
        {
          "output_type": "stream",
          "name": "stdout",
          "text": [
            "True     4545\n",
            "False    4545\n",
            "dtype: int64\n"
          ]
        }
      ]
    },
    {
      "cell_type": "markdown",
      "metadata": {
        "id": "ccDxyIUXrHK-"
      },
      "source": [
        "## 2. Feature Engineering"
      ]
    },
    {
      "cell_type": "markdown",
      "metadata": {
        "id": "C9ztouoRED6t"
      },
      "source": [
        "## A. Feature Selection\n",
        "Feature selection tidak dapat dilakukan karena semua feature digunakan untuk modelling"
      ]
    },
    {
      "cell_type": "markdown",
      "source": [
        "## B. Feature Extraction\n"
      ],
      "metadata": {
        "id": "Ozx20gc_J227"
      }
    },
    {
      "cell_type": "markdown",
      "source": [
        "Menambahkan feature average churn"
      ],
      "metadata": {
        "id": "IAbz7v3TuNXZ"
      }
    },
    {
      "cell_type": "code",
      "source": [
        "df['avg_cashback_per_order'] = df['CashbackAmount'] / df['OrderCount']"
      ],
      "metadata": {
        "id": "Vx5WMgU8J0ms"
      },
      "execution_count": null,
      "outputs": []
    },
    {
      "cell_type": "code",
      "source": [
        "churn_percentage = round((df['Churn'][df['Churn']==1].count()*100/df['Churn'][df['Churn']==0].count()),2)"
      ],
      "metadata": {
        "id": "vG3ex_Aeq_1b"
      },
      "execution_count": null,
      "outputs": []
    },
    {
      "cell_type": "code",
      "source": [
        "print ('rata-rata churn adalah', churn_percentage, '%')"
      ],
      "metadata": {
        "colab": {
          "base_uri": "https://localhost:8080/"
        },
        "id": "WPMehQi0rhnK",
        "outputId": "4aa992ce-b685-4713-d3a4-69519efa1e4d"
      },
      "execution_count": null,
      "outputs": [
        {
          "output_type": "stream",
          "name": "stdout",
          "text": [
            "rata-rata churn adalah 20.42 %\n"
          ]
        }
      ]
    },
    {
      "cell_type": "markdown",
      "source": [
        "## C. Feature Tambahan\n",
        "1. Age = untuk mengetahui persebaran umur yang lebih banyak churn.\n",
        "2. Product recommendation = untuk dapat mengukur kategori mana yang dapat ditawari promo.\n",
        "3. Product review = menggali ulasan customer sehingga dapat membantu keputusan pembelian bagi customer berikutnya.\n",
        "4. Call-to-action = memberikan informasi baru tentang produk-produk atau promo sehingga dapat menarik perhatian customer."
      ],
      "metadata": {
        "id": "1In_Va6tuW6R"
      }
    },
    {
      "cell_type": "code",
      "source": [],
      "metadata": {
        "id": "_4uymuh23E-0"
      },
      "execution_count": null,
      "outputs": []
    }
  ],
  "metadata": {
    "colab": {
      "provenance": []
    },
    "kernelspec": {
      "display_name": "Python 3",
      "name": "python3"
    },
    "language_info": {
      "name": "python"
    }
  },
  "nbformat": 4,
  "nbformat_minor": 0
}