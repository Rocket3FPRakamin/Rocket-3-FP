{
  "cells": [
    {
      "cell_type": "markdown",
      "source": [
        "# **Stage 2**"
      ],
      "metadata": {
        "id": "SEjRN5a1eBEb"
      }
    },
    {
      "cell_type": "code",
      "source": [
        "pip install shap"
      ],
      "metadata": {
        "id": "z5-TPn4kMj7w",
        "outputId": "ca061684-c682-4331-fd6c-d0cf281be692",
        "colab": {
          "base_uri": "https://localhost:8080/"
        }
      },
      "execution_count": null,
      "outputs": [
        {
          "output_type": "stream",
          "name": "stdout",
          "text": [
            "Looking in indexes: https://pypi.org/simple, https://us-python.pkg.dev/colab-wheels/public/simple/\n",
            "Requirement already satisfied: shap in /usr/local/lib/python3.8/dist-packages (0.41.0)\n",
            "Requirement already satisfied: scipy in /usr/local/lib/python3.8/dist-packages (from shap) (1.7.3)\n",
            "Requirement already satisfied: packaging>20.9 in /usr/local/lib/python3.8/dist-packages (from shap) (23.0)\n",
            "Requirement already satisfied: slicer==0.0.7 in /usr/local/lib/python3.8/dist-packages (from shap) (0.0.7)\n",
            "Requirement already satisfied: tqdm>4.25.0 in /usr/local/lib/python3.8/dist-packages (from shap) (4.64.1)\n",
            "Requirement already satisfied: pandas in /usr/local/lib/python3.8/dist-packages (from shap) (1.3.5)\n",
            "Requirement already satisfied: cloudpickle in /usr/local/lib/python3.8/dist-packages (from shap) (2.2.1)\n",
            "Requirement already satisfied: numba in /usr/local/lib/python3.8/dist-packages (from shap) (0.56.4)\n",
            "Requirement already satisfied: numpy in /usr/local/lib/python3.8/dist-packages (from shap) (1.22.4)\n",
            "Requirement already satisfied: scikit-learn in /usr/local/lib/python3.8/dist-packages (from shap) (1.0.2)\n",
            "Requirement already satisfied: llvmlite<0.40,>=0.39.0dev0 in /usr/local/lib/python3.8/dist-packages (from numba->shap) (0.39.1)\n",
            "Requirement already satisfied: importlib-metadata in /usr/local/lib/python3.8/dist-packages (from numba->shap) (6.0.0)\n",
            "Requirement already satisfied: setuptools in /usr/local/lib/python3.8/dist-packages (from numba->shap) (57.4.0)\n",
            "Requirement already satisfied: python-dateutil>=2.7.3 in /usr/local/lib/python3.8/dist-packages (from pandas->shap) (2.8.2)\n",
            "Requirement already satisfied: pytz>=2017.3 in /usr/local/lib/python3.8/dist-packages (from pandas->shap) (2022.7.1)\n",
            "Requirement already satisfied: joblib>=0.11 in /usr/local/lib/python3.8/dist-packages (from scikit-learn->shap) (1.2.0)\n",
            "Requirement already satisfied: threadpoolctl>=2.0.0 in /usr/local/lib/python3.8/dist-packages (from scikit-learn->shap) (3.1.0)\n",
            "Requirement already satisfied: six>=1.5 in /usr/local/lib/python3.8/dist-packages (from python-dateutil>=2.7.3->pandas->shap) (1.15.0)\n",
            "Requirement already satisfied: zipp>=0.5 in /usr/local/lib/python3.8/dist-packages (from importlib-metadata->numba->shap) (3.14.0)\n"
          ]
        }
      ]
    },
    {
      "cell_type": "code",
      "execution_count": null,
      "metadata": {
        "id": "2C2w0zrhNjrD"
      },
      "outputs": [],
      "source": [
        "import pandas as pd\n",
        "import numpy as np\n",
        "import matplotlib.pyplot as plt\n",
        "import seaborn as sns"
      ]
    },
    {
      "cell_type": "code",
      "execution_count": null,
      "metadata": {
        "id": "jk5xtuLAO3dp",
        "colab": {
          "base_uri": "https://localhost:8080/"
        },
        "outputId": "e082818f-4cb3-40be-b668-1bd048f4fad2"
      },
      "outputs": [
        {
          "output_type": "stream",
          "name": "stdout",
          "text": [
            "Drive already mounted at /content/drive; to attempt to forcibly remount, call drive.mount(\"/content/drive\", force_remount=True).\n"
          ]
        }
      ],
      "source": [
        "from google.colab import drive\n",
        "drive.mount('/content/drive')"
      ]
    },
    {
      "cell_type": "code",
      "execution_count": null,
      "metadata": {
        "id": "hkN5XHCWNVWn",
        "colab": {
          "base_uri": "https://localhost:8080/",
          "height": 73
        },
        "outputId": "6a4da058-66d3-4c6f-ef92-7e94709fcc0f"
      },
      "outputs": [
        {
          "output_type": "display_data",
          "data": {
            "text/plain": [
              "<IPython.core.display.HTML object>"
            ],
            "text/html": [
              "\n",
              "     <input type=\"file\" id=\"files-b2c9331b-62a9-4779-9a4c-8c080839b803\" name=\"files[]\" multiple disabled\n",
              "        style=\"border:none\" />\n",
              "     <output id=\"result-b2c9331b-62a9-4779-9a4c-8c080839b803\">\n",
              "      Upload widget is only available when the cell has been executed in the\n",
              "      current browser session. Please rerun this cell to enable.\n",
              "      </output>\n",
              "      <script>// Copyright 2017 Google LLC\n",
              "//\n",
              "// Licensed under the Apache License, Version 2.0 (the \"License\");\n",
              "// you may not use this file except in compliance with the License.\n",
              "// You may obtain a copy of the License at\n",
              "//\n",
              "//      http://www.apache.org/licenses/LICENSE-2.0\n",
              "//\n",
              "// Unless required by applicable law or agreed to in writing, software\n",
              "// distributed under the License is distributed on an \"AS IS\" BASIS,\n",
              "// WITHOUT WARRANTIES OR CONDITIONS OF ANY KIND, either express or implied.\n",
              "// See the License for the specific language governing permissions and\n",
              "// limitations under the License.\n",
              "\n",
              "/**\n",
              " * @fileoverview Helpers for google.colab Python module.\n",
              " */\n",
              "(function(scope) {\n",
              "function span(text, styleAttributes = {}) {\n",
              "  const element = document.createElement('span');\n",
              "  element.textContent = text;\n",
              "  for (const key of Object.keys(styleAttributes)) {\n",
              "    element.style[key] = styleAttributes[key];\n",
              "  }\n",
              "  return element;\n",
              "}\n",
              "\n",
              "// Max number of bytes which will be uploaded at a time.\n",
              "const MAX_PAYLOAD_SIZE = 100 * 1024;\n",
              "\n",
              "function _uploadFiles(inputId, outputId) {\n",
              "  const steps = uploadFilesStep(inputId, outputId);\n",
              "  const outputElement = document.getElementById(outputId);\n",
              "  // Cache steps on the outputElement to make it available for the next call\n",
              "  // to uploadFilesContinue from Python.\n",
              "  outputElement.steps = steps;\n",
              "\n",
              "  return _uploadFilesContinue(outputId);\n",
              "}\n",
              "\n",
              "// This is roughly an async generator (not supported in the browser yet),\n",
              "// where there are multiple asynchronous steps and the Python side is going\n",
              "// to poll for completion of each step.\n",
              "// This uses a Promise to block the python side on completion of each step,\n",
              "// then passes the result of the previous step as the input to the next step.\n",
              "function _uploadFilesContinue(outputId) {\n",
              "  const outputElement = document.getElementById(outputId);\n",
              "  const steps = outputElement.steps;\n",
              "\n",
              "  const next = steps.next(outputElement.lastPromiseValue);\n",
              "  return Promise.resolve(next.value.promise).then((value) => {\n",
              "    // Cache the last promise value to make it available to the next\n",
              "    // step of the generator.\n",
              "    outputElement.lastPromiseValue = value;\n",
              "    return next.value.response;\n",
              "  });\n",
              "}\n",
              "\n",
              "/**\n",
              " * Generator function which is called between each async step of the upload\n",
              " * process.\n",
              " * @param {string} inputId Element ID of the input file picker element.\n",
              " * @param {string} outputId Element ID of the output display.\n",
              " * @return {!Iterable<!Object>} Iterable of next steps.\n",
              " */\n",
              "function* uploadFilesStep(inputId, outputId) {\n",
              "  const inputElement = document.getElementById(inputId);\n",
              "  inputElement.disabled = false;\n",
              "\n",
              "  const outputElement = document.getElementById(outputId);\n",
              "  outputElement.innerHTML = '';\n",
              "\n",
              "  const pickedPromise = new Promise((resolve) => {\n",
              "    inputElement.addEventListener('change', (e) => {\n",
              "      resolve(e.target.files);\n",
              "    });\n",
              "  });\n",
              "\n",
              "  const cancel = document.createElement('button');\n",
              "  inputElement.parentElement.appendChild(cancel);\n",
              "  cancel.textContent = 'Cancel upload';\n",
              "  const cancelPromise = new Promise((resolve) => {\n",
              "    cancel.onclick = () => {\n",
              "      resolve(null);\n",
              "    };\n",
              "  });\n",
              "\n",
              "  // Wait for the user to pick the files.\n",
              "  const files = yield {\n",
              "    promise: Promise.race([pickedPromise, cancelPromise]),\n",
              "    response: {\n",
              "      action: 'starting',\n",
              "    }\n",
              "  };\n",
              "\n",
              "  cancel.remove();\n",
              "\n",
              "  // Disable the input element since further picks are not allowed.\n",
              "  inputElement.disabled = true;\n",
              "\n",
              "  if (!files) {\n",
              "    return {\n",
              "      response: {\n",
              "        action: 'complete',\n",
              "      }\n",
              "    };\n",
              "  }\n",
              "\n",
              "  for (const file of files) {\n",
              "    const li = document.createElement('li');\n",
              "    li.append(span(file.name, {fontWeight: 'bold'}));\n",
              "    li.append(span(\n",
              "        `(${file.type || 'n/a'}) - ${file.size} bytes, ` +\n",
              "        `last modified: ${\n",
              "            file.lastModifiedDate ? file.lastModifiedDate.toLocaleDateString() :\n",
              "                                    'n/a'} - `));\n",
              "    const percent = span('0% done');\n",
              "    li.appendChild(percent);\n",
              "\n",
              "    outputElement.appendChild(li);\n",
              "\n",
              "    const fileDataPromise = new Promise((resolve) => {\n",
              "      const reader = new FileReader();\n",
              "      reader.onload = (e) => {\n",
              "        resolve(e.target.result);\n",
              "      };\n",
              "      reader.readAsArrayBuffer(file);\n",
              "    });\n",
              "    // Wait for the data to be ready.\n",
              "    let fileData = yield {\n",
              "      promise: fileDataPromise,\n",
              "      response: {\n",
              "        action: 'continue',\n",
              "      }\n",
              "    };\n",
              "\n",
              "    // Use a chunked sending to avoid message size limits. See b/62115660.\n",
              "    let position = 0;\n",
              "    do {\n",
              "      const length = Math.min(fileData.byteLength - position, MAX_PAYLOAD_SIZE);\n",
              "      const chunk = new Uint8Array(fileData, position, length);\n",
              "      position += length;\n",
              "\n",
              "      const base64 = btoa(String.fromCharCode.apply(null, chunk));\n",
              "      yield {\n",
              "        response: {\n",
              "          action: 'append',\n",
              "          file: file.name,\n",
              "          data: base64,\n",
              "        },\n",
              "      };\n",
              "\n",
              "      let percentDone = fileData.byteLength === 0 ?\n",
              "          100 :\n",
              "          Math.round((position / fileData.byteLength) * 100);\n",
              "      percent.textContent = `${percentDone}% done`;\n",
              "\n",
              "    } while (position < fileData.byteLength);\n",
              "  }\n",
              "\n",
              "  // All done.\n",
              "  yield {\n",
              "    response: {\n",
              "      action: 'complete',\n",
              "    }\n",
              "  };\n",
              "}\n",
              "\n",
              "scope.google = scope.google || {};\n",
              "scope.google.colab = scope.google.colab || {};\n",
              "scope.google.colab._files = {\n",
              "  _uploadFiles,\n",
              "  _uploadFilesContinue,\n",
              "};\n",
              "})(self);\n",
              "</script> "
            ]
          },
          "metadata": {}
        },
        {
          "output_type": "stream",
          "name": "stdout",
          "text": [
            "Saving E Commerce Dataset.xlsx to E Commerce Dataset (1).xlsx\n"
          ]
        }
      ],
      "source": [
        "from google.colab import files\n",
        "uploaded = files.upload()"
      ]
    },
    {
      "cell_type": "code",
      "execution_count": null,
      "metadata": {
        "id": "Fxq_20eEQiiX"
      },
      "outputs": [],
      "source": [
        "df = pd.read_excel('E Commerce Dataset.xlsx', sheet_name='E Comm')"
      ]
    },
    {
      "cell_type": "markdown",
      "metadata": {
        "id": "qMxYrjsRXRS8"
      },
      "source": [
        "## 1. Data Cleansing"
      ]
    },
    {
      "cell_type": "markdown",
      "metadata": {
        "id": "SHO0dbqHx6qw"
      },
      "source": [
        "### A. Handle Missing Values\n"
      ]
    },
    {
      "cell_type": "code",
      "execution_count": null,
      "metadata": {
        "colab": {
          "base_uri": "https://localhost:8080/"
        },
        "id": "eJ2Muss_D_31",
        "outputId": "073e4410-d789-43a5-b7a3-6eb10ea44f69"
      },
      "outputs": [
        {
          "output_type": "stream",
          "name": "stdout",
          "text": [
            "<class 'pandas.core.frame.DataFrame'>\n",
            "RangeIndex: 5630 entries, 0 to 5629\n",
            "Data columns (total 20 columns):\n",
            " #   Column                       Non-Null Count  Dtype  \n",
            "---  ------                       --------------  -----  \n",
            " 0   CustomerID                   5630 non-null   int64  \n",
            " 1   Churn                        5630 non-null   int64  \n",
            " 2   Tenure                       5366 non-null   float64\n",
            " 3   PreferredLoginDevice         5630 non-null   object \n",
            " 4   CityTier                     5630 non-null   int64  \n",
            " 5   WarehouseToHome              5379 non-null   float64\n",
            " 6   PreferredPaymentMode         5630 non-null   object \n",
            " 7   Gender                       5630 non-null   object \n",
            " 8   HourSpendOnApp               5375 non-null   float64\n",
            " 9   NumberOfDeviceRegistered     5630 non-null   int64  \n",
            " 10  PreferedOrderCat             5630 non-null   object \n",
            " 11  SatisfactionScore            5630 non-null   int64  \n",
            " 12  MaritalStatus                5630 non-null   object \n",
            " 13  NumberOfAddress              5630 non-null   int64  \n",
            " 14  Complain                     5630 non-null   int64  \n",
            " 15  OrderAmountHikeFromlastYear  5365 non-null   float64\n",
            " 16  CouponUsed                   5374 non-null   float64\n",
            " 17  OrderCount                   5372 non-null   float64\n",
            " 18  DaySinceLastOrder            5323 non-null   float64\n",
            " 19  CashbackAmount               5630 non-null   float64\n",
            "dtypes: float64(8), int64(7), object(5)\n",
            "memory usage: 879.8+ KB\n"
          ]
        }
      ],
      "source": [
        "df.info()"
      ]
    },
    {
      "cell_type": "code",
      "execution_count": null,
      "metadata": {
        "id": "bUEucIpSu6CV",
        "colab": {
          "base_uri": "https://localhost:8080/"
        },
        "outputId": "9e80c108-f80c-4a19-b37f-6ec18cf94e90"
      },
      "outputs": [
        {
          "output_type": "execute_result",
          "data": {
            "text/plain": [
              "CustomerID                       0\n",
              "Churn                            0\n",
              "Tenure                         264\n",
              "PreferredLoginDevice             0\n",
              "CityTier                         0\n",
              "WarehouseToHome                251\n",
              "PreferredPaymentMode             0\n",
              "Gender                           0\n",
              "HourSpendOnApp                 255\n",
              "NumberOfDeviceRegistered         0\n",
              "PreferedOrderCat                 0\n",
              "SatisfactionScore                0\n",
              "MaritalStatus                    0\n",
              "NumberOfAddress                  0\n",
              "Complain                         0\n",
              "OrderAmountHikeFromlastYear    265\n",
              "CouponUsed                     256\n",
              "OrderCount                     258\n",
              "DaySinceLastOrder              307\n",
              "CashbackAmount                   0\n",
              "dtype: int64"
            ]
          },
          "metadata": {},
          "execution_count": 68
        }
      ],
      "source": [
        "df.isna().sum()"
      ]
    },
    {
      "cell_type": "code",
      "execution_count": null,
      "metadata": {
        "colab": {
          "base_uri": "https://localhost:8080/",
          "height": 364
        },
        "id": "ZFafSkm5x1NQ",
        "outputId": "43f3df21-ed5f-4035-ab2b-b7e0ec795726"
      },
      "outputs": [
        {
          "output_type": "execute_result",
          "data": {
            "text/plain": [
              "         CustomerID        Churn       Tenure     CityTier  WarehouseToHome  \\\n",
              "count   5630.000000  5630.000000  5366.000000  5630.000000      5379.000000   \n",
              "mean   52815.500000     0.168384    10.189899     1.654707        15.639896   \n",
              "std     1625.385339     0.374240     8.557241     0.915389         8.531475   \n",
              "min    50001.000000     0.000000     0.000000     1.000000         5.000000   \n",
              "25%    51408.250000     0.000000     2.000000     1.000000         9.000000   \n",
              "50%    52815.500000     0.000000     9.000000     1.000000        14.000000   \n",
              "75%    54222.750000     0.000000    16.000000     3.000000        20.000000   \n",
              "max    55630.000000     1.000000    61.000000     3.000000       127.000000   \n",
              "\n",
              "       HourSpendOnApp  NumberOfDeviceRegistered  SatisfactionScore  \\\n",
              "count     5375.000000               5630.000000        5630.000000   \n",
              "mean         2.931535                  3.688988           3.066785   \n",
              "std          0.721926                  1.023999           1.380194   \n",
              "min          0.000000                  1.000000           1.000000   \n",
              "25%          2.000000                  3.000000           2.000000   \n",
              "50%          3.000000                  4.000000           3.000000   \n",
              "75%          3.000000                  4.000000           4.000000   \n",
              "max          5.000000                  6.000000           5.000000   \n",
              "\n",
              "       NumberOfAddress     Complain  OrderAmountHikeFromlastYear   CouponUsed  \\\n",
              "count      5630.000000  5630.000000                  5365.000000  5374.000000   \n",
              "mean          4.214032     0.284902                    15.707922     1.751023   \n",
              "std           2.583586     0.451408                     3.675485     1.894621   \n",
              "min           1.000000     0.000000                    11.000000     0.000000   \n",
              "25%           2.000000     0.000000                    13.000000     1.000000   \n",
              "50%           3.000000     0.000000                    15.000000     1.000000   \n",
              "75%           6.000000     1.000000                    18.000000     2.000000   \n",
              "max          22.000000     1.000000                    26.000000    16.000000   \n",
              "\n",
              "        OrderCount  DaySinceLastOrder  CashbackAmount  \n",
              "count  5372.000000        5323.000000     5630.000000  \n",
              "mean      3.008004           4.543491      177.223030  \n",
              "std       2.939680           3.654433       49.207036  \n",
              "min       1.000000           0.000000        0.000000  \n",
              "25%       1.000000           2.000000      145.770000  \n",
              "50%       2.000000           3.000000      163.280000  \n",
              "75%       3.000000           7.000000      196.392500  \n",
              "max      16.000000          46.000000      324.990000  "
            ],
            "text/html": [
              "\n",
              "  <div id=\"df-c6800f7c-db62-415e-971d-52ebf815f6d7\">\n",
              "    <div class=\"colab-df-container\">\n",
              "      <div>\n",
              "<style scoped>\n",
              "    .dataframe tbody tr th:only-of-type {\n",
              "        vertical-align: middle;\n",
              "    }\n",
              "\n",
              "    .dataframe tbody tr th {\n",
              "        vertical-align: top;\n",
              "    }\n",
              "\n",
              "    .dataframe thead th {\n",
              "        text-align: right;\n",
              "    }\n",
              "</style>\n",
              "<table border=\"1\" class=\"dataframe\">\n",
              "  <thead>\n",
              "    <tr style=\"text-align: right;\">\n",
              "      <th></th>\n",
              "      <th>CustomerID</th>\n",
              "      <th>Churn</th>\n",
              "      <th>Tenure</th>\n",
              "      <th>CityTier</th>\n",
              "      <th>WarehouseToHome</th>\n",
              "      <th>HourSpendOnApp</th>\n",
              "      <th>NumberOfDeviceRegistered</th>\n",
              "      <th>SatisfactionScore</th>\n",
              "      <th>NumberOfAddress</th>\n",
              "      <th>Complain</th>\n",
              "      <th>OrderAmountHikeFromlastYear</th>\n",
              "      <th>CouponUsed</th>\n",
              "      <th>OrderCount</th>\n",
              "      <th>DaySinceLastOrder</th>\n",
              "      <th>CashbackAmount</th>\n",
              "    </tr>\n",
              "  </thead>\n",
              "  <tbody>\n",
              "    <tr>\n",
              "      <th>count</th>\n",
              "      <td>5630.000000</td>\n",
              "      <td>5630.000000</td>\n",
              "      <td>5366.000000</td>\n",
              "      <td>5630.000000</td>\n",
              "      <td>5379.000000</td>\n",
              "      <td>5375.000000</td>\n",
              "      <td>5630.000000</td>\n",
              "      <td>5630.000000</td>\n",
              "      <td>5630.000000</td>\n",
              "      <td>5630.000000</td>\n",
              "      <td>5365.000000</td>\n",
              "      <td>5374.000000</td>\n",
              "      <td>5372.000000</td>\n",
              "      <td>5323.000000</td>\n",
              "      <td>5630.000000</td>\n",
              "    </tr>\n",
              "    <tr>\n",
              "      <th>mean</th>\n",
              "      <td>52815.500000</td>\n",
              "      <td>0.168384</td>\n",
              "      <td>10.189899</td>\n",
              "      <td>1.654707</td>\n",
              "      <td>15.639896</td>\n",
              "      <td>2.931535</td>\n",
              "      <td>3.688988</td>\n",
              "      <td>3.066785</td>\n",
              "      <td>4.214032</td>\n",
              "      <td>0.284902</td>\n",
              "      <td>15.707922</td>\n",
              "      <td>1.751023</td>\n",
              "      <td>3.008004</td>\n",
              "      <td>4.543491</td>\n",
              "      <td>177.223030</td>\n",
              "    </tr>\n",
              "    <tr>\n",
              "      <th>std</th>\n",
              "      <td>1625.385339</td>\n",
              "      <td>0.374240</td>\n",
              "      <td>8.557241</td>\n",
              "      <td>0.915389</td>\n",
              "      <td>8.531475</td>\n",
              "      <td>0.721926</td>\n",
              "      <td>1.023999</td>\n",
              "      <td>1.380194</td>\n",
              "      <td>2.583586</td>\n",
              "      <td>0.451408</td>\n",
              "      <td>3.675485</td>\n",
              "      <td>1.894621</td>\n",
              "      <td>2.939680</td>\n",
              "      <td>3.654433</td>\n",
              "      <td>49.207036</td>\n",
              "    </tr>\n",
              "    <tr>\n",
              "      <th>min</th>\n",
              "      <td>50001.000000</td>\n",
              "      <td>0.000000</td>\n",
              "      <td>0.000000</td>\n",
              "      <td>1.000000</td>\n",
              "      <td>5.000000</td>\n",
              "      <td>0.000000</td>\n",
              "      <td>1.000000</td>\n",
              "      <td>1.000000</td>\n",
              "      <td>1.000000</td>\n",
              "      <td>0.000000</td>\n",
              "      <td>11.000000</td>\n",
              "      <td>0.000000</td>\n",
              "      <td>1.000000</td>\n",
              "      <td>0.000000</td>\n",
              "      <td>0.000000</td>\n",
              "    </tr>\n",
              "    <tr>\n",
              "      <th>25%</th>\n",
              "      <td>51408.250000</td>\n",
              "      <td>0.000000</td>\n",
              "      <td>2.000000</td>\n",
              "      <td>1.000000</td>\n",
              "      <td>9.000000</td>\n",
              "      <td>2.000000</td>\n",
              "      <td>3.000000</td>\n",
              "      <td>2.000000</td>\n",
              "      <td>2.000000</td>\n",
              "      <td>0.000000</td>\n",
              "      <td>13.000000</td>\n",
              "      <td>1.000000</td>\n",
              "      <td>1.000000</td>\n",
              "      <td>2.000000</td>\n",
              "      <td>145.770000</td>\n",
              "    </tr>\n",
              "    <tr>\n",
              "      <th>50%</th>\n",
              "      <td>52815.500000</td>\n",
              "      <td>0.000000</td>\n",
              "      <td>9.000000</td>\n",
              "      <td>1.000000</td>\n",
              "      <td>14.000000</td>\n",
              "      <td>3.000000</td>\n",
              "      <td>4.000000</td>\n",
              "      <td>3.000000</td>\n",
              "      <td>3.000000</td>\n",
              "      <td>0.000000</td>\n",
              "      <td>15.000000</td>\n",
              "      <td>1.000000</td>\n",
              "      <td>2.000000</td>\n",
              "      <td>3.000000</td>\n",
              "      <td>163.280000</td>\n",
              "    </tr>\n",
              "    <tr>\n",
              "      <th>75%</th>\n",
              "      <td>54222.750000</td>\n",
              "      <td>0.000000</td>\n",
              "      <td>16.000000</td>\n",
              "      <td>3.000000</td>\n",
              "      <td>20.000000</td>\n",
              "      <td>3.000000</td>\n",
              "      <td>4.000000</td>\n",
              "      <td>4.000000</td>\n",
              "      <td>6.000000</td>\n",
              "      <td>1.000000</td>\n",
              "      <td>18.000000</td>\n",
              "      <td>2.000000</td>\n",
              "      <td>3.000000</td>\n",
              "      <td>7.000000</td>\n",
              "      <td>196.392500</td>\n",
              "    </tr>\n",
              "    <tr>\n",
              "      <th>max</th>\n",
              "      <td>55630.000000</td>\n",
              "      <td>1.000000</td>\n",
              "      <td>61.000000</td>\n",
              "      <td>3.000000</td>\n",
              "      <td>127.000000</td>\n",
              "      <td>5.000000</td>\n",
              "      <td>6.000000</td>\n",
              "      <td>5.000000</td>\n",
              "      <td>22.000000</td>\n",
              "      <td>1.000000</td>\n",
              "      <td>26.000000</td>\n",
              "      <td>16.000000</td>\n",
              "      <td>16.000000</td>\n",
              "      <td>46.000000</td>\n",
              "      <td>324.990000</td>\n",
              "    </tr>\n",
              "  </tbody>\n",
              "</table>\n",
              "</div>\n",
              "      <button class=\"colab-df-convert\" onclick=\"convertToInteractive('df-c6800f7c-db62-415e-971d-52ebf815f6d7')\"\n",
              "              title=\"Convert this dataframe to an interactive table.\"\n",
              "              style=\"display:none;\">\n",
              "        \n",
              "  <svg xmlns=\"http://www.w3.org/2000/svg\" height=\"24px\"viewBox=\"0 0 24 24\"\n",
              "       width=\"24px\">\n",
              "    <path d=\"M0 0h24v24H0V0z\" fill=\"none\"/>\n",
              "    <path d=\"M18.56 5.44l.94 2.06.94-2.06 2.06-.94-2.06-.94-.94-2.06-.94 2.06-2.06.94zm-11 1L8.5 8.5l.94-2.06 2.06-.94-2.06-.94L8.5 2.5l-.94 2.06-2.06.94zm10 10l.94 2.06.94-2.06 2.06-.94-2.06-.94-.94-2.06-.94 2.06-2.06.94z\"/><path d=\"M17.41 7.96l-1.37-1.37c-.4-.4-.92-.59-1.43-.59-.52 0-1.04.2-1.43.59L10.3 9.45l-7.72 7.72c-.78.78-.78 2.05 0 2.83L4 21.41c.39.39.9.59 1.41.59.51 0 1.02-.2 1.41-.59l7.78-7.78 2.81-2.81c.8-.78.8-2.07 0-2.86zM5.41 20L4 18.59l7.72-7.72 1.47 1.35L5.41 20z\"/>\n",
              "  </svg>\n",
              "      </button>\n",
              "      \n",
              "  <style>\n",
              "    .colab-df-container {\n",
              "      display:flex;\n",
              "      flex-wrap:wrap;\n",
              "      gap: 12px;\n",
              "    }\n",
              "\n",
              "    .colab-df-convert {\n",
              "      background-color: #E8F0FE;\n",
              "      border: none;\n",
              "      border-radius: 50%;\n",
              "      cursor: pointer;\n",
              "      display: none;\n",
              "      fill: #1967D2;\n",
              "      height: 32px;\n",
              "      padding: 0 0 0 0;\n",
              "      width: 32px;\n",
              "    }\n",
              "\n",
              "    .colab-df-convert:hover {\n",
              "      background-color: #E2EBFA;\n",
              "      box-shadow: 0px 1px 2px rgba(60, 64, 67, 0.3), 0px 1px 3px 1px rgba(60, 64, 67, 0.15);\n",
              "      fill: #174EA6;\n",
              "    }\n",
              "\n",
              "    [theme=dark] .colab-df-convert {\n",
              "      background-color: #3B4455;\n",
              "      fill: #D2E3FC;\n",
              "    }\n",
              "\n",
              "    [theme=dark] .colab-df-convert:hover {\n",
              "      background-color: #434B5C;\n",
              "      box-shadow: 0px 1px 3px 1px rgba(0, 0, 0, 0.15);\n",
              "      filter: drop-shadow(0px 1px 2px rgba(0, 0, 0, 0.3));\n",
              "      fill: #FFFFFF;\n",
              "    }\n",
              "  </style>\n",
              "\n",
              "      <script>\n",
              "        const buttonEl =\n",
              "          document.querySelector('#df-c6800f7c-db62-415e-971d-52ebf815f6d7 button.colab-df-convert');\n",
              "        buttonEl.style.display =\n",
              "          google.colab.kernel.accessAllowed ? 'block' : 'none';\n",
              "\n",
              "        async function convertToInteractive(key) {\n",
              "          const element = document.querySelector('#df-c6800f7c-db62-415e-971d-52ebf815f6d7');\n",
              "          const dataTable =\n",
              "            await google.colab.kernel.invokeFunction('convertToInteractive',\n",
              "                                                     [key], {});\n",
              "          if (!dataTable) return;\n",
              "\n",
              "          const docLinkHtml = 'Like what you see? Visit the ' +\n",
              "            '<a target=\"_blank\" href=https://colab.research.google.com/notebooks/data_table.ipynb>data table notebook</a>'\n",
              "            + ' to learn more about interactive tables.';\n",
              "          element.innerHTML = '';\n",
              "          dataTable['output_type'] = 'display_data';\n",
              "          await google.colab.output.renderOutput(dataTable, element);\n",
              "          const docLink = document.createElement('div');\n",
              "          docLink.innerHTML = docLinkHtml;\n",
              "          element.appendChild(docLink);\n",
              "        }\n",
              "      </script>\n",
              "    </div>\n",
              "  </div>\n",
              "  "
            ]
          },
          "metadata": {},
          "execution_count": 69
        }
      ],
      "source": [
        "df.describe()"
      ]
    },
    {
      "cell_type": "code",
      "execution_count": null,
      "metadata": {
        "id": "igXdfB-nuyWd"
      },
      "outputs": [],
      "source": [
        "df['Tenure'].fillna(df.Tenure.median(), inplace=True)\n",
        "df['WarehouseToHome'].fillna(df.WarehouseToHome.median(), inplace=True)\n",
        "df['HourSpendOnApp'].fillna(df.HourSpendOnApp.median(), inplace=True)\n",
        "df['OrderAmountHikeFromlastYear'].fillna(df.OrderAmountHikeFromlastYear.mean(), inplace=True)\n",
        "df['CouponUsed'].fillna(df.CouponUsed.median(), inplace=True)\n",
        "df['OrderCount'].fillna(df.OrderCount.median(), inplace=True)\n",
        "df['DaySinceLastOrder'].fillna(df.DaySinceLastOrder.median(), inplace=True)"
      ]
    },
    {
      "cell_type": "code",
      "execution_count": null,
      "metadata": {
        "colab": {
          "base_uri": "https://localhost:8080/"
        },
        "id": "m5wVKHI_vPXz",
        "outputId": "2cc66960-c39b-4ffd-acf2-d13cdb3d2a51"
      },
      "outputs": [
        {
          "output_type": "execute_result",
          "data": {
            "text/plain": [
              "CustomerID                     0\n",
              "Churn                          0\n",
              "Tenure                         0\n",
              "PreferredLoginDevice           0\n",
              "CityTier                       0\n",
              "WarehouseToHome                0\n",
              "PreferredPaymentMode           0\n",
              "Gender                         0\n",
              "HourSpendOnApp                 0\n",
              "NumberOfDeviceRegistered       0\n",
              "PreferedOrderCat               0\n",
              "SatisfactionScore              0\n",
              "MaritalStatus                  0\n",
              "NumberOfAddress                0\n",
              "Complain                       0\n",
              "OrderAmountHikeFromlastYear    0\n",
              "CouponUsed                     0\n",
              "OrderCount                     0\n",
              "DaySinceLastOrder              0\n",
              "CashbackAmount                 0\n",
              "dtype: int64"
            ]
          },
          "metadata": {},
          "execution_count": 71
        }
      ],
      "source": [
        "df.isna().sum()"
      ]
    },
    {
      "cell_type": "markdown",
      "metadata": {
        "id": "xrEGlrUfyPo6"
      },
      "source": [
        "### B. Handle Duplicated Data"
      ]
    },
    {
      "cell_type": "code",
      "execution_count": null,
      "metadata": {
        "colab": {
          "base_uri": "https://localhost:8080/"
        },
        "id": "cYZ-Y7KGEA27",
        "outputId": "e8810db3-5561-4699-d6ae-3661d29e338f"
      },
      "outputs": [
        {
          "output_type": "execute_result",
          "data": {
            "text/plain": [
              "0"
            ]
          },
          "metadata": {},
          "execution_count": 72
        }
      ],
      "source": [
        "df.duplicated().sum()"
      ]
    },
    {
      "cell_type": "markdown",
      "metadata": {
        "id": "YPfQdv1ZyU7d"
      },
      "source": [
        "### C. Handle Outlier"
      ]
    },
    {
      "cell_type": "code",
      "execution_count": null,
      "metadata": {
        "id": "gMLLYBayUIGW"
      },
      "outputs": [],
      "source": [
        "# pengelompokan kolom berdasarkan jenisnya\n",
        "nums = ['Tenure', 'WarehouseToHome',\n",
        "       'HourSpendOnApp', 'NumberOfDeviceRegistered', 'SatisfactionScore',\n",
        "       'NumberOfAddress', 'OrderAmountHikeFromlastYear',\n",
        "       'CouponUsed', 'OrderCount', 'DaySinceLastOrder', 'CashbackAmount']\n",
        "cats = ['PreferredLoginDevice', 'PreferredPaymentMode', 'Gender', 'PreferedOrderCat', 'MaritalStatus']"
      ]
    },
    {
      "cell_type": "code",
      "source": [
        "df[nums].describe()"
      ],
      "metadata": {
        "colab": {
          "base_uri": "https://localhost:8080/",
          "height": 364
        },
        "id": "qrprZsbxQXbA",
        "outputId": "a42fe25c-6eef-4a32-81ee-bd47519a4892"
      },
      "execution_count": null,
      "outputs": [
        {
          "output_type": "execute_result",
          "data": {
            "text/plain": [
              "            Tenure  WarehouseToHome  HourSpendOnApp  NumberOfDeviceRegistered  \\\n",
              "count  5630.000000      5630.000000     5630.000000               5630.000000   \n",
              "mean     10.134103        15.566785        2.934636                  3.688988   \n",
              "std       8.357951         8.345961        0.705528                  1.023999   \n",
              "min       0.000000         5.000000        0.000000                  1.000000   \n",
              "25%       3.000000         9.000000        2.000000                  3.000000   \n",
              "50%       9.000000        14.000000        3.000000                  4.000000   \n",
              "75%      15.000000        20.000000        3.000000                  4.000000   \n",
              "max      61.000000       127.000000        5.000000                  6.000000   \n",
              "\n",
              "       SatisfactionScore  NumberOfAddress  OrderAmountHikeFromlastYear  \\\n",
              "count        5630.000000      5630.000000                  5630.000000   \n",
              "mean            3.066785         4.214032                    15.707922   \n",
              "std             1.380194         2.583586                     3.587926   \n",
              "min             1.000000         1.000000                    11.000000   \n",
              "25%             2.000000         2.000000                    13.000000   \n",
              "50%             3.000000         3.000000                    15.000000   \n",
              "75%             4.000000         6.000000                    18.000000   \n",
              "max             5.000000        22.000000                    26.000000   \n",
              "\n",
              "        CouponUsed   OrderCount  DaySinceLastOrder  CashbackAmount  \n",
              "count  5630.000000  5630.000000        5630.000000     5630.000000  \n",
              "mean      1.716874     2.961812           4.459325      177.223030  \n",
              "std       1.857640     2.879248           3.570626       49.207036  \n",
              "min       0.000000     1.000000           0.000000        0.000000  \n",
              "25%       1.000000     1.000000           2.000000      145.770000  \n",
              "50%       1.000000     2.000000           3.000000      163.280000  \n",
              "75%       2.000000     3.000000           7.000000      196.392500  \n",
              "max      16.000000    16.000000          46.000000      324.990000  "
            ],
            "text/html": [
              "\n",
              "  <div id=\"df-4ee592e4-949b-4dfe-8579-856b83915978\">\n",
              "    <div class=\"colab-df-container\">\n",
              "      <div>\n",
              "<style scoped>\n",
              "    .dataframe tbody tr th:only-of-type {\n",
              "        vertical-align: middle;\n",
              "    }\n",
              "\n",
              "    .dataframe tbody tr th {\n",
              "        vertical-align: top;\n",
              "    }\n",
              "\n",
              "    .dataframe thead th {\n",
              "        text-align: right;\n",
              "    }\n",
              "</style>\n",
              "<table border=\"1\" class=\"dataframe\">\n",
              "  <thead>\n",
              "    <tr style=\"text-align: right;\">\n",
              "      <th></th>\n",
              "      <th>Tenure</th>\n",
              "      <th>WarehouseToHome</th>\n",
              "      <th>HourSpendOnApp</th>\n",
              "      <th>NumberOfDeviceRegistered</th>\n",
              "      <th>SatisfactionScore</th>\n",
              "      <th>NumberOfAddress</th>\n",
              "      <th>OrderAmountHikeFromlastYear</th>\n",
              "      <th>CouponUsed</th>\n",
              "      <th>OrderCount</th>\n",
              "      <th>DaySinceLastOrder</th>\n",
              "      <th>CashbackAmount</th>\n",
              "    </tr>\n",
              "  </thead>\n",
              "  <tbody>\n",
              "    <tr>\n",
              "      <th>count</th>\n",
              "      <td>5630.000000</td>\n",
              "      <td>5630.000000</td>\n",
              "      <td>5630.000000</td>\n",
              "      <td>5630.000000</td>\n",
              "      <td>5630.000000</td>\n",
              "      <td>5630.000000</td>\n",
              "      <td>5630.000000</td>\n",
              "      <td>5630.000000</td>\n",
              "      <td>5630.000000</td>\n",
              "      <td>5630.000000</td>\n",
              "      <td>5630.000000</td>\n",
              "    </tr>\n",
              "    <tr>\n",
              "      <th>mean</th>\n",
              "      <td>10.134103</td>\n",
              "      <td>15.566785</td>\n",
              "      <td>2.934636</td>\n",
              "      <td>3.688988</td>\n",
              "      <td>3.066785</td>\n",
              "      <td>4.214032</td>\n",
              "      <td>15.707922</td>\n",
              "      <td>1.716874</td>\n",
              "      <td>2.961812</td>\n",
              "      <td>4.459325</td>\n",
              "      <td>177.223030</td>\n",
              "    </tr>\n",
              "    <tr>\n",
              "      <th>std</th>\n",
              "      <td>8.357951</td>\n",
              "      <td>8.345961</td>\n",
              "      <td>0.705528</td>\n",
              "      <td>1.023999</td>\n",
              "      <td>1.380194</td>\n",
              "      <td>2.583586</td>\n",
              "      <td>3.587926</td>\n",
              "      <td>1.857640</td>\n",
              "      <td>2.879248</td>\n",
              "      <td>3.570626</td>\n",
              "      <td>49.207036</td>\n",
              "    </tr>\n",
              "    <tr>\n",
              "      <th>min</th>\n",
              "      <td>0.000000</td>\n",
              "      <td>5.000000</td>\n",
              "      <td>0.000000</td>\n",
              "      <td>1.000000</td>\n",
              "      <td>1.000000</td>\n",
              "      <td>1.000000</td>\n",
              "      <td>11.000000</td>\n",
              "      <td>0.000000</td>\n",
              "      <td>1.000000</td>\n",
              "      <td>0.000000</td>\n",
              "      <td>0.000000</td>\n",
              "    </tr>\n",
              "    <tr>\n",
              "      <th>25%</th>\n",
              "      <td>3.000000</td>\n",
              "      <td>9.000000</td>\n",
              "      <td>2.000000</td>\n",
              "      <td>3.000000</td>\n",
              "      <td>2.000000</td>\n",
              "      <td>2.000000</td>\n",
              "      <td>13.000000</td>\n",
              "      <td>1.000000</td>\n",
              "      <td>1.000000</td>\n",
              "      <td>2.000000</td>\n",
              "      <td>145.770000</td>\n",
              "    </tr>\n",
              "    <tr>\n",
              "      <th>50%</th>\n",
              "      <td>9.000000</td>\n",
              "      <td>14.000000</td>\n",
              "      <td>3.000000</td>\n",
              "      <td>4.000000</td>\n",
              "      <td>3.000000</td>\n",
              "      <td>3.000000</td>\n",
              "      <td>15.000000</td>\n",
              "      <td>1.000000</td>\n",
              "      <td>2.000000</td>\n",
              "      <td>3.000000</td>\n",
              "      <td>163.280000</td>\n",
              "    </tr>\n",
              "    <tr>\n",
              "      <th>75%</th>\n",
              "      <td>15.000000</td>\n",
              "      <td>20.000000</td>\n",
              "      <td>3.000000</td>\n",
              "      <td>4.000000</td>\n",
              "      <td>4.000000</td>\n",
              "      <td>6.000000</td>\n",
              "      <td>18.000000</td>\n",
              "      <td>2.000000</td>\n",
              "      <td>3.000000</td>\n",
              "      <td>7.000000</td>\n",
              "      <td>196.392500</td>\n",
              "    </tr>\n",
              "    <tr>\n",
              "      <th>max</th>\n",
              "      <td>61.000000</td>\n",
              "      <td>127.000000</td>\n",
              "      <td>5.000000</td>\n",
              "      <td>6.000000</td>\n",
              "      <td>5.000000</td>\n",
              "      <td>22.000000</td>\n",
              "      <td>26.000000</td>\n",
              "      <td>16.000000</td>\n",
              "      <td>16.000000</td>\n",
              "      <td>46.000000</td>\n",
              "      <td>324.990000</td>\n",
              "    </tr>\n",
              "  </tbody>\n",
              "</table>\n",
              "</div>\n",
              "      <button class=\"colab-df-convert\" onclick=\"convertToInteractive('df-4ee592e4-949b-4dfe-8579-856b83915978')\"\n",
              "              title=\"Convert this dataframe to an interactive table.\"\n",
              "              style=\"display:none;\">\n",
              "        \n",
              "  <svg xmlns=\"http://www.w3.org/2000/svg\" height=\"24px\"viewBox=\"0 0 24 24\"\n",
              "       width=\"24px\">\n",
              "    <path d=\"M0 0h24v24H0V0z\" fill=\"none\"/>\n",
              "    <path d=\"M18.56 5.44l.94 2.06.94-2.06 2.06-.94-2.06-.94-.94-2.06-.94 2.06-2.06.94zm-11 1L8.5 8.5l.94-2.06 2.06-.94-2.06-.94L8.5 2.5l-.94 2.06-2.06.94zm10 10l.94 2.06.94-2.06 2.06-.94-2.06-.94-.94-2.06-.94 2.06-2.06.94z\"/><path d=\"M17.41 7.96l-1.37-1.37c-.4-.4-.92-.59-1.43-.59-.52 0-1.04.2-1.43.59L10.3 9.45l-7.72 7.72c-.78.78-.78 2.05 0 2.83L4 21.41c.39.39.9.59 1.41.59.51 0 1.02-.2 1.41-.59l7.78-7.78 2.81-2.81c.8-.78.8-2.07 0-2.86zM5.41 20L4 18.59l7.72-7.72 1.47 1.35L5.41 20z\"/>\n",
              "  </svg>\n",
              "      </button>\n",
              "      \n",
              "  <style>\n",
              "    .colab-df-container {\n",
              "      display:flex;\n",
              "      flex-wrap:wrap;\n",
              "      gap: 12px;\n",
              "    }\n",
              "\n",
              "    .colab-df-convert {\n",
              "      background-color: #E8F0FE;\n",
              "      border: none;\n",
              "      border-radius: 50%;\n",
              "      cursor: pointer;\n",
              "      display: none;\n",
              "      fill: #1967D2;\n",
              "      height: 32px;\n",
              "      padding: 0 0 0 0;\n",
              "      width: 32px;\n",
              "    }\n",
              "\n",
              "    .colab-df-convert:hover {\n",
              "      background-color: #E2EBFA;\n",
              "      box-shadow: 0px 1px 2px rgba(60, 64, 67, 0.3), 0px 1px 3px 1px rgba(60, 64, 67, 0.15);\n",
              "      fill: #174EA6;\n",
              "    }\n",
              "\n",
              "    [theme=dark] .colab-df-convert {\n",
              "      background-color: #3B4455;\n",
              "      fill: #D2E3FC;\n",
              "    }\n",
              "\n",
              "    [theme=dark] .colab-df-convert:hover {\n",
              "      background-color: #434B5C;\n",
              "      box-shadow: 0px 1px 3px 1px rgba(0, 0, 0, 0.15);\n",
              "      filter: drop-shadow(0px 1px 2px rgba(0, 0, 0, 0.3));\n",
              "      fill: #FFFFFF;\n",
              "    }\n",
              "  </style>\n",
              "\n",
              "      <script>\n",
              "        const buttonEl =\n",
              "          document.querySelector('#df-4ee592e4-949b-4dfe-8579-856b83915978 button.colab-df-convert');\n",
              "        buttonEl.style.display =\n",
              "          google.colab.kernel.accessAllowed ? 'block' : 'none';\n",
              "\n",
              "        async function convertToInteractive(key) {\n",
              "          const element = document.querySelector('#df-4ee592e4-949b-4dfe-8579-856b83915978');\n",
              "          const dataTable =\n",
              "            await google.colab.kernel.invokeFunction('convertToInteractive',\n",
              "                                                     [key], {});\n",
              "          if (!dataTable) return;\n",
              "\n",
              "          const docLinkHtml = 'Like what you see? Visit the ' +\n",
              "            '<a target=\"_blank\" href=https://colab.research.google.com/notebooks/data_table.ipynb>data table notebook</a>'\n",
              "            + ' to learn more about interactive tables.';\n",
              "          element.innerHTML = '';\n",
              "          dataTable['output_type'] = 'display_data';\n",
              "          await google.colab.output.renderOutput(dataTable, element);\n",
              "          const docLink = document.createElement('div');\n",
              "          docLink.innerHTML = docLinkHtml;\n",
              "          element.appendChild(docLink);\n",
              "        }\n",
              "      </script>\n",
              "    </div>\n",
              "  </div>\n",
              "  "
            ]
          },
          "metadata": {},
          "execution_count": 74
        }
      ]
    },
    {
      "cell_type": "code",
      "source": [
        "from scipy import stats"
      ],
      "metadata": {
        "id": "3sWbsSkYQdoq"
      },
      "execution_count": null,
      "outputs": []
    },
    {
      "cell_type": "code",
      "source": [
        "# Handling with zscore\n",
        "print(f'Jumlah baris sebelum memfilter outlier: {len(df)}')\n",
        "\n",
        "filtered_entries = np.array([True] * len(df))\n",
        "\n",
        "for col in ['Tenure', 'WarehouseToHome','CouponUsed', 'DaySinceLastOrder', 'CashbackAmount']:\n",
        "    zscore = abs(stats.zscore(df[col])) # hitung absolute z-scorenya\n",
        "    filtered_entries = (zscore < 3) # keep yang kurang dari 3 absolute z-scorenya\n",
        "    \n",
        "df = df[filtered_entries] # filter, cuma ambil yang z-scorenya dibawah 3\n",
        "\n",
        "print(f'Jumlah baris setelah memfilter outlier: {len(df)}')"
      ],
      "metadata": {
        "colab": {
          "base_uri": "https://localhost:8080/"
        },
        "id": "sMm3qxX-Qm5_",
        "outputId": "a7e9db7a-cebe-47bb-e378-f71aacc23405"
      },
      "execution_count": null,
      "outputs": [
        {
          "output_type": "stream",
          "name": "stdout",
          "text": [
            "Jumlah baris sebelum memfilter outlier: 5630\n",
            "Jumlah baris setelah memfilter outlier: 5619\n"
          ]
        }
      ]
    },
    {
      "cell_type": "code",
      "source": [
        "df.describe()"
      ],
      "metadata": {
        "id": "rqHk1m6PRQ50",
        "outputId": "6353c160-7eb4-4c6f-dff4-78ce3596b971",
        "colab": {
          "base_uri": "https://localhost:8080/",
          "height": 364
        }
      },
      "execution_count": null,
      "outputs": [
        {
          "output_type": "execute_result",
          "data": {
            "text/plain": [
              "         CustomerID        Churn       Tenure     CityTier  WarehouseToHome  \\\n",
              "count   5619.000000  5619.000000  5619.000000  5619.000000      5619.000000   \n",
              "mean   52816.221392     0.168713    10.125467     1.653853        15.563623   \n",
              "std     1625.642617     0.374532     8.350080     0.915021         8.342056   \n",
              "min    50001.000000     0.000000     0.000000     1.000000         5.000000   \n",
              "25%    51410.500000     0.000000     3.000000     1.000000         9.000000   \n",
              "50%    52815.000000     0.000000     9.000000     1.000000        14.000000   \n",
              "75%    54224.500000     0.000000    15.000000     3.000000        20.000000   \n",
              "max    55630.000000     1.000000    61.000000     3.000000       127.000000   \n",
              "\n",
              "       HourSpendOnApp  NumberOfDeviceRegistered  SatisfactionScore  \\\n",
              "count     5619.000000               5619.000000        5619.000000   \n",
              "mean         2.934508                  3.688201           3.065848   \n",
              "std          0.705456                  1.023898           1.380046   \n",
              "min          0.000000                  1.000000           1.000000   \n",
              "25%          2.000000                  3.000000           2.000000   \n",
              "50%          3.000000                  4.000000           3.000000   \n",
              "75%          3.000000                  4.000000           4.000000   \n",
              "max          5.000000                  6.000000           5.000000   \n",
              "\n",
              "       NumberOfAddress     Complain  OrderAmountHikeFromlastYear   CouponUsed  \\\n",
              "count      5619.000000  5619.000000                  5619.000000  5619.000000   \n",
              "mean          4.216409     0.285282                    15.703257     1.712582   \n",
              "std           2.584108     0.451589                     3.587036     1.849385   \n",
              "min           1.000000     0.000000                    11.000000     0.000000   \n",
              "25%           2.000000     0.000000                    13.000000     1.000000   \n",
              "50%           3.000000     0.000000                    15.000000     1.000000   \n",
              "75%           6.000000     1.000000                    18.000000     2.000000   \n",
              "max          22.000000     1.000000                    26.000000    16.000000   \n",
              "\n",
              "        OrderCount  DaySinceLastOrder  CashbackAmount  \n",
              "count  5619.000000        5619.000000     5619.000000  \n",
              "mean      2.953728           4.454351      177.434362  \n",
              "std       2.867241           3.565614       48.729207  \n",
              "min       1.000000           0.000000       37.000000  \n",
              "25%       1.000000           2.000000      145.830000  \n",
              "50%       2.000000           3.000000      163.340000  \n",
              "75%       3.000000           7.000000      196.400000  \n",
              "max      16.000000          46.000000      324.730000  "
            ],
            "text/html": [
              "\n",
              "  <div id=\"df-ff2b2aeb-60d7-4b2b-b6fb-a0572e45532f\">\n",
              "    <div class=\"colab-df-container\">\n",
              "      <div>\n",
              "<style scoped>\n",
              "    .dataframe tbody tr th:only-of-type {\n",
              "        vertical-align: middle;\n",
              "    }\n",
              "\n",
              "    .dataframe tbody tr th {\n",
              "        vertical-align: top;\n",
              "    }\n",
              "\n",
              "    .dataframe thead th {\n",
              "        text-align: right;\n",
              "    }\n",
              "</style>\n",
              "<table border=\"1\" class=\"dataframe\">\n",
              "  <thead>\n",
              "    <tr style=\"text-align: right;\">\n",
              "      <th></th>\n",
              "      <th>CustomerID</th>\n",
              "      <th>Churn</th>\n",
              "      <th>Tenure</th>\n",
              "      <th>CityTier</th>\n",
              "      <th>WarehouseToHome</th>\n",
              "      <th>HourSpendOnApp</th>\n",
              "      <th>NumberOfDeviceRegistered</th>\n",
              "      <th>SatisfactionScore</th>\n",
              "      <th>NumberOfAddress</th>\n",
              "      <th>Complain</th>\n",
              "      <th>OrderAmountHikeFromlastYear</th>\n",
              "      <th>CouponUsed</th>\n",
              "      <th>OrderCount</th>\n",
              "      <th>DaySinceLastOrder</th>\n",
              "      <th>CashbackAmount</th>\n",
              "    </tr>\n",
              "  </thead>\n",
              "  <tbody>\n",
              "    <tr>\n",
              "      <th>count</th>\n",
              "      <td>5619.000000</td>\n",
              "      <td>5619.000000</td>\n",
              "      <td>5619.000000</td>\n",
              "      <td>5619.000000</td>\n",
              "      <td>5619.000000</td>\n",
              "      <td>5619.000000</td>\n",
              "      <td>5619.000000</td>\n",
              "      <td>5619.000000</td>\n",
              "      <td>5619.000000</td>\n",
              "      <td>5619.000000</td>\n",
              "      <td>5619.000000</td>\n",
              "      <td>5619.000000</td>\n",
              "      <td>5619.000000</td>\n",
              "      <td>5619.000000</td>\n",
              "      <td>5619.000000</td>\n",
              "    </tr>\n",
              "    <tr>\n",
              "      <th>mean</th>\n",
              "      <td>52816.221392</td>\n",
              "      <td>0.168713</td>\n",
              "      <td>10.125467</td>\n",
              "      <td>1.653853</td>\n",
              "      <td>15.563623</td>\n",
              "      <td>2.934508</td>\n",
              "      <td>3.688201</td>\n",
              "      <td>3.065848</td>\n",
              "      <td>4.216409</td>\n",
              "      <td>0.285282</td>\n",
              "      <td>15.703257</td>\n",
              "      <td>1.712582</td>\n",
              "      <td>2.953728</td>\n",
              "      <td>4.454351</td>\n",
              "      <td>177.434362</td>\n",
              "    </tr>\n",
              "    <tr>\n",
              "      <th>std</th>\n",
              "      <td>1625.642617</td>\n",
              "      <td>0.374532</td>\n",
              "      <td>8.350080</td>\n",
              "      <td>0.915021</td>\n",
              "      <td>8.342056</td>\n",
              "      <td>0.705456</td>\n",
              "      <td>1.023898</td>\n",
              "      <td>1.380046</td>\n",
              "      <td>2.584108</td>\n",
              "      <td>0.451589</td>\n",
              "      <td>3.587036</td>\n",
              "      <td>1.849385</td>\n",
              "      <td>2.867241</td>\n",
              "      <td>3.565614</td>\n",
              "      <td>48.729207</td>\n",
              "    </tr>\n",
              "    <tr>\n",
              "      <th>min</th>\n",
              "      <td>50001.000000</td>\n",
              "      <td>0.000000</td>\n",
              "      <td>0.000000</td>\n",
              "      <td>1.000000</td>\n",
              "      <td>5.000000</td>\n",
              "      <td>0.000000</td>\n",
              "      <td>1.000000</td>\n",
              "      <td>1.000000</td>\n",
              "      <td>1.000000</td>\n",
              "      <td>0.000000</td>\n",
              "      <td>11.000000</td>\n",
              "      <td>0.000000</td>\n",
              "      <td>1.000000</td>\n",
              "      <td>0.000000</td>\n",
              "      <td>37.000000</td>\n",
              "    </tr>\n",
              "    <tr>\n",
              "      <th>25%</th>\n",
              "      <td>51410.500000</td>\n",
              "      <td>0.000000</td>\n",
              "      <td>3.000000</td>\n",
              "      <td>1.000000</td>\n",
              "      <td>9.000000</td>\n",
              "      <td>2.000000</td>\n",
              "      <td>3.000000</td>\n",
              "      <td>2.000000</td>\n",
              "      <td>2.000000</td>\n",
              "      <td>0.000000</td>\n",
              "      <td>13.000000</td>\n",
              "      <td>1.000000</td>\n",
              "      <td>1.000000</td>\n",
              "      <td>2.000000</td>\n",
              "      <td>145.830000</td>\n",
              "    </tr>\n",
              "    <tr>\n",
              "      <th>50%</th>\n",
              "      <td>52815.000000</td>\n",
              "      <td>0.000000</td>\n",
              "      <td>9.000000</td>\n",
              "      <td>1.000000</td>\n",
              "      <td>14.000000</td>\n",
              "      <td>3.000000</td>\n",
              "      <td>4.000000</td>\n",
              "      <td>3.000000</td>\n",
              "      <td>3.000000</td>\n",
              "      <td>0.000000</td>\n",
              "      <td>15.000000</td>\n",
              "      <td>1.000000</td>\n",
              "      <td>2.000000</td>\n",
              "      <td>3.000000</td>\n",
              "      <td>163.340000</td>\n",
              "    </tr>\n",
              "    <tr>\n",
              "      <th>75%</th>\n",
              "      <td>54224.500000</td>\n",
              "      <td>0.000000</td>\n",
              "      <td>15.000000</td>\n",
              "      <td>3.000000</td>\n",
              "      <td>20.000000</td>\n",
              "      <td>3.000000</td>\n",
              "      <td>4.000000</td>\n",
              "      <td>4.000000</td>\n",
              "      <td>6.000000</td>\n",
              "      <td>1.000000</td>\n",
              "      <td>18.000000</td>\n",
              "      <td>2.000000</td>\n",
              "      <td>3.000000</td>\n",
              "      <td>7.000000</td>\n",
              "      <td>196.400000</td>\n",
              "    </tr>\n",
              "    <tr>\n",
              "      <th>max</th>\n",
              "      <td>55630.000000</td>\n",
              "      <td>1.000000</td>\n",
              "      <td>61.000000</td>\n",
              "      <td>3.000000</td>\n",
              "      <td>127.000000</td>\n",
              "      <td>5.000000</td>\n",
              "      <td>6.000000</td>\n",
              "      <td>5.000000</td>\n",
              "      <td>22.000000</td>\n",
              "      <td>1.000000</td>\n",
              "      <td>26.000000</td>\n",
              "      <td>16.000000</td>\n",
              "      <td>16.000000</td>\n",
              "      <td>46.000000</td>\n",
              "      <td>324.730000</td>\n",
              "    </tr>\n",
              "  </tbody>\n",
              "</table>\n",
              "</div>\n",
              "      <button class=\"colab-df-convert\" onclick=\"convertToInteractive('df-ff2b2aeb-60d7-4b2b-b6fb-a0572e45532f')\"\n",
              "              title=\"Convert this dataframe to an interactive table.\"\n",
              "              style=\"display:none;\">\n",
              "        \n",
              "  <svg xmlns=\"http://www.w3.org/2000/svg\" height=\"24px\"viewBox=\"0 0 24 24\"\n",
              "       width=\"24px\">\n",
              "    <path d=\"M0 0h24v24H0V0z\" fill=\"none\"/>\n",
              "    <path d=\"M18.56 5.44l.94 2.06.94-2.06 2.06-.94-2.06-.94-.94-2.06-.94 2.06-2.06.94zm-11 1L8.5 8.5l.94-2.06 2.06-.94-2.06-.94L8.5 2.5l-.94 2.06-2.06.94zm10 10l.94 2.06.94-2.06 2.06-.94-2.06-.94-.94-2.06-.94 2.06-2.06.94z\"/><path d=\"M17.41 7.96l-1.37-1.37c-.4-.4-.92-.59-1.43-.59-.52 0-1.04.2-1.43.59L10.3 9.45l-7.72 7.72c-.78.78-.78 2.05 0 2.83L4 21.41c.39.39.9.59 1.41.59.51 0 1.02-.2 1.41-.59l7.78-7.78 2.81-2.81c.8-.78.8-2.07 0-2.86zM5.41 20L4 18.59l7.72-7.72 1.47 1.35L5.41 20z\"/>\n",
              "  </svg>\n",
              "      </button>\n",
              "      \n",
              "  <style>\n",
              "    .colab-df-container {\n",
              "      display:flex;\n",
              "      flex-wrap:wrap;\n",
              "      gap: 12px;\n",
              "    }\n",
              "\n",
              "    .colab-df-convert {\n",
              "      background-color: #E8F0FE;\n",
              "      border: none;\n",
              "      border-radius: 50%;\n",
              "      cursor: pointer;\n",
              "      display: none;\n",
              "      fill: #1967D2;\n",
              "      height: 32px;\n",
              "      padding: 0 0 0 0;\n",
              "      width: 32px;\n",
              "    }\n",
              "\n",
              "    .colab-df-convert:hover {\n",
              "      background-color: #E2EBFA;\n",
              "      box-shadow: 0px 1px 2px rgba(60, 64, 67, 0.3), 0px 1px 3px 1px rgba(60, 64, 67, 0.15);\n",
              "      fill: #174EA6;\n",
              "    }\n",
              "\n",
              "    [theme=dark] .colab-df-convert {\n",
              "      background-color: #3B4455;\n",
              "      fill: #D2E3FC;\n",
              "    }\n",
              "\n",
              "    [theme=dark] .colab-df-convert:hover {\n",
              "      background-color: #434B5C;\n",
              "      box-shadow: 0px 1px 3px 1px rgba(0, 0, 0, 0.15);\n",
              "      filter: drop-shadow(0px 1px 2px rgba(0, 0, 0, 0.3));\n",
              "      fill: #FFFFFF;\n",
              "    }\n",
              "  </style>\n",
              "\n",
              "      <script>\n",
              "        const buttonEl =\n",
              "          document.querySelector('#df-ff2b2aeb-60d7-4b2b-b6fb-a0572e45532f button.colab-df-convert');\n",
              "        buttonEl.style.display =\n",
              "          google.colab.kernel.accessAllowed ? 'block' : 'none';\n",
              "\n",
              "        async function convertToInteractive(key) {\n",
              "          const element = document.querySelector('#df-ff2b2aeb-60d7-4b2b-b6fb-a0572e45532f');\n",
              "          const dataTable =\n",
              "            await google.colab.kernel.invokeFunction('convertToInteractive',\n",
              "                                                     [key], {});\n",
              "          if (!dataTable) return;\n",
              "\n",
              "          const docLinkHtml = 'Like what you see? Visit the ' +\n",
              "            '<a target=\"_blank\" href=https://colab.research.google.com/notebooks/data_table.ipynb>data table notebook</a>'\n",
              "            + ' to learn more about interactive tables.';\n",
              "          element.innerHTML = '';\n",
              "          dataTable['output_type'] = 'display_data';\n",
              "          await google.colab.output.renderOutput(dataTable, element);\n",
              "          const docLink = document.createElement('div');\n",
              "          docLink.innerHTML = docLinkHtml;\n",
              "          element.appendChild(docLink);\n",
              "        }\n",
              "      </script>\n",
              "    </div>\n",
              "  </div>\n",
              "  "
            ]
          },
          "metadata": {},
          "execution_count": 77
        }
      ]
    },
    {
      "cell_type": "code",
      "source": [
        "df['PreferredLoginDevice'].replace('Phone','Mobile Phone', inplace=True)\n",
        "df['PreferredPaymentMode'].replace('CC','Credit Card', inplace=True)\n",
        "df['PreferredPaymentMode'].replace('Cash on Delivery','COD', inplace=True)\n",
        "df['PreferedOrderCat'].replace('Mobile','Mobile Phone', inplace=True)"
      ],
      "metadata": {
        "id": "xFWgkEIcUECo"
      },
      "execution_count": null,
      "outputs": []
    },
    {
      "cell_type": "code",
      "source": [
        "print (\"Number of Every Distinct Categorical Feature After Standardization\\n\")\n",
        "\n",
        "for col_name in df.columns:\n",
        "    if df[col_name].dtypes =='object':\n",
        "        print ('\\nNumber of unique category in {} : {}'.format(col_name, df[col_name].nunique()))\n",
        "        print ('The values are :')\n",
        "        print (df[col_name].value_counts())"
      ],
      "metadata": {
        "colab": {
          "base_uri": "https://localhost:8080/"
        },
        "id": "C3j1DoxRUGJF",
        "outputId": "507e5a12-5ba5-4636-e635-b456903e1c8d"
      },
      "execution_count": null,
      "outputs": [
        {
          "output_type": "stream",
          "name": "stdout",
          "text": [
            "Number of Every Distinct Categorical Feature After Standardization\n",
            "\n",
            "\n",
            "Number of unique category in PreferredLoginDevice : 2\n",
            "The values are :\n",
            "Mobile Phone    3989\n",
            "Computer        1630\n",
            "Name: PreferredLoginDevice, dtype: int64\n",
            "\n",
            "Number of unique category in PreferredPaymentMode : 5\n",
            "The values are :\n",
            "Debit Card     2312\n",
            "Credit Card    1767\n",
            "E wallet        612\n",
            "COD             514\n",
            "UPI             414\n",
            "Name: PreferredPaymentMode, dtype: int64\n",
            "\n",
            "Number of unique category in Gender : 2\n",
            "The values are :\n",
            "Male      3376\n",
            "Female    2243\n",
            "Name: Gender, dtype: int64\n",
            "\n",
            "Number of unique category in PreferedOrderCat : 5\n",
            "The values are :\n",
            "Mobile Phone          2078\n",
            "Laptop & Accessory    2045\n",
            "Fashion                826\n",
            "Grocery                408\n",
            "Others                 262\n",
            "Name: PreferedOrderCat, dtype: int64\n",
            "\n",
            "Number of unique category in MaritalStatus : 3\n",
            "The values are :\n",
            "Married     2976\n",
            "Single      1796\n",
            "Divorced     847\n",
            "Name: MaritalStatus, dtype: int64\n"
          ]
        }
      ]
    },
    {
      "cell_type": "markdown",
      "metadata": {
        "id": "gGrxTwL4yZ7l"
      },
      "source": [
        "### D. Feature Transformation"
      ]
    },
    {
      "cell_type": "code",
      "execution_count": null,
      "metadata": {
        "id": "fFR8rCuVEB3N"
      },
      "outputs": [],
      "source": [
        "from sklearn.preprocessing import MinMaxScaler, StandardScaler"
      ]
    },
    {
      "cell_type": "code",
      "source": [
        "from scipy.stats import skew, kurtosis"
      ],
      "metadata": {
        "id": "W-rgIMivAM8V"
      },
      "execution_count": null,
      "outputs": []
    },
    {
      "cell_type": "code",
      "source": [
        "feature_trans = nums.copy()\n",
        "del feature_trans[:2]\n",
        "feature_normal = []\n",
        "feature_non_normal = []\n",
        "\n",
        "for i in feature_trans:\n",
        "  skw = skew(df[i])\n",
        "  kts = kurtosis(df[i])\n",
        "  if skw < 2 and skw > -2:\n",
        "    if kts < 2 and kts > -2:\n",
        "      feature_normal.append(i)\n",
        "    else:\n",
        "      feature_non_normal.append(i)\n",
        "  else:\n",
        "    feature_non_normal.append(i)\n",
        "\n",
        "print('Distribusi Normal:', feature_normal)\n",
        "print('Distribusi Non Normal:', feature_non_normal)"
      ],
      "metadata": {
        "colab": {
          "base_uri": "https://localhost:8080/"
        },
        "id": "sjFFINOpAOqf",
        "outputId": "0bdcbe4b-d335-4be7-d1e6-2cfbcdcde8f1"
      },
      "execution_count": null,
      "outputs": [
        {
          "output_type": "stream",
          "name": "stdout",
          "text": [
            "Distribusi Normal: ['HourSpendOnApp', 'NumberOfDeviceRegistered', 'SatisfactionScore', 'NumberOfAddress', 'OrderAmountHikeFromlastYear', 'CashbackAmount']\n",
            "Distribusi Non Normal: ['CouponUsed', 'OrderCount', 'DaySinceLastOrder']\n"
          ]
        }
      ]
    },
    {
      "cell_type": "code",
      "source": [
        "from sklearn.model_selection import train_test_split"
      ],
      "metadata": {
        "id": "rcdvq9wgAg91"
      },
      "execution_count": null,
      "outputs": []
    },
    {
      "cell_type": "code",
      "source": [
        "feature = df.columns.tolist()\n",
        "del feature[:2]\n",
        "feature"
      ],
      "metadata": {
        "colab": {
          "base_uri": "https://localhost:8080/"
        },
        "id": "gROy7xaImgxv",
        "outputId": "1e6d97df-208f-4888-f2aa-b8c27d977cde"
      },
      "execution_count": null,
      "outputs": [
        {
          "output_type": "execute_result",
          "data": {
            "text/plain": [
              "['Tenure',\n",
              " 'PreferredLoginDevice',\n",
              " 'CityTier',\n",
              " 'WarehouseToHome',\n",
              " 'PreferredPaymentMode',\n",
              " 'Gender',\n",
              " 'HourSpendOnApp',\n",
              " 'NumberOfDeviceRegistered',\n",
              " 'PreferedOrderCat',\n",
              " 'SatisfactionScore',\n",
              " 'MaritalStatus',\n",
              " 'NumberOfAddress',\n",
              " 'Complain',\n",
              " 'OrderAmountHikeFromlastYear',\n",
              " 'CouponUsed',\n",
              " 'OrderCount',\n",
              " 'DaySinceLastOrder',\n",
              " 'CashbackAmount']"
            ]
          },
          "metadata": {},
          "execution_count": 84
        }
      ]
    },
    {
      "cell_type": "markdown",
      "metadata": {
        "id": "Jif9zw_syjeV"
      },
      "source": [
        "### E. Feature Encoding"
      ]
    },
    {
      "cell_type": "code",
      "execution_count": null,
      "metadata": {
        "id": "vfigHp7lECdK",
        "colab": {
          "base_uri": "https://localhost:8080/"
        },
        "outputId": "f82ce8ca-bfc5-470f-e806-48236a9a21cf"
      },
      "outputs": [
        {
          "output_type": "stream",
          "name": "stdout",
          "text": [
            "value counts of column PreferredLoginDevice\n",
            "Mobile Phone    3989\n",
            "Computer        1630\n",
            "Name: PreferredLoginDevice, dtype: int64\n",
            "------------------------------ \n",
            "\n",
            "value counts of column PreferredPaymentMode\n",
            "Debit Card     2312\n",
            "Credit Card    1767\n",
            "E wallet        612\n",
            "COD             514\n",
            "UPI             414\n",
            "Name: PreferredPaymentMode, dtype: int64\n",
            "------------------------------ \n",
            "\n",
            "value counts of column Gender\n",
            "Male      3376\n",
            "Female    2243\n",
            "Name: Gender, dtype: int64\n",
            "------------------------------ \n",
            "\n",
            "value counts of column PreferedOrderCat\n",
            "Mobile Phone          2078\n",
            "Laptop & Accessory    2045\n",
            "Fashion                826\n",
            "Grocery                408\n",
            "Others                 262\n",
            "Name: PreferedOrderCat, dtype: int64\n",
            "------------------------------ \n",
            "\n",
            "value counts of column MaritalStatus\n",
            "Married     2976\n",
            "Single      1796\n",
            "Divorced     847\n",
            "Name: MaritalStatus, dtype: int64\n",
            "------------------------------ \n",
            "\n"
          ]
        }
      ],
      "source": [
        "for col in cats:\n",
        "  print(f'value counts of column {col}')\n",
        "  print(df[col].value_counts())\n",
        "  print('---'*10, '\\n')"
      ]
    },
    {
      "cell_type": "code",
      "source": [
        "mapping_login_device= {\n",
        "    'Mobile Phone' : 0,\n",
        "    'Computer' : 1\n",
        "}\n",
        "\n",
        "mapping_gender = {\n",
        "    'Male' : 0,\n",
        "    'Female' : 1\n",
        "}\n",
        "\n",
        "mapping_marital_status = {\n",
        "    'Married' : 0,\n",
        "    'Single' : 1,\n",
        "    'Divorced' : 2\n",
        "}\n",
        "df['PreferredLoginDevice'] = df['PreferredLoginDevice'].map(mapping_login_device)\n",
        "df['Gender'] = df['Gender'].map(mapping_gender)\n",
        "df['MaritalStatus'] = df['MaritalStatus'].map(mapping_marital_status)"
      ],
      "metadata": {
        "id": "5uvbu8LLplwS"
      },
      "execution_count": null,
      "outputs": []
    },
    {
      "cell_type": "code",
      "source": [
        "for cat in ['PreferredPaymentMode', 'PreferedOrderCat']:\n",
        "    onehots = pd.get_dummies(df[cat], prefix=cat)\n",
        "    df = df.join(onehots)"
      ],
      "metadata": {
        "id": "dYW8EslKpq_B"
      },
      "execution_count": null,
      "outputs": []
    },
    {
      "cell_type": "code",
      "source": [
        "df_new = df.drop(columns=['PreferredPaymentMode','PreferedOrderCat']).copy()"
      ],
      "metadata": {
        "id": "RCz4iua0PXEd"
      },
      "execution_count": null,
      "outputs": []
    },
    {
      "cell_type": "code",
      "source": [
        "df_new.info()"
      ],
      "metadata": {
        "colab": {
          "base_uri": "https://localhost:8080/"
        },
        "id": "z6l_SyAEP0FZ",
        "outputId": "921dd312-caa2-4201-a198-f39321e6064a"
      },
      "execution_count": null,
      "outputs": [
        {
          "output_type": "stream",
          "name": "stdout",
          "text": [
            "<class 'pandas.core.frame.DataFrame'>\n",
            "Int64Index: 5619 entries, 0 to 5629\n",
            "Data columns (total 28 columns):\n",
            " #   Column                               Non-Null Count  Dtype  \n",
            "---  ------                               --------------  -----  \n",
            " 0   CustomerID                           5619 non-null   int64  \n",
            " 1   Churn                                5619 non-null   int64  \n",
            " 2   Tenure                               5619 non-null   float64\n",
            " 3   PreferredLoginDevice                 5619 non-null   int64  \n",
            " 4   CityTier                             5619 non-null   int64  \n",
            " 5   WarehouseToHome                      5619 non-null   float64\n",
            " 6   Gender                               5619 non-null   int64  \n",
            " 7   HourSpendOnApp                       5619 non-null   float64\n",
            " 8   NumberOfDeviceRegistered             5619 non-null   int64  \n",
            " 9   SatisfactionScore                    5619 non-null   int64  \n",
            " 10  MaritalStatus                        5619 non-null   int64  \n",
            " 11  NumberOfAddress                      5619 non-null   int64  \n",
            " 12  Complain                             5619 non-null   int64  \n",
            " 13  OrderAmountHikeFromlastYear          5619 non-null   float64\n",
            " 14  CouponUsed                           5619 non-null   float64\n",
            " 15  OrderCount                           5619 non-null   float64\n",
            " 16  DaySinceLastOrder                    5619 non-null   float64\n",
            " 17  CashbackAmount                       5619 non-null   float64\n",
            " 18  PreferredPaymentMode_COD             5619 non-null   uint8  \n",
            " 19  PreferredPaymentMode_Credit Card     5619 non-null   uint8  \n",
            " 20  PreferredPaymentMode_Debit Card      5619 non-null   uint8  \n",
            " 21  PreferredPaymentMode_E wallet        5619 non-null   uint8  \n",
            " 22  PreferredPaymentMode_UPI             5619 non-null   uint8  \n",
            " 23  PreferedOrderCat_Fashion             5619 non-null   uint8  \n",
            " 24  PreferedOrderCat_Grocery             5619 non-null   uint8  \n",
            " 25  PreferedOrderCat_Laptop & Accessory  5619 non-null   uint8  \n",
            " 26  PreferedOrderCat_Mobile Phone        5619 non-null   uint8  \n",
            " 27  PreferedOrderCat_Others              5619 non-null   uint8  \n",
            "dtypes: float64(8), int64(10), uint8(10)\n",
            "memory usage: 1018.0 KB\n"
          ]
        }
      ]
    },
    {
      "cell_type": "markdown",
      "metadata": {
        "id": "9nAtrA5uyrDC"
      },
      "source": [
        "### F. Handle Class Imbalance"
      ]
    },
    {
      "cell_type": "code",
      "execution_count": null,
      "metadata": {
        "id": "UblzFIO9EC_H",
        "colab": {
          "base_uri": "https://localhost:8080/"
        },
        "outputId": "1ea1893f-cc34-4321-c97a-c79f446f276f"
      },
      "outputs": [
        {
          "output_type": "stream",
          "name": "stdout",
          "text": [
            "False    4671\n",
            "True      948\n",
            "Name: Churn_Class, dtype: int64\n"
          ]
        }
      ],
      "source": [
        "#Menampilkan jumlah pelanggan churn dan tidak, membuat target bertipe categorical\n",
        "df_new['Churn_Class'] = df_new['Churn']>0.9\n",
        "print(df_new['Churn_Class'].value_counts())"
      ]
    },
    {
      "cell_type": "code",
      "source": [
        "#Pemisahan feature dan target\n",
        "x = df_new[[col for col in df_new.columns if col not in ['Churn_Class','Churn']]].values\n",
        "y = df_new['Churn_Class'].values\n",
        "print(x.shape)\n",
        "print(y.shape)"
      ],
      "metadata": {
        "colab": {
          "base_uri": "https://localhost:8080/"
        },
        "id": "4NbBWtlP8l8P",
        "outputId": "8c3c3995-5ab6-46b7-8f89-e0954457b4e7"
      },
      "execution_count": null,
      "outputs": [
        {
          "output_type": "stream",
          "name": "stdout",
          "text": [
            "(5619, 27)\n",
            "(5619,)\n"
          ]
        }
      ]
    },
    {
      "cell_type": "code",
      "source": [
        "#Proses undersampling dan oversampling\n",
        "from imblearn import under_sampling, over_sampling\n",
        "x_under, y_under = under_sampling.RandomUnderSampler(1.0).fit_resample(x, y)\n",
        "x_over, y_over = over_sampling.RandomOverSampler(1.0).fit_resample(x, y)\n",
        "x_smote, y_smote = over_sampling.SMOTE().fit_resample(x, y)"
      ],
      "metadata": {
        "id": "c1a1ETrTOESb",
        "colab": {
          "base_uri": "https://localhost:8080/"
        },
        "outputId": "9afc10a8-d900-48e0-a8f3-c56f950efcf5"
      },
      "execution_count": null,
      "outputs": [
        {
          "output_type": "stream",
          "name": "stderr",
          "text": [
            "/usr/local/lib/python3.8/dist-packages/imblearn/utils/_validation.py:587: FutureWarning: Pass sampling_strategy=1.0 as keyword args. From version 0.9 passing these as positional arguments will result in an error\n",
            "  warnings.warn(\n",
            "/usr/local/lib/python3.8/dist-packages/imblearn/utils/_validation.py:587: FutureWarning: Pass sampling_strategy=1.0 as keyword args. From version 0.9 passing these as positional arguments will result in an error\n",
            "  warnings.warn(\n"
          ]
        }
      ]
    },
    {
      "cell_type": "code",
      "source": [
        "print(pd.Series(y).value_counts())"
      ],
      "metadata": {
        "colab": {
          "base_uri": "https://localhost:8080/"
        },
        "id": "F-NDoJrEW2tE",
        "outputId": "317f3e76-a78a-4bd1-e66f-3902d70821b5"
      },
      "execution_count": null,
      "outputs": [
        {
          "output_type": "stream",
          "name": "stdout",
          "text": [
            "False    4671\n",
            "True      948\n",
            "dtype: int64\n"
          ]
        }
      ]
    },
    {
      "cell_type": "code",
      "source": [
        "print(pd.Series(y_over).value_counts())"
      ],
      "metadata": {
        "id": "-clG-Nx_W5QE",
        "outputId": "dd06ff50-a085-4cb0-dc2a-d43a81a9de94",
        "colab": {
          "base_uri": "https://localhost:8080/"
        }
      },
      "execution_count": null,
      "outputs": [
        {
          "output_type": "stream",
          "name": "stdout",
          "text": [
            "True     4671\n",
            "False    4671\n",
            "dtype: int64\n"
          ]
        }
      ]
    },
    {
      "cell_type": "code",
      "source": [
        "print(pd.Series(y_under).value_counts())"
      ],
      "metadata": {
        "id": "9rvm6e11W8nd",
        "outputId": "3fe4b792-0bce-4651-9a55-905e0b2d329c",
        "colab": {
          "base_uri": "https://localhost:8080/"
        }
      },
      "execution_count": null,
      "outputs": [
        {
          "output_type": "stream",
          "name": "stdout",
          "text": [
            "False    948\n",
            "True     948\n",
            "dtype: int64\n"
          ]
        }
      ]
    },
    {
      "cell_type": "code",
      "source": [
        "print(pd.Series(y_smote).value_counts())"
      ],
      "metadata": {
        "id": "1Q4HySJYW_Cr",
        "outputId": "7b07c797-0dba-4eca-a687-d2721ccbdcb0",
        "colab": {
          "base_uri": "https://localhost:8080/"
        }
      },
      "execution_count": null,
      "outputs": [
        {
          "output_type": "stream",
          "name": "stdout",
          "text": [
            "True     4671\n",
            "False    4671\n",
            "dtype: int64\n"
          ]
        }
      ]
    },
    {
      "cell_type": "markdown",
      "metadata": {
        "id": "ccDxyIUXrHK-"
      },
      "source": [
        "## 2. Feature Engineering"
      ]
    },
    {
      "cell_type": "markdown",
      "metadata": {
        "id": "C9ztouoRED6t"
      },
      "source": [
        "## A. Feature Selection\n",
        "Feature selection tidak dapat dilakukan karena semua feature digunakan untuk modelling"
      ]
    },
    {
      "cell_type": "markdown",
      "source": [
        "## B. Feature Extraction\n"
      ],
      "metadata": {
        "id": "Ozx20gc_J227"
      }
    },
    {
      "cell_type": "markdown",
      "source": [
        "Menambahkan feature average churn"
      ],
      "metadata": {
        "id": "IAbz7v3TuNXZ"
      }
    },
    {
      "cell_type": "code",
      "source": [
        "df['avg_cashback_per_order'] = df['CashbackAmount'] / df['OrderCount']"
      ],
      "metadata": {
        "id": "Vx5WMgU8J0ms"
      },
      "execution_count": null,
      "outputs": []
    },
    {
      "cell_type": "code",
      "source": [
        "churn_percentage = round((df['Churn'][df['Churn']==1].count()*100/df['Churn'][df['Churn']==0].count()),2)"
      ],
      "metadata": {
        "id": "vG3ex_Aeq_1b"
      },
      "execution_count": null,
      "outputs": []
    },
    {
      "cell_type": "code",
      "source": [
        "print ('rata-rata churn adalah', churn_percentage, '%')"
      ],
      "metadata": {
        "colab": {
          "base_uri": "https://localhost:8080/"
        },
        "id": "WPMehQi0rhnK",
        "outputId": "3647c29f-dff9-433e-b086-42c527ee13a3"
      },
      "execution_count": null,
      "outputs": [
        {
          "output_type": "stream",
          "name": "stdout",
          "text": [
            "rata-rata churn adalah 20.3 %\n"
          ]
        }
      ]
    },
    {
      "cell_type": "markdown",
      "source": [
        "## C. Feature Tambahan\n",
        "1. Age = untuk mengetahui persebaran umur yang lebih banyak churn.\n",
        "2. Product recommendation = untuk dapat mengukur kategori mana yang dapat ditawari promo.\n",
        "3. Product review = menggali ulasan customer sehingga dapat membantu keputusan pembelian bagi customer berikutnya.\n",
        "4. Call-to-action = memberikan informasi baru tentang produk-produk atau promo sehingga dapat menarik perhatian customer."
      ],
      "metadata": {
        "id": "1In_Va6tuW6R"
      }
    },
    {
      "cell_type": "markdown",
      "source": [
        "# **Stage 3**"
      ],
      "metadata": {
        "id": "mgk2J8PDclMD"
      }
    },
    {
      "cell_type": "markdown",
      "source": [
        "## Split Data"
      ],
      "metadata": {
        "id": "BH1zBK07i9Gi"
      }
    },
    {
      "cell_type": "code",
      "source": [
        "# Split Feature and Label\n",
        "x = df_new[[col for col in df_new.columns if col not in ['Churn_Class','Churn', 'CustomerID']]].values\n",
        "y = df_new['Churn_Class'].values"
      ],
      "metadata": {
        "id": "1Cz6goIk0--O"
      },
      "execution_count": null,
      "outputs": []
    },
    {
      "cell_type": "code",
      "source": [
        "# split data train dan test\n",
        "x = df_new[[col for col in df_new.columns if col not in ['Churn_Class','Churn', 'CustomerID']]]\n",
        "from sklearn.model_selection import train_test_split\n",
        "x_train, x_test, y_train, y_test = train_test_split(x,y,test_size=0.3, random_state=42)"
      ],
      "metadata": {
        "id": "271ZWsHJ1JOP"
      },
      "execution_count": null,
      "outputs": []
    },
    {
      "cell_type": "code",
      "source": [
        "from imblearn import over_sampling\n",
        "x_train_smote, y_train_smote = over_sampling.SMOTE(random_state=42).fit_resample(x_train, y_train)"
      ],
      "metadata": {
        "id": "PmXK6ZwuBA59"
      },
      "execution_count": null,
      "outputs": []
    },
    {
      "cell_type": "code",
      "source": [
        "from sklearn.preprocessing import StandardScaler"
      ],
      "metadata": {
        "id": "lI_EyHcTs6Zu"
      },
      "execution_count": null,
      "outputs": []
    },
    {
      "cell_type": "code",
      "source": [
        "for i in transform:\n",
        "  scaler = StandardScaler().fit(x_train[[i]])\n",
        "  x_train[i] = scaler.transform(x_train[[i]])\n",
        "  x_test[i] = scaler.transform(x_test[[i]])\n",
        "\n",
        "x_train.head()"
      ],
      "metadata": {
        "colab": {
          "base_uri": "https://localhost:8080/",
          "height": 317
        },
        "id": "UfhavAu3s7Lo",
        "outputId": "1a22481f-1941-47e7-8791-6fa8bb0f67e0"
      },
      "execution_count": null,
      "outputs": [
        {
          "output_type": "execute_result",
          "data": {
            "text/plain": [
              "      Tenure  PreferredLoginDevice  CityTier  WarehouseToHome  Gender  \\\n",
              "271     16.0                     0         1             14.0       1   \n",
              "3567    20.0                     0         1              9.0       0   \n",
              "4597     4.0                     0         3             14.0       0   \n",
              "5109    13.0                     0         1             25.0       0   \n",
              "2450     6.0                     0         3             14.0       0   \n",
              "\n",
              "      HourSpendOnApp  NumberOfDeviceRegistered  SatisfactionScore  \\\n",
              "271         0.083773                 -0.692300          -0.040349   \n",
              "3567        0.083773                  0.294227          -0.768303   \n",
              "4597        0.083773                  0.294227           0.687605   \n",
              "5109        0.083773                  0.294227          -0.040349   \n",
              "2450       -1.348751                 -0.692300           1.415559   \n",
              "\n",
              "      MaritalStatus  NumberOfAddress  ...  PreferredPaymentMode_COD  \\\n",
              "271               0         0.312109  ...                         0   \n",
              "3567              0        -0.079571  ...                         1   \n",
              "4597              1        -0.862930  ...                         0   \n",
              "5109              1        -0.862930  ...                         0   \n",
              "2450              0        -0.471251  ...                         0   \n",
              "\n",
              "      PreferredPaymentMode_Credit Card  PreferredPaymentMode_Debit Card  \\\n",
              "271                                  0                                0   \n",
              "3567                                 0                                0   \n",
              "4597                                 0                                0   \n",
              "5109                                 0                                1   \n",
              "2450                                 0                                1   \n",
              "\n",
              "      PreferredPaymentMode_E wallet  PreferredPaymentMode_UPI  \\\n",
              "271                               0                         1   \n",
              "3567                              0                         0   \n",
              "4597                              1                         0   \n",
              "5109                              0                         0   \n",
              "2450                              0                         0   \n",
              "\n",
              "      PreferedOrderCat_Fashion  PreferedOrderCat_Grocery  \\\n",
              "271                          0                         0   \n",
              "3567                         0                         0   \n",
              "4597                         0                         0   \n",
              "5109                         0                         0   \n",
              "2450                         0                         0   \n",
              "\n",
              "      PreferedOrderCat_Laptop & Accessory  PreferedOrderCat_Mobile Phone  \\\n",
              "271                                     1                              0   \n",
              "3567                                    1                              0   \n",
              "4597                                    0                              1   \n",
              "5109                                    1                              0   \n",
              "2450                                    1                              0   \n",
              "\n",
              "      PreferedOrderCat_Others  \n",
              "271                         0  \n",
              "3567                        0  \n",
              "4597                        0  \n",
              "5109                        0  \n",
              "2450                        0  \n",
              "\n",
              "[5 rows x 26 columns]"
            ],
            "text/html": [
              "\n",
              "  <div id=\"df-1eb2e18b-0220-4ae3-a872-9828bd412226\">\n",
              "    <div class=\"colab-df-container\">\n",
              "      <div>\n",
              "<style scoped>\n",
              "    .dataframe tbody tr th:only-of-type {\n",
              "        vertical-align: middle;\n",
              "    }\n",
              "\n",
              "    .dataframe tbody tr th {\n",
              "        vertical-align: top;\n",
              "    }\n",
              "\n",
              "    .dataframe thead th {\n",
              "        text-align: right;\n",
              "    }\n",
              "</style>\n",
              "<table border=\"1\" class=\"dataframe\">\n",
              "  <thead>\n",
              "    <tr style=\"text-align: right;\">\n",
              "      <th></th>\n",
              "      <th>Tenure</th>\n",
              "      <th>PreferredLoginDevice</th>\n",
              "      <th>CityTier</th>\n",
              "      <th>WarehouseToHome</th>\n",
              "      <th>Gender</th>\n",
              "      <th>HourSpendOnApp</th>\n",
              "      <th>NumberOfDeviceRegistered</th>\n",
              "      <th>SatisfactionScore</th>\n",
              "      <th>MaritalStatus</th>\n",
              "      <th>NumberOfAddress</th>\n",
              "      <th>...</th>\n",
              "      <th>PreferredPaymentMode_COD</th>\n",
              "      <th>PreferredPaymentMode_Credit Card</th>\n",
              "      <th>PreferredPaymentMode_Debit Card</th>\n",
              "      <th>PreferredPaymentMode_E wallet</th>\n",
              "      <th>PreferredPaymentMode_UPI</th>\n",
              "      <th>PreferedOrderCat_Fashion</th>\n",
              "      <th>PreferedOrderCat_Grocery</th>\n",
              "      <th>PreferedOrderCat_Laptop &amp; Accessory</th>\n",
              "      <th>PreferedOrderCat_Mobile Phone</th>\n",
              "      <th>PreferedOrderCat_Others</th>\n",
              "    </tr>\n",
              "  </thead>\n",
              "  <tbody>\n",
              "    <tr>\n",
              "      <th>271</th>\n",
              "      <td>16.0</td>\n",
              "      <td>0</td>\n",
              "      <td>1</td>\n",
              "      <td>14.0</td>\n",
              "      <td>1</td>\n",
              "      <td>0.083773</td>\n",
              "      <td>-0.692300</td>\n",
              "      <td>-0.040349</td>\n",
              "      <td>0</td>\n",
              "      <td>0.312109</td>\n",
              "      <td>...</td>\n",
              "      <td>0</td>\n",
              "      <td>0</td>\n",
              "      <td>0</td>\n",
              "      <td>0</td>\n",
              "      <td>1</td>\n",
              "      <td>0</td>\n",
              "      <td>0</td>\n",
              "      <td>1</td>\n",
              "      <td>0</td>\n",
              "      <td>0</td>\n",
              "    </tr>\n",
              "    <tr>\n",
              "      <th>3567</th>\n",
              "      <td>20.0</td>\n",
              "      <td>0</td>\n",
              "      <td>1</td>\n",
              "      <td>9.0</td>\n",
              "      <td>0</td>\n",
              "      <td>0.083773</td>\n",
              "      <td>0.294227</td>\n",
              "      <td>-0.768303</td>\n",
              "      <td>0</td>\n",
              "      <td>-0.079571</td>\n",
              "      <td>...</td>\n",
              "      <td>1</td>\n",
              "      <td>0</td>\n",
              "      <td>0</td>\n",
              "      <td>0</td>\n",
              "      <td>0</td>\n",
              "      <td>0</td>\n",
              "      <td>0</td>\n",
              "      <td>1</td>\n",
              "      <td>0</td>\n",
              "      <td>0</td>\n",
              "    </tr>\n",
              "    <tr>\n",
              "      <th>4597</th>\n",
              "      <td>4.0</td>\n",
              "      <td>0</td>\n",
              "      <td>3</td>\n",
              "      <td>14.0</td>\n",
              "      <td>0</td>\n",
              "      <td>0.083773</td>\n",
              "      <td>0.294227</td>\n",
              "      <td>0.687605</td>\n",
              "      <td>1</td>\n",
              "      <td>-0.862930</td>\n",
              "      <td>...</td>\n",
              "      <td>0</td>\n",
              "      <td>0</td>\n",
              "      <td>0</td>\n",
              "      <td>1</td>\n",
              "      <td>0</td>\n",
              "      <td>0</td>\n",
              "      <td>0</td>\n",
              "      <td>0</td>\n",
              "      <td>1</td>\n",
              "      <td>0</td>\n",
              "    </tr>\n",
              "    <tr>\n",
              "      <th>5109</th>\n",
              "      <td>13.0</td>\n",
              "      <td>0</td>\n",
              "      <td>1</td>\n",
              "      <td>25.0</td>\n",
              "      <td>0</td>\n",
              "      <td>0.083773</td>\n",
              "      <td>0.294227</td>\n",
              "      <td>-0.040349</td>\n",
              "      <td>1</td>\n",
              "      <td>-0.862930</td>\n",
              "      <td>...</td>\n",
              "      <td>0</td>\n",
              "      <td>0</td>\n",
              "      <td>1</td>\n",
              "      <td>0</td>\n",
              "      <td>0</td>\n",
              "      <td>0</td>\n",
              "      <td>0</td>\n",
              "      <td>1</td>\n",
              "      <td>0</td>\n",
              "      <td>0</td>\n",
              "    </tr>\n",
              "    <tr>\n",
              "      <th>2450</th>\n",
              "      <td>6.0</td>\n",
              "      <td>0</td>\n",
              "      <td>3</td>\n",
              "      <td>14.0</td>\n",
              "      <td>0</td>\n",
              "      <td>-1.348751</td>\n",
              "      <td>-0.692300</td>\n",
              "      <td>1.415559</td>\n",
              "      <td>0</td>\n",
              "      <td>-0.471251</td>\n",
              "      <td>...</td>\n",
              "      <td>0</td>\n",
              "      <td>0</td>\n",
              "      <td>1</td>\n",
              "      <td>0</td>\n",
              "      <td>0</td>\n",
              "      <td>0</td>\n",
              "      <td>0</td>\n",
              "      <td>1</td>\n",
              "      <td>0</td>\n",
              "      <td>0</td>\n",
              "    </tr>\n",
              "  </tbody>\n",
              "</table>\n",
              "<p>5 rows × 26 columns</p>\n",
              "</div>\n",
              "      <button class=\"colab-df-convert\" onclick=\"convertToInteractive('df-1eb2e18b-0220-4ae3-a872-9828bd412226')\"\n",
              "              title=\"Convert this dataframe to an interactive table.\"\n",
              "              style=\"display:none;\">\n",
              "        \n",
              "  <svg xmlns=\"http://www.w3.org/2000/svg\" height=\"24px\"viewBox=\"0 0 24 24\"\n",
              "       width=\"24px\">\n",
              "    <path d=\"M0 0h24v24H0V0z\" fill=\"none\"/>\n",
              "    <path d=\"M18.56 5.44l.94 2.06.94-2.06 2.06-.94-2.06-.94-.94-2.06-.94 2.06-2.06.94zm-11 1L8.5 8.5l.94-2.06 2.06-.94-2.06-.94L8.5 2.5l-.94 2.06-2.06.94zm10 10l.94 2.06.94-2.06 2.06-.94-2.06-.94-.94-2.06-.94 2.06-2.06.94z\"/><path d=\"M17.41 7.96l-1.37-1.37c-.4-.4-.92-.59-1.43-.59-.52 0-1.04.2-1.43.59L10.3 9.45l-7.72 7.72c-.78.78-.78 2.05 0 2.83L4 21.41c.39.39.9.59 1.41.59.51 0 1.02-.2 1.41-.59l7.78-7.78 2.81-2.81c.8-.78.8-2.07 0-2.86zM5.41 20L4 18.59l7.72-7.72 1.47 1.35L5.41 20z\"/>\n",
              "  </svg>\n",
              "      </button>\n",
              "      \n",
              "  <style>\n",
              "    .colab-df-container {\n",
              "      display:flex;\n",
              "      flex-wrap:wrap;\n",
              "      gap: 12px;\n",
              "    }\n",
              "\n",
              "    .colab-df-convert {\n",
              "      background-color: #E8F0FE;\n",
              "      border: none;\n",
              "      border-radius: 50%;\n",
              "      cursor: pointer;\n",
              "      display: none;\n",
              "      fill: #1967D2;\n",
              "      height: 32px;\n",
              "      padding: 0 0 0 0;\n",
              "      width: 32px;\n",
              "    }\n",
              "\n",
              "    .colab-df-convert:hover {\n",
              "      background-color: #E2EBFA;\n",
              "      box-shadow: 0px 1px 2px rgba(60, 64, 67, 0.3), 0px 1px 3px 1px rgba(60, 64, 67, 0.15);\n",
              "      fill: #174EA6;\n",
              "    }\n",
              "\n",
              "    [theme=dark] .colab-df-convert {\n",
              "      background-color: #3B4455;\n",
              "      fill: #D2E3FC;\n",
              "    }\n",
              "\n",
              "    [theme=dark] .colab-df-convert:hover {\n",
              "      background-color: #434B5C;\n",
              "      box-shadow: 0px 1px 3px 1px rgba(0, 0, 0, 0.15);\n",
              "      filter: drop-shadow(0px 1px 2px rgba(0, 0, 0, 0.3));\n",
              "      fill: #FFFFFF;\n",
              "    }\n",
              "  </style>\n",
              "\n",
              "      <script>\n",
              "        const buttonEl =\n",
              "          document.querySelector('#df-1eb2e18b-0220-4ae3-a872-9828bd412226 button.colab-df-convert');\n",
              "        buttonEl.style.display =\n",
              "          google.colab.kernel.accessAllowed ? 'block' : 'none';\n",
              "\n",
              "        async function convertToInteractive(key) {\n",
              "          const element = document.querySelector('#df-1eb2e18b-0220-4ae3-a872-9828bd412226');\n",
              "          const dataTable =\n",
              "            await google.colab.kernel.invokeFunction('convertToInteractive',\n",
              "                                                     [key], {});\n",
              "          if (!dataTable) return;\n",
              "\n",
              "          const docLinkHtml = 'Like what you see? Visit the ' +\n",
              "            '<a target=\"_blank\" href=https://colab.research.google.com/notebooks/data_table.ipynb>data table notebook</a>'\n",
              "            + ' to learn more about interactive tables.';\n",
              "          element.innerHTML = '';\n",
              "          dataTable['output_type'] = 'display_data';\n",
              "          await google.colab.output.renderOutput(dataTable, element);\n",
              "          const docLink = document.createElement('div');\n",
              "          docLink.innerHTML = docLinkHtml;\n",
              "          element.appendChild(docLink);\n",
              "        }\n",
              "      </script>\n",
              "    </div>\n",
              "  </div>\n",
              "  "
            ]
          },
          "metadata": {},
          "execution_count": 103
        }
      ]
    },
    {
      "cell_type": "markdown",
      "source": [
        "## Modeling"
      ],
      "metadata": {
        "id": "A_J5Cmd6oG40"
      }
    },
    {
      "cell_type": "code",
      "source": [
        "from sklearn.metrics import accuracy_score, precision_score, recall_score, f1_score, roc_auc_score\n",
        "from sklearn.model_selection import cross_validate\n",
        "\n",
        "def eval_classification(model):\n",
        "    y_pred = model.predict(x_test)\n",
        "    y_pred_train = model.predict(x_train)\n",
        "    y_pred_proba = model.predict_proba(x_test)\n",
        "    y_pred_proba_train = model.predict_proba(x_train)\n",
        "    \n",
        "    print(\"Accuracy (Test Set): %.2f\" % accuracy_score(y_test, y_pred))\n",
        "    print(\"Precision (Test Set): %.2f\" % precision_score(y_test, y_pred))\n",
        "    print(\"Recall (Test Set): %.2f\" % recall_score(y_test, y_pred))\n",
        "    print(\"F1-Score (Test Set): %.2f\" % f1_score(y_test, y_pred))\n",
        "    \n",
        "    print(\"roc_auc (test-proba): %.2f\" % roc_auc_score(y_test, y_pred_proba[:, 1]))\n",
        "    print(\"roc_auc (train-proba): %.2f\" % roc_auc_score(y_train, y_pred_proba_train[:, 1]))\n",
        "\n",
        "    score = cross_validate(model, x, y, cv=5, scoring='roc_auc', return_train_score=True)\n",
        "    print('roc_auc (crossval train): '+ str(score['train_score'].mean()))\n",
        "    print('roc_auc (crossval test): '+ str(score['test_score'].mean()))\n",
        "\n",
        "def show_feature_importance(model):\n",
        "    feat_importances = pd.Series(model.feature_importances_, index=x.columns)\n",
        "    ax = feat_importances.nlargest(25).plot(kind='barh', figsize=(10, 8))\n",
        "    ax.invert_yaxis()\n",
        "\n",
        "    plt.xlabel('score')\n",
        "    plt.ylabel('feature')\n",
        "    plt.title('feature importance score')\n",
        "\n",
        "def show_best_hyperparameter(model):\n",
        "    print(model.best_estimator_.get_params())"
      ],
      "metadata": {
        "id": "qVByRiursF7d"
      },
      "execution_count": null,
      "outputs": []
    },
    {
      "cell_type": "markdown",
      "source": [
        "## Decision Tree"
      ],
      "metadata": {
        "id": "fCKnSxsMwB43"
      }
    },
    {
      "cell_type": "code",
      "source": [
        "from sklearn.tree import DecisionTreeClassifier\n",
        "from sklearn import tree\n",
        "dt = DecisionTreeClassifier(random_state=42)\n",
        "dt.fit(x_train, y_train)\n",
        "eval_classification(dt)"
      ],
      "metadata": {
        "colab": {
          "base_uri": "https://localhost:8080/"
        },
        "id": "6dD3XqWAu-7l",
        "outputId": "103e89b3-53ed-4165-c60d-95edcdf7f8f3"
      },
      "execution_count": null,
      "outputs": [
        {
          "output_type": "stream",
          "name": "stdout",
          "text": [
            "Accuracy (Test Set): 0.94\n",
            "Precision (Test Set): 0.78\n",
            "Recall (Test Set): 0.87\n",
            "F1-Score (Test Set): 0.82\n",
            "roc_auc (test-proba): 0.91\n",
            "roc_auc (train-proba): 1.00\n",
            "roc_auc (crossval train): 1.0\n",
            "roc_auc (crossval test): 0.9649479771485725\n"
          ]
        }
      ]
    },
    {
      "cell_type": "markdown",
      "source": [
        "## Logistic Regression"
      ],
      "metadata": {
        "id": "nFWX-bJFwJWx"
      }
    },
    {
      "cell_type": "code",
      "source": [
        "from sklearn.linear_model import LogisticRegression \n",
        "logreg = LogisticRegression(random_state=42)\n",
        "logreg.fit(x_train, y_train)\n",
        "eval_classification(logreg)"
      ],
      "metadata": {
        "colab": {
          "base_uri": "https://localhost:8080/"
        },
        "id": "jao3ZGZUwPe7",
        "outputId": "a9dd1736-90bb-4c85-9f60-87e252232123"
      },
      "execution_count": null,
      "outputs": [
        {
          "output_type": "stream",
          "name": "stdout",
          "text": [
            "Accuracy (Test Set): 0.89\n",
            "Precision (Test Set): 0.69\n",
            "Recall (Test Set): 0.54\n",
            "F1-Score (Test Set): 0.61\n",
            "roc_auc (test-proba): 0.89\n",
            "roc_auc (train-proba): 0.89\n"
          ]
        },
        {
          "output_type": "stream",
          "name": "stderr",
          "text": [
            "/usr/local/lib/python3.8/dist-packages/sklearn/linear_model/_logistic.py:814: ConvergenceWarning: lbfgs failed to converge (status=1):\n",
            "STOP: TOTAL NO. of ITERATIONS REACHED LIMIT.\n",
            "\n",
            "Increase the number of iterations (max_iter) or scale the data as shown in:\n",
            "    https://scikit-learn.org/stable/modules/preprocessing.html\n",
            "Please also refer to the documentation for alternative solver options:\n",
            "    https://scikit-learn.org/stable/modules/linear_model.html#logistic-regression\n",
            "  n_iter_i = _check_optimize_result(\n",
            "/usr/local/lib/python3.8/dist-packages/sklearn/linear_model/_logistic.py:814: ConvergenceWarning: lbfgs failed to converge (status=1):\n",
            "STOP: TOTAL NO. of ITERATIONS REACHED LIMIT.\n",
            "\n",
            "Increase the number of iterations (max_iter) or scale the data as shown in:\n",
            "    https://scikit-learn.org/stable/modules/preprocessing.html\n",
            "Please also refer to the documentation for alternative solver options:\n",
            "    https://scikit-learn.org/stable/modules/linear_model.html#logistic-regression\n",
            "  n_iter_i = _check_optimize_result(\n",
            "/usr/local/lib/python3.8/dist-packages/sklearn/linear_model/_logistic.py:814: ConvergenceWarning: lbfgs failed to converge (status=1):\n",
            "STOP: TOTAL NO. of ITERATIONS REACHED LIMIT.\n",
            "\n",
            "Increase the number of iterations (max_iter) or scale the data as shown in:\n",
            "    https://scikit-learn.org/stable/modules/preprocessing.html\n",
            "Please also refer to the documentation for alternative solver options:\n",
            "    https://scikit-learn.org/stable/modules/linear_model.html#logistic-regression\n",
            "  n_iter_i = _check_optimize_result(\n",
            "/usr/local/lib/python3.8/dist-packages/sklearn/linear_model/_logistic.py:814: ConvergenceWarning: lbfgs failed to converge (status=1):\n",
            "STOP: TOTAL NO. of ITERATIONS REACHED LIMIT.\n",
            "\n",
            "Increase the number of iterations (max_iter) or scale the data as shown in:\n",
            "    https://scikit-learn.org/stable/modules/preprocessing.html\n",
            "Please also refer to the documentation for alternative solver options:\n",
            "    https://scikit-learn.org/stable/modules/linear_model.html#logistic-regression\n",
            "  n_iter_i = _check_optimize_result(\n"
          ]
        },
        {
          "output_type": "stream",
          "name": "stdout",
          "text": [
            "roc_auc (crossval train): 0.8811941367341417\n",
            "roc_auc (crossval test): 0.8798283803000689\n"
          ]
        },
        {
          "output_type": "stream",
          "name": "stderr",
          "text": [
            "/usr/local/lib/python3.8/dist-packages/sklearn/linear_model/_logistic.py:814: ConvergenceWarning: lbfgs failed to converge (status=1):\n",
            "STOP: TOTAL NO. of ITERATIONS REACHED LIMIT.\n",
            "\n",
            "Increase the number of iterations (max_iter) or scale the data as shown in:\n",
            "    https://scikit-learn.org/stable/modules/preprocessing.html\n",
            "Please also refer to the documentation for alternative solver options:\n",
            "    https://scikit-learn.org/stable/modules/linear_model.html#logistic-regression\n",
            "  n_iter_i = _check_optimize_result(\n",
            "/usr/local/lib/python3.8/dist-packages/sklearn/linear_model/_logistic.py:814: ConvergenceWarning: lbfgs failed to converge (status=1):\n",
            "STOP: TOTAL NO. of ITERATIONS REACHED LIMIT.\n",
            "\n",
            "Increase the number of iterations (max_iter) or scale the data as shown in:\n",
            "    https://scikit-learn.org/stable/modules/preprocessing.html\n",
            "Please also refer to the documentation for alternative solver options:\n",
            "    https://scikit-learn.org/stable/modules/linear_model.html#logistic-regression\n",
            "  n_iter_i = _check_optimize_result(\n"
          ]
        }
      ]
    },
    {
      "cell_type": "markdown",
      "source": [
        "## ADABoost"
      ],
      "metadata": {
        "id": "WlxeCfMAwl43"
      }
    },
    {
      "cell_type": "code",
      "source": [
        "from sklearn.ensemble import AdaBoostClassifier\n",
        "\n",
        "ada = AdaBoostClassifier(random_state=42)\n",
        "ada.fit(x_train, y_train)\n",
        "eval_classification(ada)"
      ],
      "metadata": {
        "colab": {
          "base_uri": "https://localhost:8080/"
        },
        "id": "0SuZ_nquwrKW",
        "outputId": "32d08c17-1f04-4193-c24e-67f11c1d67a1"
      },
      "execution_count": null,
      "outputs": [
        {
          "output_type": "stream",
          "name": "stdout",
          "text": [
            "Accuracy (Test Set): 0.90\n",
            "Precision (Test Set): 0.71\n",
            "Recall (Test Set): 0.66\n",
            "F1-Score (Test Set): 0.68\n",
            "roc_auc (test-proba): 0.92\n",
            "roc_auc (train-proba): 0.93\n",
            "roc_auc (crossval train): 0.929020862782937\n",
            "roc_auc (crossval test): 0.9184039229544763\n"
          ]
        }
      ]
    },
    {
      "cell_type": "markdown",
      "source": [
        "## XGBoost"
      ],
      "metadata": {
        "id": "sD4Orc2sxGbc"
      }
    },
    {
      "cell_type": "code",
      "source": [
        "from xgboost import XGBClassifier\n",
        "\n",
        "xg = XGBClassifier(random_state=42)\n",
        "xg.fit(x_train, y_train)\n",
        "eval_classification(xg)"
      ],
      "metadata": {
        "colab": {
          "base_uri": "https://localhost:8080/"
        },
        "id": "JeKExSfhxPpy",
        "outputId": "5b4603da-e9f9-4233-fba1-828b120d5c68"
      },
      "execution_count": null,
      "outputs": [
        {
          "output_type": "stream",
          "name": "stdout",
          "text": [
            "Accuracy (Test Set): 0.92\n",
            "Precision (Test Set): 0.77\n",
            "Recall (Test Set): 0.66\n",
            "F1-Score (Test Set): 0.71\n",
            "roc_auc (test-proba): 0.94\n",
            "roc_auc (train-proba): 0.96\n",
            "roc_auc (crossval train): 0.9584331274266065\n",
            "roc_auc (crossval test): 0.9470698277614831\n"
          ]
        }
      ]
    },
    {
      "cell_type": "markdown",
      "source": [
        "## Random Forest Model"
      ],
      "metadata": {
        "id": "x6slJQ1Zxb4A"
      }
    },
    {
      "cell_type": "code",
      "source": [
        "from sklearn.ensemble import RandomForestClassifier\n",
        "\n",
        "rf = RandomForestClassifier(random_state=42)\n",
        "rf.fit(x_train, y_train)\n",
        "\n",
        "y_pred = rf.predict(x_test)\n",
        "eval_classification(rf)"
      ],
      "metadata": {
        "colab": {
          "base_uri": "https://localhost:8080/"
        },
        "id": "Y9VBGJzbxfGp",
        "outputId": "2241cc76-e8ba-4c32-bed4-0a5729bdeb07"
      },
      "execution_count": null,
      "outputs": [
        {
          "output_type": "stream",
          "name": "stdout",
          "text": [
            "Accuracy (Test Set): 0.97\n",
            "Precision (Test Set): 0.93\n",
            "Recall (Test Set): 0.84\n",
            "F1-Score (Test Set): 0.88\n",
            "roc_auc (test-proba): 0.98\n",
            "roc_auc (train-proba): 1.00\n",
            "roc_auc (crossval train): 1.0\n",
            "roc_auc (crossval test): 0.9991232413149863\n"
          ]
        }
      ]
    },
    {
      "cell_type": "markdown",
      "source": [
        "Dengan melihat hasil evaluation pada masing-masing model, kami memutuskan menggunakan model Random Forest yang memiliki gap roc_auc yang rendah dan precision yang tinggi "
      ],
      "metadata": {
        "id": "j-vR8WYm1gN6"
      }
    },
    {
      "cell_type": "code",
      "source": [
        "# Random Forest Modeling setelah Oversampling\n",
        "from sklearn.ensemble import RandomForestClassifier\n",
        "\n",
        "rf = RandomForestClassifier(random_state=42)\n",
        "rf.fit(x_train_smote, y_train_smote)\n",
        "\n",
        "y_pred_over = rf.predict(x_test)\n",
        "eval_classification(rf)"
      ],
      "metadata": {
        "id": "IXNL_H615BNv",
        "colab": {
          "base_uri": "https://localhost:8080/"
        },
        "outputId": "d6cd47d3-5891-4da0-ef52-3727bab07af4"
      },
      "execution_count": null,
      "outputs": [
        {
          "output_type": "stream",
          "name": "stdout",
          "text": [
            "Accuracy (Test Set): 0.96\n",
            "Precision (Test Set): 0.91\n",
            "Recall (Test Set): 0.85\n",
            "F1-Score (Test Set): 0.88\n",
            "roc_auc (test-proba): 0.99\n",
            "roc_auc (train-proba): 1.00\n",
            "roc_auc (crossval train): 1.0\n",
            "roc_auc (crossval test): 0.9991232413149863\n"
          ]
        }
      ]
    },
    {
      "cell_type": "markdown",
      "source": [
        "## K-Fold Cross Validation"
      ],
      "metadata": {
        "id": "wZAyuK8v6H0a"
      }
    },
    {
      "cell_type": "code",
      "source": [
        "# cek train dan validation masing-masing iterasi\n",
        "from sklearn.model_selection import KFold\n",
        "\n",
        "import pandas as pd\n",
        "\n",
        "dataset = df_new\n",
        "x = df_new[[col for col in df_new.columns if col not in ['Churn_Class','Churn', 'CustomerID']]]\n",
        "y = df_new['Churn_Class']\n",
        "kf = KFold(n_splits=5, random_state=42, shuffle=True)\n",
        "kf.get_n_splits(x) # returns the number of splitting iterations in the cross-validatorprint(kf)"
      ],
      "metadata": {
        "colab": {
          "base_uri": "https://localhost:8080/"
        },
        "id": "O4OfKE3G6M8k",
        "outputId": "328857ad-5771-45a9-9c96-daed739aba38"
      },
      "execution_count": null,
      "outputs": [
        {
          "output_type": "execute_result",
          "data": {
            "text/plain": [
              "5"
            ]
          },
          "metadata": {},
          "execution_count": 110
        }
      ]
    },
    {
      "cell_type": "code",
      "source": [
        "for train_index, test_index in kf.split(x):\n",
        "    print(\"TRAIN:\", train_index, \"TEST:\", test_index)\n",
        "    x_train, x_test = x.iloc[train_index], x.iloc[test_index]\n",
        "    y_train, y_test = y.iloc[train_index], y.iloc[test_index]"
      ],
      "metadata": {
        "colab": {
          "base_uri": "https://localhost:8080/"
        },
        "id": "GDnmKM8g6YY0",
        "outputId": "c4965c1f-ba1e-4b82-95c7-2f7d20d0d7a6"
      },
      "execution_count": null,
      "outputs": [
        {
          "output_type": "stream",
          "name": "stdout",
          "text": [
            "TRAIN: [   0    1    2 ... 5616 5617 5618] TEST: [   8   12   15 ... 5595 5604 5612]\n",
            "TRAIN: [   0    1    2 ... 5615 5616 5617] TEST: [  14   19   24 ... 5613 5614 5618]\n",
            "TRAIN: [   1    2    3 ... 5614 5615 5618] TEST: [   0    6    7 ... 5599 5616 5617]\n",
            "TRAIN: [   0    3    4 ... 5616 5617 5618] TEST: [   1    2   10 ... 5610 5611 5615]\n",
            "TRAIN: [   0    1    2 ... 5616 5617 5618] TEST: [   3    4    5 ... 5600 5606 5608]\n"
          ]
        }
      ]
    },
    {
      "cell_type": "markdown",
      "source": [
        "## Cross Validation in Validation Set Only"
      ],
      "metadata": {
        "id": "XNrhRSbO-YWS"
      }
    },
    {
      "cell_type": "code",
      "source": [
        "from sklearn.model_selection import cross_val_score\n",
        "model = RandomForestClassifier()\n",
        "result = cross_val_score(model, x, y, cv=kf, scoring='roc_auc')\n",
        "result.mean()"
      ],
      "metadata": {
        "id": "okkPSaRP70Zb",
        "colab": {
          "base_uri": "https://localhost:8080/"
        },
        "outputId": "2cc927a9-4eab-4e56-93c2-c10b7065a7bc"
      },
      "execution_count": null,
      "outputs": [
        {
          "output_type": "execute_result",
          "data": {
            "text/plain": [
              "0.9902811418924327"
            ]
          },
          "metadata": {},
          "execution_count": 112
        }
      ]
    },
    {
      "cell_type": "markdown",
      "source": [
        "## Cross Validation in Train Set & Validation Set\n"
      ],
      "metadata": {
        "id": "LjhpGgug-juu"
      }
    },
    {
      "cell_type": "code",
      "source": [
        "from sklearn.model_selection import cross_validate\n",
        "from sklearn.linear_model import LinearRegression\n",
        "model = RandomForestClassifier()\n",
        "score = cross_validate(model, x, y, cv=kf, scoring='roc_auc', return_train_score=True)\n",
        "print('roc_auc (train): '+ str(score['train_score'].mean()))\n",
        "print('roc_auc (test): '+ str(score['test_score'].mean()))"
      ],
      "metadata": {
        "colab": {
          "base_uri": "https://localhost:8080/"
        },
        "id": "AGyTIkjN-dr6",
        "outputId": "d21eb0f6-e3cb-4f94-f89a-5191e50f57b5"
      },
      "execution_count": null,
      "outputs": [
        {
          "output_type": "stream",
          "name": "stdout",
          "text": [
            "roc_auc (train): 1.0\n",
            "roc_auc (test): 0.9907559233968597\n"
          ]
        }
      ]
    },
    {
      "cell_type": "markdown",
      "source": [
        "Setelah dilakukan k-fold cross validation, model sudah best-fit terlihat dengan score roc_auc yang memiliki selisih cukup kecil"
      ],
      "metadata": {
        "id": "4daO3LoZ-y5S"
      }
    },
    {
      "cell_type": "markdown",
      "source": [
        "## Hyperparameter Tuning"
      ],
      "metadata": {
        "id": "uCm5e9xz_qm5"
      }
    },
    {
      "cell_type": "code",
      "source": [
        "# Hyperparameter Tuning RandomForest\n",
        "from sklearn.model_selection import RandomizedSearchCV\n",
        "\n",
        "n_estimators = [int(x) for x in np.linspace(700, 800, 50)]\n",
        "criterion = ['gini', 'entropy']\n",
        "max_depth = [int(x) for x in np.linspace(2, 100, 50)]\n",
        "min_samples_split = [int(x) for x in np.linspace(2, 20, 10)]\n",
        "min_samples_leaf = [int(x) for x in np.linspace(2, 20, 10)]\n",
        "hyperparameters = dict(n_estimators=n_estimators, criterion=criterion, max_depth=max_depth,\n",
        "                       min_samples_split=min_samples_split, min_samples_leaf=min_samples_leaf)\n",
        "\n",
        "rf = RandomForestClassifier(random_state=42)\n",
        "rs = RandomizedSearchCV(rf, hyperparameters, scoring='roc_auc', random_state=42, cv=5)\n",
        "rs.fit(x_train_smote, y_train_smote)\n",
        "eval_classification(rs)"
      ],
      "metadata": {
        "id": "olj0dqP0-sN6",
        "colab": {
          "base_uri": "https://localhost:8080/"
        },
        "outputId": "6868c236-6d00-461a-d4ec-64ba30e4b095"
      },
      "execution_count": null,
      "outputs": [
        {
          "output_type": "stream",
          "name": "stdout",
          "text": [
            "Accuracy (Test Set): 0.93\n",
            "Precision (Test Set): 0.83\n",
            "Recall (Test Set): 0.79\n",
            "F1-Score (Test Set): 0.81\n",
            "roc_auc (test-proba): 0.97\n",
            "roc_auc (train-proba): 1.00\n",
            "roc_auc (crossval train): 0.997680206471651\n",
            "roc_auc (crossval test): 0.9864311680454506\n"
          ]
        }
      ]
    },
    {
      "cell_type": "markdown",
      "source": [
        "## Learning Curve"
      ],
      "metadata": {
        "id": "kAOYfdt8HEKT"
      }
    },
    {
      "cell_type": "code",
      "source": [
        "# param_values = [int(x) for x in np.linspace(700, 800, 50)] # n_estimators\n",
        "# param_values = [int(x) for x in np.linspace(750, 800, 50)] # max_depth\n",
        "# param_values = [int(x) for x in np.linspace(2, 20, 15)] # min_samples_split\n",
        "param_values = [int(x) for x in np.linspace(10, 40, 50)] # min_samples_leaf\n",
        "\n",
        "train_scores = []\n",
        "test_scores = []\n",
        "\n",
        "for i in param_values:\n",
        "    model = RandomForestClassifier(n_estimators=75, min_samples_leaf=i)\n",
        "    model.fit(x_train_smote, y_train_smote)\n",
        "\n",
        "    # eval on train\n",
        "    y_pred_train_proba = model.predict_proba(x_train_smote)\n",
        "    train_auc = roc_auc_score(y_train_smote, y_pred_train_proba[:,1])\n",
        "    train_scores.append(train_auc)\n",
        "\n",
        "    # eval on test\n",
        "    y_pred_proba = model.predict_proba(x_test)\n",
        "    test_auc = roc_auc_score(y_test, y_pred_proba[:,1])\n",
        "    test_scores.append(test_auc)\n",
        "\n",
        "    print('param value: ' + str(i) + '; train: ' + str(train_auc) + '; test: '+ str(test_auc))\n",
        "\n",
        "plt.plot(param_values, train_scores, label='Train')\n",
        "plt.plot(param_values, test_scores, label='Test')\n",
        "plt.ylabel('AUC')\n",
        "plt.xlabel('RandomForest')\n",
        "plt.legend()\n",
        "plt.show()"
      ],
      "metadata": {
        "colab": {
          "base_uri": "https://localhost:8080/",
          "height": 1000
        },
        "id": "33RwAeL-HKFX",
        "outputId": "3e506c16-1f3f-4183-b927-26cf2300421f"
      },
      "execution_count": null,
      "outputs": [
        {
          "output_type": "stream",
          "name": "stdout",
          "text": [
            "param value: 10; train: 0.9941481045557017; test: 0.9485732504383867\n",
            "param value: 10; train: 0.9945831770501531; test: 0.9434985918486637\n",
            "param value: 11; train: 0.9934326630533216; test: 0.9422711089855996\n",
            "param value: 11; train: 0.9932465076877125; test: 0.9435304745204316\n",
            "param value: 12; train: 0.9921731679404677; test: 0.9408204474201605\n",
            "param value: 13; train: 0.9910755470585784; test: 0.9409267229927201\n",
            "param value: 13; train: 0.9908433143351204; test: 0.9372867846325521\n",
            "param value: 14; train: 0.988905438399081; test: 0.9389074871140868\n",
            "param value: 14; train: 0.9902247843789095; test: 0.9363196769222594\n",
            "param value: 15; train: 0.9884494926485314; test: 0.9328125830277911\n",
            "param value: 16; train: 0.9872264192376448; test: 0.9351293905095913\n",
            "param value: 16; train: 0.9874008600207497; test: 0.9341888516924386\n",
            "param value: 17; train: 0.9855857387098581; test: 0.9281258302779105\n",
            "param value: 17; train: 0.9864446660985449; test: 0.9293958233699985\n",
            "param value: 18; train: 0.9854033462101446; test: 0.9301982039428237\n",
            "param value: 19; train: 0.9854117949090413; test: 0.9278282586747436\n",
            "param value: 19; train: 0.984795678866801; test: 0.9293320580264626\n",
            "param value: 20; train: 0.9829214876611013; test: 0.9256336681013868\n",
            "param value: 21; train: 0.9811466929130113; test: 0.9255699027578511\n",
            "param value: 21; train: 0.9821087796252028; test: 0.9266804824910994\n",
            "param value: 22; train: 0.9809830437453039; test: 0.922014984855731\n",
            "param value: 22; train: 0.9807303637505663; test: 0.9203145756947766\n",
            "param value: 23; train: 0.9799883691945103; test: 0.923168074818003\n",
            "param value: 24; train: 0.9788514867118651; test: 0.9206759126414793\n",
            "param value: 24; train: 0.9804081772329716; test: 0.9230511716881874\n",
            "param value: 25; train: 0.9788834355732396; test: 0.9186513629842181\n",
            "param value: 25; train: 0.9788661831880973; test: 0.9165045964185131\n",
            "param value: 26; train: 0.977921064871169; test: 0.9197672564960944\n",
            "param value: 27; train: 0.9772433230252107; test: 0.9215048621074446\n",
            "param value: 27; train: 0.9779057294177094; test: 0.9180190233274882\n",
            "param value: 28; train: 0.9760422588299374; test: 0.910856049736968\n",
            "param value: 28; train: 0.975671652037993; test: 0.9206546575269675\n",
            "param value: 29; train: 0.9761900755618971; test: 0.9116265476380254\n",
            "param value: 30; train: 0.9750832960064135; test: 0.9166374408842127\n",
            "param value: 30; train: 0.9753735336626338; test: 0.914437536532228\n",
            "param value: 31; train: 0.9726514196760543; test: 0.915075189967586\n",
            "param value: 32; train: 0.9731799958381283; test: 0.9137998830968701\n",
            "param value: 32; train: 0.972628771483213; test: 0.9132366225623041\n",
            "param value: 33; train: 0.9734518451496909; test: 0.9126680482491099\n",
            "param value: 33; train: 0.9733239787067229; test: 0.9185663425261703\n",
            "param value: 34; train: 0.9713254709315415; test: 0.9157819225251077\n",
            "param value: 35; train: 0.9696343112027831; test: 0.9143737711886922\n",
            "param value: 35; train: 0.9712813815028445; test: 0.912030394813752\n",
            "param value: 36; train: 0.9696037112933332; test: 0.9103565545459376\n",
            "param value: 36; train: 0.9700882690241803; test: 0.9111057973324832\n",
            "param value: 37; train: 0.9705057341461407; test: 0.912019767256496\n",
            "param value: 38; train: 0.9698981378002669; test: 0.907869706148042\n",
            "param value: 38; train: 0.9684006591689078; test: 0.9072426802699399\n",
            "param value: 39; train: 0.9674709473029091; test: 0.9117434507678409\n",
            "param value: 40; train: 0.9682034991954922; test: 0.9058610978266645\n"
          ]
        },
        {
          "output_type": "display_data",
          "data": {
            "text/plain": [
              "<Figure size 432x288 with 1 Axes>"
            ],
            "image/png": "[encoded data removed]"
          },
          "metadata": {
            "needs_background": "light"
          }
        }
      ]
    },
    {
      "cell_type": "markdown",
      "source": [
        "## Feature Importance"
      ],
      "metadata": {
        "id": "LwgpSuvrHCP-"
      }
    },
    {
      "cell_type": "code",
      "source": [
        "show_feature_importance(rf)"
      ],
      "metadata": {
        "id": "84xZaMkDI_AK",
        "outputId": "b9f63372-312e-4652-d21a-b804c1dbe82c",
        "colab": {
          "base_uri": "https://localhost:8080/",
          "height": 513
        }
      },
      "execution_count": null,
      "outputs": [
        {
          "output_type": "display_data",
          "data": {
            "text/plain": [
              "<Figure size 720x576 with 1 Axes>"
            ],
            "image/png": "[encoded data removed]"
          },
          "metadata": {
            "needs_background": "light"
          }
        }
      ]
    },
    {
      "cell_type": "code",
      "source": [
        "import shap\n",
        "explainer = shap.TreeExplainer(rf)\n",
        "shap_values = explainer.shap_values(x_test)\n",
        "shap.summary_plot(shap_values[1], x_test)"
      ],
      "metadata": {
        "id": "ksDP1fRhJBAo",
        "colab": {
          "base_uri": "https://localhost:8080/",
          "height": 693
        },
        "outputId": "6d0d9285-eeb4-434b-ef10-d03e6fed892d"
      },
      "execution_count": null,
      "outputs": [
        {
          "output_type": "display_data",
          "data": {
            "text/plain": [
              "<Figure size 576x684 with 2 Axes>"
            ],
            "image/png": "[encoded data removed]"
          },
          "metadata": {
            "needs_background": "light"
          }
        }
      ]
    },
    {
      "cell_type": "markdown",
      "source": [
        "Evaluasi Feature Importance & Business Insight:\n",
        "\n",
        "* Berdasarkan feature importance yang telah dilakukan, feature tenure merupakan  feature paling berpengaruh untuk mengidentifikasi kecenderungan customer churn. Dari grafik dapat dilihat semakin kecil tenure, semakin besar customer akan melakukan churn.\n",
        "* Pada feature preferred payment mode debit card, semakin banyak pemesanan dengan pembayaran debit card dan credit card, semakin besar customer akan melakukan churn.  \n",
        "* Pada feature DaySinceLastOrder semakin singkat interval pemesanan, semakin besar customer melakukan churn. \n",
        "* Pada feature preferred order cat pada laptop dan accessory, semakin tinggi order, semakin besar customer melakukan churn.\n",
        "* Potensi churn yang sangat besar berada di kategori electronic didominasi oleh male.\n",
        "\n",
        "\n",
        "\n",
        "\n"
      ],
      "metadata": {
        "id": "_fqP0rapMy8x"
      }
    },
    {
      "cell_type": "markdown",
      "source": [
        "Rekomendasi Businesss:\n",
        "* Rebranding dengan memberikan jaminan produk asli dan garansi untuk produk electronic\n",
        "*   Untuk customer dengan tenure 0-2 bulan dapat diberikan package promo cashback untuk mencegah potensi churn terhadap customer baru.\n",
        "*   Dapat bekerja sama dengan layanan digital wallet lainnya agar customer dapat melakukan transaksi selain menggunakan debit/kredit.\n",
        "* Memberikan rekomendasi produk sesuai kategori yang terpopuler berdasarkan minat customer sebelumnya, sehingga dapat menarik minat customer untuk melakukan pembelian.\n",
        "*   Memberi pesan notifikasi bagi customer yang sudah pernah memesan, untuk ditarik kembali memesan produk-produk lainnya.\n",
        "\n",
        "\n",
        "\n",
        "\n",
        "\n"
      ],
      "metadata": {
        "id": "tvrIWf6yWE-h"
      }
    },
    {
      "cell_type": "code",
      "source": [],
      "metadata": {
        "id": "So2qT3JJWsG5"
      },
      "execution_count": null,
      "outputs": []
    }
  ],
  "metadata": {
    "colab": {
      "provenance": []
    },
    "kernelspec": {
      "display_name": "Python 3",
      "name": "python3"
    },
    "language_info": {
      "name": "python"
    }
  },
  "nbformat": 4,
  "nbformat_minor": 0
}